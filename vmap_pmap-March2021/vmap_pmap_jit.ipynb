{
 "cells": [
  {
   "cell_type": "code",
   "execution_count": 1,
   "metadata": {},
   "outputs": [
    {
     "name": "stderr",
     "output_type": "stream",
     "text": [
      "WARNING:absl:No GPU/TPU found, falling back to CPU. (Set TF_CPP_MIN_LOG_LEVEL=0 and rerun for more info.)\n"
     ]
    },
    {
     "name": "stdout",
     "output_type": "stream",
     "text": [
      "Number of devices: 10\n"
     ]
    }
   ],
   "source": [
    "%matplotlib inline\n",
    "\n",
    "import matplotlib.pyplot as plt\n",
    "import seaborn as sns\n",
    "sns.set_style(\"darkgrid\")\n",
    "import numpy as np\n",
    "import time\n",
    "import jax.numpy as jnp\n",
    "from jax import random, jit, value_and_grad, lax, partial, nn, vmap, device_count, pmap\n",
    "from jax.scipy.stats import norm\n",
    "from jax.scipy.special import logsumexp\n",
    "\n",
    "from jax.experimental import optimizers\n",
    "\n",
    "from util import progress_bar_scan, wait_until_computed, init_params, set_host_device_count\n",
    "\n",
    "set_host_device_count(10)\n",
    "\n",
    "from tqdm.auto import tqdm\n",
    "\n",
    "\n",
    "print(f\"Number of devices: {device_count()}\")"
   ]
  },
  {
   "cell_type": "markdown",
   "metadata": {},
   "source": [
    "# Jitting loops, progress_bar, and vmap/pmap\n",
    "\n",
    "\n",
    "Overview:\n",
    "\n",
    "1. `lax.scan` vs a python loop\n",
    "2. Progress bar for jitted loops\n",
    "3. Using vmap and pmap for `lax.scan`\n",
    "\n",
    "Examples: \n",
    "- 1D MoG\n",
    "- 5D logistic regression\n",
    "- Neural Network training\n",
    "\n",
    "\n",
    "Relevant blog posts:\n",
    "- My [blog post](https://www.jeremiecoullon.com/2020/11/10/mcmcjax3ways/) about writing samplers in JAX (with benchmarks on CPU and GPU)\n",
    "- Another [blog post](https://www.jeremiecoullon.com/2021/01/29/jax_progress_bar/) about adding a progress bar to jitted loops in JAX "
   ]
  },
  {
   "cell_type": "markdown",
   "metadata": {},
   "source": [
    "# 1. `lax.scan` vs a python loop\n",
    "\n",
    "\n",
    "#### A simple example of `lax.scan`: \n",
    "\n",
    "a loop that increments the argument a given number of times"
   ]
  },
  {
   "cell_type": "code",
   "execution_count": 2,
   "metadata": {},
   "outputs": [],
   "source": [
    "def myloop(x, Niter):\n",
    "    \n",
    "    for i in range(Niter):\n",
    "        x += 1\n",
    "    return x"
   ]
  },
  {
   "cell_type": "code",
   "execution_count": 5,
   "metadata": {},
   "outputs": [
    {
     "data": {
      "text/plain": [
       "44.0"
      ]
     },
     "execution_count": 5,
     "metadata": {},
     "output_type": "execute_result"
    }
   ],
   "source": [
    "myloop(4., 40)"
   ]
  },
  {
   "cell_type": "code",
   "execution_count": 14,
   "metadata": {},
   "outputs": [],
   "source": [
    "# @jit\n",
    "@partial(jit, static_argnums=(1,))\n",
    "def myscan(x, Niter):\n",
    "    \n",
    "    def body(carry, idx):\n",
    "        return carry+1, None\n",
    "    \n",
    "    return lax.scan(body, x, jnp.arange(Niter))[0]"
   ]
  },
  {
   "cell_type": "code",
   "execution_count": 15,
   "metadata": {},
   "outputs": [
    {
     "data": {
      "text/plain": [
       "DeviceArray(10., dtype=float32)"
      ]
     },
     "execution_count": 15,
     "metadata": {},
     "output_type": "execute_result"
    }
   ],
   "source": [
    "myscan(0., 10)"
   ]
  },
  {
   "cell_type": "markdown",
   "metadata": {},
   "source": [
    "#### Jax is asynchronous"
   ]
  },
  {
   "cell_type": "code",
   "execution_count": 25,
   "metadata": {},
   "outputs": [
    {
     "name": "stdout",
     "output_type": "stream",
     "text": [
      "CPU times: user 270 µs, sys: 98 µs, total: 368 µs\n",
      "Wall time: 232 µs\n"
     ]
    },
    {
     "data": {
      "text/plain": [
       "Buffer(16777216., dtype=float32)"
      ]
     },
     "execution_count": 25,
     "metadata": {},
     "output_type": "execute_result"
    }
   ],
   "source": [
    "%time myscan(0., 100000000)"
   ]
  },
  {
   "cell_type": "code",
   "execution_count": 26,
   "metadata": {},
   "outputs": [
    {
     "name": "stdout",
     "output_type": "stream",
     "text": [
      "CPU times: user 255 ms, sys: 3.85 ms, total: 259 ms\n",
      "Wall time: 261 ms\n"
     ]
    },
    {
     "data": {
      "text/plain": [
       "Buffer(16777216., dtype=float32)"
      ]
     },
     "execution_count": 26,
     "metadata": {},
     "output_type": "execute_result"
    }
   ],
   "source": [
    "%time myscan(0., 100000000).block_until_ready()"
   ]
  },
  {
   "cell_type": "code",
   "execution_count": 27,
   "metadata": {},
   "outputs": [],
   "source": [
    "from jax.tree_util import tree_leaves\n",
    "\n",
    "def wait_until_computed(x):\n",
    "    for leaf in tree_leaves(x):\n",
    "        leaf.block_until_ready()"
   ]
  },
  {
   "cell_type": "code",
   "execution_count": 28,
   "metadata": {},
   "outputs": [
    {
     "name": "stdout",
     "output_type": "stream",
     "text": [
      "CPU times: user 250 ms, sys: 2.7 ms, total: 253 ms\n",
      "Wall time: 256 ms\n"
     ]
    }
   ],
   "source": [
    "%time wait_until_computed(myscan(0., 100000000))"
   ]
  },
  {
   "cell_type": "code",
   "execution_count": 22,
   "metadata": {},
   "outputs": [
    {
     "name": "stdout",
     "output_type": "stream",
     "text": [
      "CPU times: user 740 ms, sys: 6.86 ms, total: 747 ms\n",
      "Wall time: 753 ms\n"
     ]
    }
   ],
   "source": [
    "# %time wait_until_computed([myscan(0., 100000000), myscan(0., 100000000),myscan(0., 100000000)])"
   ]
  },
  {
   "cell_type": "code",
   "execution_count": null,
   "metadata": {},
   "outputs": [],
   "source": []
  },
  {
   "cell_type": "markdown",
   "metadata": {},
   "source": [
    "## Let's write a MALA sampler in JAX\n",
    "\n",
    "\n",
    "#### First, define a MoG posterior: \n",
    "\n",
    "- posterior code is from [Massively parallel MCMC with Jax](https://rlouf.github.io/post/jax-random-walk-metropolis/) by Remi Louf"
   ]
  },
  {
   "cell_type": "code",
   "execution_count": 29,
   "metadata": {},
   "outputs": [
    {
     "data": {
      "text/plain": [
       "[<matplotlib.lines.Line2D at 0x12bf5fd30>]"
      ]
     },
     "execution_count": 29,
     "metadata": {},
     "output_type": "execute_result"
    },
    {
     "data": {
      "image/png": "[encoded data removed]",
      "text/plain": [
       "<Figure size 432x288 with 1 Axes>"
      ]
     },
     "metadata": {},
     "output_type": "display_data"
    }
   ],
   "source": [
    "def mixture_logpdf(x):\n",
    "    \"\"\"Log probability distribution function of a gaussian mixture model.\n",
    "    Attribute\n",
    "    ---------\n",
    "    x: np.ndarray (4,)\n",
    "        Position at which to evaluate the probability density function.\n",
    "    Returns\n",
    "    -------\n",
    "    float\n",
    "        The value of the log probability density function at x.\n",
    "    \"\"\"\n",
    "    dist_1 = partial(norm.logpdf, loc=-4.0, scale=1.2)\n",
    "    dist_2 = partial(norm.logpdf, loc=0, scale=1)\n",
    "    dist_3 = partial(norm.logpdf, loc=4., scale=1)\n",
    "    dist_4 = partial(norm.logpdf, loc=2.5, scale=2.8)\n",
    "    log_probs = jnp.array([dist_1(x), dist_2(x), dist_3(x), dist_4(x)])\n",
    "    weights = jnp.array([0.2, 0.3, 0.1, 0.4])\n",
    "    return logsumexp(jnp.log(weights) + log_probs)\n",
    "\n",
    "\n",
    "batch_logpdf = vmap(mixture_logpdf)\n",
    "\n",
    "x_range = np.arange(-7.,8,0.1)\n",
    "plt.plot(x_range, np.exp(batch_logpdf(x_range)))"
   ]
  },
  {
   "cell_type": "markdown",
   "metadata": {},
   "source": [
    "#### MALA update function\n",
    "\n",
    "This is the transition kernel: takes in the current sampler and log-posterior function and returns the new parameter"
   ]
  },
  {
   "cell_type": "code",
   "execution_count": 30,
   "metadata": {},
   "outputs": [],
   "source": [
    "@partial(jit, static_argnums=(3,))\n",
    "def mala_kernel(key, paramCurrent, paramGradCurrent, log_post, logpostCurrent, dt):\n",
    "    dim = paramCurrent.shape[0]\n",
    "    subkey1, subkey2 = random.split(key)\n",
    "    paramProp = paramCurrent + dt*paramGradCurrent + jnp.sqrt(2*dt)*random.normal(key=subkey1, shape=(dim,))\n",
    "    new_log_post, new_grad = log_post(paramProp)\n",
    "\n",
    "    term1 = paramProp - paramCurrent - dt*paramGradCurrent\n",
    "    term2 = paramCurrent - paramProp - dt*new_grad\n",
    "    q_new = -0.25*(1/dt)*jnp.dot(term1, term1)\n",
    "    q_current = -0.25*(1/dt)*jnp.dot(term2, term2)\n",
    "\n",
    "    log_ratio = new_log_post - logpostCurrent + q_current - q_new\n",
    "    acceptBool = jnp.log(random.uniform(key=subkey2)) < log_ratio\n",
    "    paramCurrent = jnp.where(acceptBool, paramProp, paramCurrent)\n",
    "    current_grad = jnp.where(acceptBool, new_grad, paramGradCurrent)\n",
    "    current_log_post = jnp.where(acceptBool, new_log_post, logpostCurrent)\n",
    "    accepts_add = jnp.where(acceptBool, 1,0)\n",
    "    return paramCurrent, current_grad, current_log_post, accepts_add\n",
    "\n"
   ]
  },
  {
   "cell_type": "markdown",
   "metadata": {},
   "source": [
    "#### Sampler 1: a python loop"
   ]
  },
  {
   "cell_type": "code",
   "execution_count": 31,
   "metadata": {},
   "outputs": [],
   "source": [
    "def mala_sampler_python(key, num_samples, dt, val_and_grad_log_post, x_0):\n",
    "    dim, = x_0.shape\n",
    "    samples = np.zeros((num_samples, dim))\n",
    "    paramCurrent = x_0\n",
    "    accepts = 0\n",
    "    current_log_post, current_grad = val_and_grad_log_post(paramCurrent)\n",
    "    \n",
    "    for i in tqdm(range(num_samples)):\n",
    "        key, subkey = random.split(key)\n",
    "        paramCurrent, current_grad, current_log_post, accepts_add = mala_kernel(subkey,\n",
    "                                                                        paramCurrent,\n",
    "                                                                        current_grad,\n",
    "                                                                        val_and_grad_log_post,\n",
    "                                                                        current_log_post,\n",
    "                                                                        dt)\n",
    "        accepts += accepts_add\n",
    "        samples[i] = paramCurrent\n",
    "    accept_rate = accepts/num_samples * 100\n",
    "    print(f\"Acceptance rate: {accept_rate:.1f}%\")\n",
    "    return samples"
   ]
  },
  {
   "cell_type": "code",
   "execution_count": 32,
   "metadata": {},
   "outputs": [
    {
     "data": {
      "application/vnd.jupyter.widget-view+json": {
       "model_id": "d781bd637be9451fb36c789a225043c2",
       "version_major": 2,
       "version_minor": 0
      },
      "text/plain": [
       "HBox(children=(FloatProgress(value=0.0, max=10000.0), HTML(value='')))"
      ]
     },
     "metadata": {},
     "output_type": "display_data"
    },
    {
     "name": "stdout",
     "output_type": "stream",
     "text": [
      "\n",
      "Acceptance rate: 61.4%\n",
      "Sampled 10,000 samples in 5.1 seconds\n"
     ]
    }
   ],
   "source": [
    "key = random.PRNGKey(0)\n",
    "num_samples = 10000\n",
    "dt = 4.\n",
    "x_0 = jnp.array([0.])\n",
    "\n",
    "starttime = time.time()\n",
    "samples_py = mala_sampler_python(key, num_samples, dt, value_and_grad(mixture_logpdf), x_0)\n",
    "\n",
    "\n",
    "endtime = time.time()\n",
    "\n",
    "print(f\"Sampled {num_samples:,} samples in {endtime-starttime:.1f} seconds\")"
   ]
  },
  {
   "cell_type": "code",
   "execution_count": null,
   "metadata": {},
   "outputs": [],
   "source": []
  },
  {
   "cell_type": "code",
   "execution_count": 33,
   "metadata": {},
   "outputs": [],
   "source": [
    "def mala_sampler(key, num_samples, dt, val_and_grad_log_post, x_0):\n",
    "    \n",
    "    def mala_step(carry, x):\n",
    "        key, paramCurrent, gradCurrent, logpostCurrent, accepts = carry\n",
    "        key, subkey = random.split(key)\n",
    "        paramCurrent, gradCurrent, logpostCurrent, accepts_add = mala_kernel(subkey, paramCurrent, gradCurrent, val_and_grad_log_post, logpostCurrent, dt)\n",
    "        accepts += accepts_add\n",
    "        return (key, paramCurrent, gradCurrent, logpostCurrent, accepts), (paramCurrent, gradCurrent)\n",
    "\n",
    "    paramCurrent = x_0\n",
    "    logpostCurrent, gradCurrent = val_and_grad_log_post(x_0)\n",
    "    carry = (key, paramCurrent, gradCurrent, logpostCurrent, 0)\n",
    "    \n",
    "    (_, _, _, _, accepts), (samples, grads) = lax.scan(mala_step, carry, jnp.arange(num_samples))\n",
    "    \n",
    "    return samples, grads, 100*(accepts/num_samples)\n"
   ]
  },
  {
   "cell_type": "code",
   "execution_count": 37,
   "metadata": {},
   "outputs": [
    {
     "name": "stdout",
     "output_type": "stream",
     "text": [
      "Sampled 10,000,000 samples in 5.5 seconds\n"
     ]
    }
   ],
   "source": [
    "key = random.PRNGKey(0)\n",
    "num_samples = 10000000\n",
    "dt = 4.\n",
    "x_0 = jnp.array([0.])\n",
    "\n",
    "starttime = time.time()\n",
    "\n",
    "samples_scan, _, _ = mala_sampler(key, num_samples, dt, \n",
    "                           value_and_grad(mixture_logpdf), jnp.array([0.]))\n",
    "\n",
    "wait_until_computed(samples_scan)\n",
    "\n",
    "endtime = time.time()\n",
    "\n",
    "print(f\"Sampled {num_samples:,} samples in {endtime-starttime:.1f} seconds\")"
   ]
  },
  {
   "cell_type": "markdown",
   "metadata": {},
   "source": [
    "### conclusion:\n",
    "\n",
    "for simple problems, `lax.scan` can be several orders of magnitude faster than a python loop"
   ]
  },
  {
   "cell_type": "markdown",
   "metadata": {},
   "source": [
    "# 2. Progress bar for jitted loops\n",
    "\n",
    "\n",
    "### `host_callback`\n",
    "\n",
    "\n",
    "Side effects only run at compile time, so you can't simply print out a progress bar (or use `tqdm`)"
   ]
  },
  {
   "cell_type": "code",
   "execution_count": 42,
   "metadata": {},
   "outputs": [],
   "source": [
    "@jit\n",
    "def myfun(x):\n",
    "    print(\"running a function\")\n",
    "    return x"
   ]
  },
  {
   "cell_type": "code",
   "execution_count": 47,
   "metadata": {},
   "outputs": [
    {
     "data": {
      "text/plain": [
       "DeviceArray(3, dtype=int32)"
      ]
     },
     "execution_count": 47,
     "metadata": {},
     "output_type": "execute_result"
    }
   ],
   "source": [
    "myfun(3)"
   ]
  },
  {
   "cell_type": "code",
   "execution_count": 48,
   "metadata": {},
   "outputs": [],
   "source": [
    "from jax.experimental import host_callback"
   ]
  },
  {
   "cell_type": "code",
   "execution_count": 49,
   "metadata": {},
   "outputs": [],
   "source": [
    "def _print_consumer(arg, transform):\n",
    "    print(f\"hello\")\n",
    "\n",
    "@jit\n",
    "def myfun2(x):\n",
    "    x = host_callback.id_tap(tap_func=_print_consumer, arg=x)\n",
    "    return x\n",
    "    "
   ]
  },
  {
   "cell_type": "code",
   "execution_count": 58,
   "metadata": {},
   "outputs": [
    {
     "data": {
      "text/plain": [
       "Buffer(623., dtype=float32)"
      ]
     },
     "execution_count": 58,
     "metadata": {},
     "output_type": "execute_result"
    },
    {
     "name": "stdout",
     "output_type": "stream",
     "text": [
      "hello\n"
     ]
    }
   ],
   "source": [
    "myfun2(623.)"
   ]
  },
  {
   "cell_type": "markdown",
   "metadata": {},
   "source": [
    "### in a `lax.scan`"
   ]
  },
  {
   "cell_type": "code",
   "execution_count": 143,
   "metadata": {},
   "outputs": [],
   "source": [
    "def _print_pbar(arg, transform):\n",
    "    print(f\"Iteration {arg[0]}/{arg[1]}\")\n",
    "    \n",
    "    \n",
    "@partial(jit, static_argnums=(1,))\n",
    "def myscan_2(x, Niter):\n",
    "    \n",
    "    def body(carry, idx):\n",
    "        carry = host_callback.id_tap(_print_pbar, arg=(idx, Niter), result=carry)\n",
    "        return carry+1, None\n",
    "    \n",
    "    return lax.scan(body, x, jnp.arange(Niter))[0]"
   ]
  },
  {
   "cell_type": "markdown",
   "metadata": {},
   "source": [
    "##### Note: \n",
    "\n",
    "python prints too slowly compared to Jax, so the order here is wrong.."
   ]
  },
  {
   "cell_type": "code",
   "execution_count": 144,
   "metadata": {},
   "outputs": [
    {
     "name": "stdout",
     "output_type": "stream",
     "text": [
      "Iteration 0/10\n",
      "Iteration 1/10\n",
      "Iteration 2/10"
     ]
    },
    {
     "data": {
      "text/plain": [
       "DeviceArray(12., dtype=float32)"
      ]
     },
     "execution_count": 144,
     "metadata": {},
     "output_type": "execute_result"
    },
    {
     "name": "stdout",
     "output_type": "stream",
     "text": [
      "\n",
      "Iteration 3/10\n",
      "Iteration 4/10\n",
      "Iteration 5/10\n",
      "Iteration 6/10\n",
      "Iteration 7/10\n",
      "Iteration 8/10\n",
      "Iteration 9/10\n"
     ]
    }
   ],
   "source": [
    "\n",
    "myscan_2(2., 10)"
   ]
  },
  {
   "cell_type": "markdown",
   "metadata": {},
   "source": [
    "### `tqdm`\n",
    "\n",
    "Reminder of the usage of `tqdm` progress bar:\n",
    "\n"
   ]
  },
  {
   "cell_type": "code",
   "execution_count": 66,
   "metadata": {},
   "outputs": [
    {
     "data": {
      "application/vnd.jupyter.widget-view+json": {
       "model_id": "114bf2bdebf24448bcdbaffad5fc4aba",
       "version_major": 2,
       "version_minor": 0
      },
      "text/plain": [
       "HBox(children=(FloatProgress(value=0.0, max=10.0), HTML(value='')))"
      ]
     },
     "metadata": {},
     "output_type": "display_data"
    },
    {
     "name": "stdout",
     "output_type": "stream",
     "text": [
      "\n"
     ]
    }
   ],
   "source": [
    "# Standard usage\n",
    "mylist = []\n",
    "\n",
    "for i in tqdm(range(10)):\n",
    "    time.sleep(0.1)\n",
    "    mylist.append(i)\n",
    "    "
   ]
  },
  {
   "cell_type": "code",
   "execution_count": 72,
   "metadata": {},
   "outputs": [
    {
     "data": {
      "application/vnd.jupyter.widget-view+json": {
       "model_id": "58f7f8b83e1a4b35ad46fa16d9f07d76",
       "version_major": 2,
       "version_minor": 0
      },
      "text/plain": [
       "HBox(children=(FloatProgress(value=0.0, max=10.0), HTML(value='')))"
      ]
     },
     "metadata": {},
     "output_type": "display_data"
    },
    {
     "name": "stdout",
     "output_type": "stream",
     "text": [
      "\n"
     ]
    }
   ],
   "source": [
    "# Manual usage\n",
    "mylist = []\n",
    "\n",
    "mypbar = tqdm(range(10))\n",
    "\n",
    "for i in range(10):\n",
    "    time.sleep(0.1)\n",
    "    mylist.append(i)\n",
    "    mypbar.update(1.5)\n",
    "    \n",
    "#     if i%2==0:\n",
    "#         mypbar.update(4)\n",
    "\n",
    "mypbar.close()"
   ]
  },
  {
   "cell_type": "markdown",
   "metadata": {},
   "source": [
    "To use `tqdm` with `host_callback, we need to build a decorator that adds functionality to the `body` function in a `lax.scan` function. Namely:\n",
    "\n",
    "1. Callback that defines the `tqdm` progress bar at the beginning of the scan\n",
    "2. Callback that updates it every few iterations\n",
    "3. Callback that closes the progress bar at the end\n",
    "\n"
   ]
  },
  {
   "cell_type": "code",
   "execution_count": 73,
   "metadata": {},
   "outputs": [],
   "source": [
    "def progress_bar_scan(num_samples, message=None):\n",
    "    \"Progress bar for a JAX scan\"\n",
    "    if message is None:\n",
    "            message = f\"Running for {num_samples:,} iterations\"\n",
    "    tqdm_bars = {}\n",
    "\n",
    "    if num_samples > 20:\n",
    "        print_rate = int(num_samples / 20)\n",
    "    else:\n",
    "        print_rate = 1\n",
    "    remainder = num_samples % print_rate\n",
    "\n",
    "    def _define_tqdm(arg, transform):\n",
    "        tqdm_bars[0] = tqdm(range(num_samples))\n",
    "        tqdm_bars[0].set_description(message, refresh=False)\n",
    "\n",
    "    def _update_tqdm(arg, transform):\n",
    "        tqdm_bars[0].update(arg)\n",
    "\n",
    "    def _update_progress_bar(iter_num):\n",
    "        \"Updates tqdm progress bar of a JAX scan or loop\"\n",
    "        _ = lax.cond(\n",
    "            iter_num == 0,\n",
    "            lambda _: host_callback.id_tap(_define_tqdm, None, result=iter_num),\n",
    "            lambda _: iter_num,\n",
    "            operand=None,\n",
    "        )\n",
    "\n",
    "        _ = lax.cond(\n",
    "            # update tqdm every multiple of `print_rate` except at the end\n",
    "            (iter_num % print_rate == 0) & (iter_num != num_samples-remainder),\n",
    "            lambda _: host_callback.id_tap(_update_tqdm, print_rate, result=iter_num),\n",
    "            lambda _: iter_num,\n",
    "            operand=None,\n",
    "        )\n",
    "\n",
    "        _ = lax.cond(\n",
    "            # update tqdm by `remainder`\n",
    "            iter_num == num_samples-remainder,\n",
    "            lambda _: host_callback.id_tap(_update_tqdm, remainder, result=iter_num),\n",
    "            lambda _: iter_num,\n",
    "            operand=None,\n",
    "        )\n",
    "\n",
    "    def _close_tqdm(arg, transform):\n",
    "        tqdm_bars[0].close()\n",
    "\n",
    "    def close_tqdm(result, iter_num):\n",
    "        return lax.cond(\n",
    "            iter_num == num_samples-1,\n",
    "            lambda _: host_callback.id_tap(_close_tqdm, None, result=result),\n",
    "            lambda _: result,\n",
    "            operand=None,\n",
    "        )\n",
    "\n",
    "\n",
    "    def _progress_bar_scan(func):\n",
    "        \"\"\"Decorator that adds a progress bar to `body_fun` used in `lax.scan`.\n",
    "        Note that `body_fun` must be looping over `np.arange(num_samples)`\n",
    "        \"\"\"\n",
    "\n",
    "        def wrapper_progress_bar(carry, x):\n",
    "            iter_num = x\n",
    "            result = func(carry, x)\n",
    "            _update_progress_bar(iter_num)\n",
    "            return close_tqdm(result, iter_num)\n",
    "\n",
    "        return wrapper_progress_bar\n",
    "\n",
    "    return _progress_bar_scan\n"
   ]
  },
  {
   "cell_type": "code",
   "execution_count": 74,
   "metadata": {},
   "outputs": [],
   "source": [
    "\n",
    "def mala_sampler(key, num_samples, dt, val_and_grad_log_post, x_0):\n",
    "    \n",
    "    @progress_bar_scan(num_samples)\n",
    "    def mala_step(carry, x):\n",
    "        key, paramCurrent, gradCurrent, logpostCurrent, accepts = carry\n",
    "        key, subkey = random.split(key)\n",
    "        paramCurrent, gradCurrent, logpostCurrent, accepts_add = mala_kernel(subkey, paramCurrent, gradCurrent, val_and_grad_log_post, logpostCurrent, dt)\n",
    "        accepts += accepts_add\n",
    "        return (key, paramCurrent, gradCurrent, logpostCurrent, accepts), (paramCurrent, gradCurrent)\n",
    "\n",
    "    paramCurrent = x_0\n",
    "    logpostCurrent, gradCurrent = val_and_grad_log_post(x_0)\n",
    "    carry = (key, paramCurrent, gradCurrent, logpostCurrent, 0)\n",
    "    \n",
    "    (_, _, _, _, accepts), (samples, grads) = lax.scan(mala_step, carry, jnp.arange(num_samples))\n",
    "    \n",
    "    return samples, grads, 100*(accepts/num_samples)\n"
   ]
  },
  {
   "cell_type": "code",
   "execution_count": 79,
   "metadata": {},
   "outputs": [
    {
     "data": {
      "application/vnd.jupyter.widget-view+json": {
       "model_id": "67d686b5cc0243cf8a6ec8168989f518",
       "version_major": 2,
       "version_minor": 0
      },
      "text/plain": [
       "HBox(children=(FloatProgress(value=0.0, max=1000000.0), HTML(value='')))"
      ]
     },
     "metadata": {},
     "output_type": "display_data"
    },
    {
     "name": "stdout",
     "output_type": "stream",
     "text": [
      "\n"
     ]
    }
   ],
   "source": [
    "key = random.PRNGKey(0)\n",
    "num_samples = 1000000\n",
    "dt = 4.\n",
    "x_0 = jnp.array([0.])\n",
    "\n",
    "\n",
    "samples_scan, _, _ = mala_sampler(key, num_samples, dt, \n",
    "                           value_and_grad(mixture_logpdf), jnp.array([0.]))\n",
    "\n",
    "wait_until_computed(samples_scan)\n"
   ]
  },
  {
   "cell_type": "markdown",
   "metadata": {},
   "source": [
    "# 3. vmap/pmap\n",
    "\n",
    "### a simple function"
   ]
  },
  {
   "cell_type": "code",
   "execution_count": 80,
   "metadata": {},
   "outputs": [],
   "source": [
    "def square(x):\n",
    "    return x*x\n",
    "\n",
    "\n",
    "vmap_square = vmap(square)\n",
    "pmap_square = pmap(square)"
   ]
  },
  {
   "cell_type": "code",
   "execution_count": 85,
   "metadata": {},
   "outputs": [
    {
     "data": {
      "text/plain": [
       "DeviceArray([ 0,  1,  4,  9, 16, 25, 36, 49, 64, 81], dtype=int32)"
      ]
     },
     "execution_count": 85,
     "metadata": {},
     "output_type": "execute_result"
    }
   ],
   "source": [
    "x_range = jnp.arange(10)\n",
    "\n",
    "vmap_square(x_range)"
   ]
  },
  {
   "cell_type": "code",
   "execution_count": 86,
   "metadata": {},
   "outputs": [
    {
     "data": {
      "text/plain": [
       "ShardedDeviceArray([ 0,  1,  4,  9, 16, 25, 36, 49, 64, 81], dtype=int32)"
      ]
     },
     "execution_count": 86,
     "metadata": {},
     "output_type": "execute_result"
    }
   ],
   "source": [
    "pmap_square(x_range)"
   ]
  },
  {
   "cell_type": "markdown",
   "metadata": {},
   "source": [
    "### Note:\n",
    "\n",
    "You must set the number of devices _before_ running any jax code (example `jnp.arange(10)`). Once you've run some jax code you it seems that youy can't change the number of devices anymore (at least not with `set_host_device_count(10)`):\n",
    "\n",
    "\n",
    "```python\n",
    "\n",
    "def set_host_device_count(n):\n",
    "    \"\"\"\n",
    "    From Numpyro\n",
    "    By default, XLA considers all CPU cores as one device. This utility tells XLA\n",
    "    that there are `n` host (CPU) devices available to use. As a consequence, this\n",
    "    allows parallel mapping in JAX :func:`jax.pmap` to work in CPU platform.\n",
    "\n",
    "    .. note:: This utility only takes effect at the beginning of your program.\n",
    "        Under the hood, this sets the environment variable\n",
    "        `XLA_FLAGS=--xla_force_host_platform_device_count=[num_devices]`, where\n",
    "        `[num_device]` is the desired number of CPU devices `n`.\n",
    "\n",
    "    .. warning:: Our understanding of the side effects of using the\n",
    "        `xla_force_host_platform_device_count` flag in XLA is incomplete. If you\n",
    "        observe some strange phenomenon when using this utility, please let us\n",
    "        know through our issue or forum page. More information is available in this\n",
    "        `JAX issue <https://github.com/google/jax/issues/1408>`_.\n",
    "\n",
    "    :param int n: number of CPU devices to use.\n",
    "    \"\"\"\n",
    "    xla_flags = os.getenv('XLA_FLAGS', '').lstrip('--')\n",
    "    xla_flags = re.sub(r'xla_force_host_platform_device_count=.+\\s', '', xla_flags).split()\n",
    "    os.environ['XLA_FLAGS'] = ' '.join(['--xla_force_host_platform_device_count={}'.format(n)]\n",
    "                                       + xla_flags)\n",
    "```"
   ]
  },
  {
   "cell_type": "markdown",
   "metadata": {},
   "source": [
    "#### There's an error if you pmap over more elements than there are devices"
   ]
  },
  {
   "cell_type": "code",
   "execution_count": 89,
   "metadata": {},
   "outputs": [],
   "source": [
    "# pmap_square(jnp.arange(12))"
   ]
  },
  {
   "cell_type": "markdown",
   "metadata": {},
   "source": [
    "### Question:\n",
    "\n",
    "what is a device? How does this work?"
   ]
  },
  {
   "cell_type": "markdown",
   "metadata": {},
   "source": [
    "### Using vmap and pmap with `lax.scan`"
   ]
  },
  {
   "cell_type": "code",
   "execution_count": 90,
   "metadata": {},
   "outputs": [],
   "source": [
    "@jit\n",
    "def myscan(x):\n",
    "    Niter = 10\n",
    "    \n",
    "    def body(carry, idx):\n",
    "        return carry+1, None\n",
    "    \n",
    "    return lax.scan(body, x, jnp.arange(Niter))[0]"
   ]
  },
  {
   "cell_type": "code",
   "execution_count": 94,
   "metadata": {},
   "outputs": [],
   "source": [
    "v_myscan = vmap(myscan, in_axes=(0,))\n",
    "p_myscan = pmap(myscan, in_axes=(0,))"
   ]
  },
  {
   "cell_type": "code",
   "execution_count": 96,
   "metadata": {},
   "outputs": [
    {
     "data": {
      "text/plain": [
       "DeviceArray([0., 1., 2., 3., 4., 5., 6., 7., 8., 9.], dtype=float32)"
      ]
     },
     "execution_count": 96,
     "metadata": {},
     "output_type": "execute_result"
    }
   ],
   "source": [
    "jnp.arange(10.)"
   ]
  },
  {
   "cell_type": "code",
   "execution_count": 95,
   "metadata": {},
   "outputs": [
    {
     "data": {
      "text/plain": [
       "DeviceArray([10., 11., 12., 13., 14., 15., 16., 17., 18., 19.], dtype=float32)"
      ]
     },
     "execution_count": 95,
     "metadata": {},
     "output_type": "execute_result"
    }
   ],
   "source": [
    "v_myscan(jnp.arange(10.))"
   ]
  },
  {
   "cell_type": "code",
   "execution_count": 100,
   "metadata": {},
   "outputs": [
    {
     "data": {
      "text/plain": [
       "ShardedDeviceArray([10., 11., 12., 13., 14., 15., 16., 17., 18., 19.], dtype=float32)"
      ]
     },
     "execution_count": 100,
     "metadata": {},
     "output_type": "execute_result"
    }
   ],
   "source": [
    "p_myscan(jnp.arange(10.))"
   ]
  },
  {
   "cell_type": "markdown",
   "metadata": {},
   "source": [
    "### Samplers in parallel"
   ]
  },
  {
   "cell_type": "code",
   "execution_count": 101,
   "metadata": {},
   "outputs": [],
   "source": [
    "num_samples = 1000000\n",
    "dt = 4.\n",
    "x_0 = jnp.array([0.])\n",
    "\n",
    "run_mala_sampler_base = partial(mala_sampler, num_samples=num_samples, dt=dt, \n",
    "                           val_and_grad_log_post=value_and_grad(mixture_logpdf), \n",
    "                           x_0=jnp.array([0.]))\n"
   ]
  },
  {
   "cell_type": "code",
   "execution_count": 103,
   "metadata": {},
   "outputs": [
    {
     "data": {
      "application/vnd.jupyter.widget-view+json": {
       "model_id": "7028988a59de488fadd9e2bd458bbd0d",
       "version_major": 2,
       "version_minor": 0
      },
      "text/plain": [
       "HBox(children=(FloatProgress(value=0.0, max=1000000.0), HTML(value='')))"
      ]
     },
     "metadata": {},
     "output_type": "display_data"
    },
    {
     "name": "stdout",
     "output_type": "stream",
     "text": [
      "Running time: 1.32sec\n",
      "\n"
     ]
    }
   ],
   "source": [
    "starttime = time.time()\n",
    "\n",
    "key = random.PRNGKey(0)\n",
    "my_samples = run_mala_sampler_base(key)\n",
    "\n",
    "wait_until_computed(my_samples)\n",
    "\n",
    "print(f\"Running time: {time.time()-starttime:.2f}sec\")\n"
   ]
  },
  {
   "cell_type": "markdown",
   "metadata": {},
   "source": [
    "#### vmap the sampler"
   ]
  },
  {
   "cell_type": "code",
   "execution_count": 104,
   "metadata": {},
   "outputs": [],
   "source": [
    "v_run_mala = vmap(run_mala_sampler_base)\n",
    "\n"
   ]
  },
  {
   "cell_type": "code",
   "execution_count": 105,
   "metadata": {},
   "outputs": [],
   "source": [
    "Nensemble = 10\n",
    "keys = random.split(key, Nensemble)"
   ]
  },
  {
   "cell_type": "code",
   "execution_count": 110,
   "metadata": {},
   "outputs": [
    {
     "data": {
      "application/vnd.jupyter.widget-view+json": {
       "model_id": "9712f484c712421787e31d7cd707af70",
       "version_major": 2,
       "version_minor": 0
      },
      "text/plain": [
       "HBox(children=(FloatProgress(value=0.0, max=1000000.0), HTML(value='')))"
      ]
     },
     "metadata": {},
     "output_type": "display_data"
    },
    {
     "name": "stdout",
     "output_type": "stream",
     "text": [
      "\n",
      "Running time: 2.37sec\n"
     ]
    }
   ],
   "source": [
    "starttime = time.time()\n",
    "\n",
    "Nensemble = 10\n",
    "keys = random.split(key, Nensemble)\n",
    "\n",
    "mysamples = jit(v_run_mala)(keys)\n",
    "wait_until_computed(mysamples)\n",
    "\n",
    "print(f\"Running time: {time.time()-starttime:.2f}sec\")"
   ]
  },
  {
   "cell_type": "code",
   "execution_count": 111,
   "metadata": {},
   "outputs": [
    {
     "data": {
      "text/plain": [
       "(10, 1000000, 1)"
      ]
     },
     "execution_count": 111,
     "metadata": {},
     "output_type": "execute_result"
    }
   ],
   "source": [
    "mysamples[0].shape"
   ]
  },
  {
   "cell_type": "code",
   "execution_count": null,
   "metadata": {},
   "outputs": [],
   "source": []
  },
  {
   "cell_type": "markdown",
   "metadata": {},
   "source": [
    "#### pmap the sampler\n",
    "\n",
    "_Note:_ we import another `mala_sampler` that has a progress_bar that works with `pmap`"
   ]
  },
  {
   "cell_type": "code",
   "execution_count": 141,
   "metadata": {},
   "outputs": [],
   "source": [
    "from mala import mala_sampler as mala_sampler_par\n",
    "\n",
    "run_mala_sampler_base_p = partial(mala_sampler_par, num_samples=num_samples, dt=dt, \n",
    "                           val_and_grad_log_post=value_and_grad(mixture_logpdf), \n",
    "                           x_0=jnp.array([0.]))\n",
    "\n",
    "p_run_mala = pmap(partial(run_mala_sampler_base_p, num_chains=Nensemble))"
   ]
  },
  {
   "cell_type": "code",
   "execution_count": 142,
   "metadata": {},
   "outputs": [
    {
     "data": {
      "application/vnd.jupyter.widget-view+json": {
       "model_id": "d067ece8f61d4f66a0228c193d58d7a8",
       "version_major": 2,
       "version_minor": 0
      },
      "text/plain": [
       "HBox(children=(FloatProgress(value=0.0, max=10000.0), HTML(value='')))"
      ]
     },
     "metadata": {},
     "output_type": "display_data"
    },
    {
     "data": {
      "application/vnd.jupyter.widget-view+json": {
       "model_id": "0f2ea112e8694e2aab8a236f21b0e483",
       "version_major": 2,
       "version_minor": 0
      },
      "text/plain": [
       "HBox(children=(FloatProgress(value=0.0, max=10000.0), HTML(value='')))"
      ]
     },
     "metadata": {},
     "output_type": "display_data"
    },
    {
     "name": "stdout",
     "output_type": "stream",
     "text": [
      "\n",
      "\n",
      "Running time: 0.88sec\n",
      "Number of samples: 20,000\n"
     ]
    }
   ],
   "source": [
    "starttime = time.time()\n",
    "\n",
    "mysamples = p_run_mala(keys)\n",
    "wait_until_computed(mysamples)\n",
    "\n",
    "print(f\"Running time: {time.time()-starttime:.2f}sec\")\n",
    "\n",
    "print(f\"Number of samples: {np.prod(mysamples[0].shape):,}\")"
   ]
  },
  {
   "cell_type": "code",
   "execution_count": null,
   "metadata": {},
   "outputs": [],
   "source": []
  },
  {
   "cell_type": "markdown",
   "metadata": {},
   "source": [
    "## Applications:\n",
    "\n",
    "\n",
    "\n",
    "- Simply getting more MCMC samples for \"free\"\n",
    "- pseudomarginal mcmc: annealed importance sampling inside MCMC to estimate the likelihood\n",
    "- out of distribution testing for NN\n",
    "- ensemble preconditioning"
   ]
  },
  {
   "cell_type": "markdown",
   "metadata": {},
   "source": [
    "## Try it on Logistic regression: 5D with 10K data points"
   ]
  },
  {
   "cell_type": "code",
   "execution_count": 117,
   "metadata": {},
   "outputs": [],
   "source": [
    "from logistic_regression import gen_data_and_log_post"
   ]
  },
  {
   "cell_type": "code",
   "execution_count": 119,
   "metadata": {},
   "outputs": [
    {
     "name": "stdout",
     "output_type": "stream",
     "text": [
      "generating data, with N=10000 and dim=5\n"
     ]
    }
   ],
   "source": [
    "key = random.PRNGKey(0)\n",
    "dim = 5\n",
    "N = 10000\n",
    "\n",
    "theta_true, X_data_LR, y_data_LR, val_and_grad_log_post = gen_data_and_log_post(key, dim, N)\n",
    "\n",
    "@jit\n",
    "def log_regr_log_post(theta):\n",
    "    return val_and_grad_log_post(theta, X_data_LR, y_data_LR)"
   ]
  },
  {
   "cell_type": "code",
   "execution_count": 121,
   "metadata": {},
   "outputs": [],
   "source": [
    "key = random.PRNGKey(0)\n",
    "num_samples = 10000\n",
    "dt = 8e-4\n",
    "x_0 = jnp.zeros(theta_true.shape)\n",
    "\n",
    "run_mala_LR = partial(mala_sampler, num_samples=num_samples, dt=dt, \n",
    "                           val_and_grad_log_post=log_regr_log_post, \n",
    "                           x_0=x_0)\n"
   ]
  },
  {
   "cell_type": "code",
   "execution_count": 122,
   "metadata": {},
   "outputs": [
    {
     "data": {
      "application/vnd.jupyter.widget-view+json": {
       "model_id": "465a8ef64574461abcec3b618a70f14f",
       "version_major": 2,
       "version_minor": 0
      },
      "text/plain": [
       "HBox(children=(FloatProgress(value=0.0, max=10000.0), HTML(value='')))"
      ]
     },
     "metadata": {},
     "output_type": "display_data"
    },
    {
     "name": "stdout",
     "output_type": "stream",
     "text": [
      "Acceptance rate: 81.7%\n",
      "\n",
      "Running time: 2.53sec\n",
      "Number of samples: 10,000\n",
      "\n"
     ]
    }
   ],
   "source": [
    "key = random.PRNGKey(0)\n",
    "\n",
    "starttime = time.time()\n",
    "samples, _, accept_rate = run_mala_LR(key)\n",
    "print(f\"Acceptance rate: {accept_rate:.1f}%\\n\")\n",
    "\n",
    "print(f\"Running time: {time.time()-starttime:.2f}sec\")\n",
    "\n",
    "print(f\"Number of samples: {samples.shape[0]:,}\")"
   ]
  },
  {
   "cell_type": "code",
   "execution_count": 123,
   "metadata": {},
   "outputs": [],
   "source": [
    "Nensemble = 10\n",
    "keys = random.split(key, Nensemble)\n",
    "\n",
    "\n",
    "v_run_mala_LR = jit(vmap(partial(run_mala_LR)))\n"
   ]
  },
  {
   "cell_type": "code",
   "execution_count": 125,
   "metadata": {},
   "outputs": [
    {
     "data": {
      "application/vnd.jupyter.widget-view+json": {
       "model_id": "5f8d06aff9d8480e9e86a1878f05e0f5",
       "version_major": 2,
       "version_minor": 0
      },
      "text/plain": [
       "HBox(children=(FloatProgress(value=0.0, max=10000.0), HTML(value='')))"
      ]
     },
     "metadata": {},
     "output_type": "display_data"
    },
    {
     "name": "stdout",
     "output_type": "stream",
     "text": [
      "\n",
      "Running time: 5.61sec\n",
      "Number of samples: 100,000\n"
     ]
    }
   ],
   "source": [
    "\n",
    "starttime = time.time()\n",
    "v_samples = v_run_mala_LR(keys)\n",
    "wait_until_computed(v_samples)\n",
    "\n",
    "print(f\"Running time: {time.time()-starttime:.2f}sec\")\n",
    "\n",
    "print(f\"Number of samples: {np.prod((v_samples[0].shape)[:2]):,}\")"
   ]
  },
  {
   "cell_type": "markdown",
   "metadata": {},
   "source": [
    "`pmap`"
   ]
  },
  {
   "cell_type": "code",
   "execution_count": 126,
   "metadata": {},
   "outputs": [],
   "source": [
    "\n",
    "run_mala_LR_p = partial(mala_sampler_par, num_samples=num_samples, dt=dt, \n",
    "                           val_and_grad_log_post=log_regr_log_post, \n",
    "                           x_0=x_0)\n",
    "p_run_mala_LR = pmap(partial(run_mala_LR_p, num_chains=Nensemble))\n"
   ]
  },
  {
   "cell_type": "code",
   "execution_count": 129,
   "metadata": {},
   "outputs": [
    {
     "name": "stdout",
     "output_type": "stream",
     "text": [
      "Running time: 3.35sec\n",
      "Number of samples: 100,000\n"
     ]
    }
   ],
   "source": [
    "\n",
    "starttime = time.time()\n",
    "\n",
    "\n",
    "p_samples = p_run_mala_LR(keys)\n",
    "wait_until_computed(p_samples)\n",
    "\n",
    "print(f\"Running time: {time.time()-starttime:.2f}sec\")\n",
    "print(f\"Number of samples: {np.prod((p_samples[0].shape)[:2]):,}\")"
   ]
  },
  {
   "cell_type": "code",
   "execution_count": null,
   "metadata": {},
   "outputs": [],
   "source": []
  },
  {
   "cell_type": "code",
   "execution_count": null,
   "metadata": {},
   "outputs": [],
   "source": []
  },
  {
   "cell_type": "markdown",
   "metadata": {},
   "source": [
    "# Extra: Neural Network training\n",
    "\n",
    "\n",
    "This seems to depend: sometimes vmap and pmap is fast, sometimes it's not\n"
   ]
  },
  {
   "cell_type": "code",
   "execution_count": 3,
   "metadata": {},
   "outputs": [],
   "source": [
    "from MNIST_data import X_train, y_train, X_test, y_test"
   ]
  },
  {
   "cell_type": "code",
   "execution_count": 131,
   "metadata": {},
   "outputs": [],
   "source": [
    "# model\n",
    "def predict(params, x):\n",
    "    \n",
    "    activation = x\n",
    "    \n",
    "    for W,b in params[:-1]:\n",
    "        activation = nn.relu(jnp.dot(W,activation) + b)\n",
    "        \n",
    "    W_last, b_last = params[-1]\n",
    "    return nn.log_softmax(jnp.dot(W_last, activation) + b_last)\n",
    "\n",
    "batch_predict = vmap(predict, in_axes=(None, 0))\n",
    "\n",
    "def loss_NN(params, x_data, y_data):\n",
    "    return -jnp.mean(jnp.sum(batch_predict(params, x_data)*y_data, axis=1))\n",
    "\n",
    "@jit\n",
    "def accuracy(params, X, y):\n",
    "    target_class = jnp.argmax(y, axis=1)\n",
    "    predicted_class = jnp.argmax(batch_predict(params, X), axis=1)\n",
    "    return jnp.mean(predicted_class == target_class)\n"
   ]
  },
  {
   "cell_type": "code",
   "execution_count": 132,
   "metadata": {},
   "outputs": [],
   "source": [
    "from util import progress_bar_scan_parallel"
   ]
  },
  {
   "cell_type": "code",
   "execution_count": 133,
   "metadata": {},
   "outputs": [],
   "source": [
    "def run_adam_single_NN(key, Niters, l_rate, batch_size, x_data, y_data, network_sizes, X_test, y_test, num_chains=1):\n",
    "    Ndata = x_data.shape[0]\n",
    "    opt_init, opt_update, get_params = optimizers.adam(l_rate)\n",
    "    \n",
    "    def body(state, step):\n",
    "        key, opt_state = state\n",
    "        key, subkey = random.split(key)\n",
    "        idx_batch = random.choice(key=subkey, a=jnp.arange(Ndata), shape=(batch_size,))\n",
    "        _, loss_grad = value_and_grad(loss_NN)(get_params(opt_state), x_data[idx_batch,:], y_data[idx_batch,:])\n",
    "        opt_state = opt_update(step, loss_grad, opt_state)\n",
    "        return (key, opt_state), None\n",
    "    \n",
    "    key, subkey = random.split(key)\n",
    "    M, D, K, L = network_sizes\n",
    "    params_IC = init_params(subkey, M, D, K, L)\n",
    "    state = (key, opt_init(params_IC))\n",
    "    my_pbar = progress_bar_scan_parallel(Niters, num_chains)\n",
    "    body = my_pbar(body)\n",
    "    (_, opt_state), _ = lax.scan(body, state, jnp.arange(Niters))\n",
    "    return get_params(opt_state)\n"
   ]
  },
  {
   "cell_type": "code",
   "execution_count": 134,
   "metadata": {},
   "outputs": [],
   "source": [
    "Niters = 1000\n",
    "M, L = 200, 2\n",
    "Ndata, D = X_train.shape\n",
    "K = y_train.shape[1]\n",
    "network_sizes = (M, D, K, L)\n",
    "l_rate = 1e-2\n",
    "batch_size = 1000\n",
    "\n",
    "train_NN = partial(run_adam_single_NN, Niters=Niters, l_rate=l_rate, \n",
    "                   batch_size=batch_size, x_data=X_train, y_data=y_train, \n",
    "                   network_sizes=network_sizes, X_test=X_test, y_test=y_test)\n"
   ]
  },
  {
   "cell_type": "code",
   "execution_count": 135,
   "metadata": {},
   "outputs": [
    {
     "data": {
      "application/vnd.jupyter.widget-view+json": {
       "model_id": "886a4b2e31674d42b5920d6a4c665d5f",
       "version_major": 2,
       "version_minor": 0
      },
      "text/plain": [
       "HBox(children=(FloatProgress(value=0.0, max=1000.0), HTML(value='')))"
      ]
     },
     "metadata": {},
     "output_type": "display_data"
    },
    {
     "name": "stdout",
     "output_type": "stream",
     "text": [
      "Running time: 6.50sec\n",
      "\n"
     ]
    }
   ],
   "source": [
    "key = random.PRNGKey(0)\n",
    "\n",
    "starttime = time.time()\n",
    "wait_until_computed(train_NN(key))\n",
    "print(f\"Running time: {time.time()-starttime:.2f}sec\")"
   ]
  },
  {
   "cell_type": "markdown",
   "metadata": {},
   "source": [
    "#### vmap and pmap"
   ]
  },
  {
   "cell_type": "code",
   "execution_count": 136,
   "metadata": {},
   "outputs": [],
   "source": [
    "Nensemble = 2\n",
    "keys = random.split(key, Nensemble)\n",
    "\n",
    "v_train_NN = jit(vmap(partial(train_NN)))\n",
    "p_train_NN = pmap(partial(train_NN, num_chains=Nensemble))"
   ]
  },
  {
   "cell_type": "code",
   "execution_count": 139,
   "metadata": {},
   "outputs": [
    {
     "name": "stdout",
     "output_type": "stream",
     "text": [
      "Running time: 8.54sec\n"
     ]
    }
   ],
   "source": [
    "starttime = time.time()\n",
    "\n",
    "wait_until_computed(v_train_NN(keys))\n",
    "\n",
    "print(f\"Running time: {time.time()-starttime:.2f}sec\")"
   ]
  },
  {
   "cell_type": "code",
   "execution_count": 138,
   "metadata": {},
   "outputs": [
    {
     "data": {
      "application/vnd.jupyter.widget-view+json": {
       "model_id": "8cf941473e264d4f95a89c09fb87e16d",
       "version_major": 2,
       "version_minor": 0
      },
      "text/plain": [
       "HBox(children=(FloatProgress(value=0.0, max=1000.0), HTML(value='')))"
      ]
     },
     "metadata": {},
     "output_type": "display_data"
    },
    {
     "data": {
      "application/vnd.jupyter.widget-view+json": {
       "model_id": "dbfff6271ccf45589d94dc5a5d0df3b0",
       "version_major": 2,
       "version_minor": 0
      },
      "text/plain": [
       "HBox(children=(FloatProgress(value=0.0, max=1000.0), HTML(value='')))"
      ]
     },
     "metadata": {},
     "output_type": "display_data"
    },
    {
     "name": "stdout",
     "output_type": "stream",
     "text": [
      "Running time: 12.89sec\n",
      "\n",
      "\n"
     ]
    }
   ],
   "source": [
    "starttime = time.time()\n",
    "\n",
    "wait_until_computed(p_train_NN(keys))\n",
    "\n",
    "print(f\"Running time: {time.time()-starttime:.2f}sec\")"
   ]
  },
  {
   "cell_type": "code",
   "execution_count": null,
   "metadata": {},
   "outputs": [],
   "source": []
  },
  {
   "cell_type": "code",
   "execution_count": null,
   "metadata": {},
   "outputs": [],
   "source": []
  },
  {
   "cell_type": "code",
   "execution_count": null,
   "metadata": {},
   "outputs": [],
   "source": []
  },
  {
   "cell_type": "code",
   "execution_count": null,
   "metadata": {},
   "outputs": [],
   "source": []
  },
  {
   "cell_type": "code",
   "execution_count": null,
   "metadata": {},
   "outputs": [],
   "source": []
  },
  {
   "cell_type": "code",
   "execution_count": null,
   "metadata": {},
   "outputs": [],
   "source": []
  }
 ],
 "metadata": {
  "kernelspec": {
   "display_name": "Python 3",
   "language": "python",
   "name": "python3"
  },
  "language_info": {
   "codemirror_mode": {
    "name": "ipython",
    "version": 3
   },
   "file_extension": ".py",
   "mimetype": "text/x-python",
   "name": "python",
   "nbconvert_exporter": "python",
   "pygments_lexer": "ipython3",
   "version": "3.8.5"
  }
 },
 "nbformat": 4,
 "nbformat_minor": 4
}
