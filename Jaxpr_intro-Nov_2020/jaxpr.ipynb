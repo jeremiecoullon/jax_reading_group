{
 "cells": [
  {
   "cell_type": "code",
   "execution_count": 1,
   "metadata": {},
   "outputs": [],
   "source": [
    "%matplotlib inline\n",
    "\n",
    "import matplotlib.pyplot as plt\n",
    "import seaborn as sns\n",
    "sns.set_style(\"darkgrid\")\n",
    "import numpy as np\n",
    "import jax.numpy as jnp\n",
    "from jax import partial, jit, grad, make_jaxpr, random, vmap\n",
    "import jax\n",
    "\n"
   ]
  },
  {
   "cell_type": "markdown",
   "metadata": {},
   "source": [
    "# Jax Reading group session 3: the Jaxpr\n",
    "\n",
    "\n",
    "Session summary:\n",
    "1. Define and explore the Jaxpr\n",
    "2. Write an interpreter: evaluate a function\n",
    "3. Write an \"inverse\" interpreter: a higher-order function that returns the inverse of a function\n",
    "\n",
    "# Explore the Jaxpr\n",
    "\n",
    "\n",
    "**What is the Jaxpr?**\n",
    "\n",
    "Jaxpr is a simple statically-typed functional language that is used to represent Python functions. A Jaxpr instance represents a function with one or more typed parameters and one or more typed results.\n",
    "\n",
    "Jax includes an interpreter than translates Python functions into this intermediate representation. Jax can then use this representation to evaluate it, do automatic differentiation, or compile it into XLA.\n",
    "\n",
    "\n",
    "**Example:** consider the following python function\n"
   ]
  },
  {
   "cell_type": "code",
   "execution_count": 2,
   "metadata": {},
   "outputs": [],
   "source": [
    "\n",
    "def foo(x):\n",
    "    return x+1\n"
   ]
  },
  {
   "cell_type": "markdown",
   "metadata": {},
   "source": [
    "This is represented by the following Jaxpr. Note that it's essentially a computational graph (as used in automatic differentiation)"
   ]
  },
  {
   "cell_type": "code",
   "execution_count": 3,
   "metadata": {},
   "outputs": [
    {
     "name": "stdout",
     "output_type": "stream",
     "text": [
      "{ lambda  ; a.\n",
      "  let b = add a 1.0\n",
      "  in (b,) }\n"
     ]
    }
   ],
   "source": [
    "closed_jaxpr = make_jaxpr(foo)(2.)\n",
    "print(closed_jaxpr)"
   ]
  },
  {
   "cell_type": "markdown",
   "metadata": {},
   "source": [
    "This Jaxpr has a bunch of info attached to it. This means you can interact with it easily. Later we'll evaluate a function outselves by starting from some concrete value and looping through the equations to evaluate the final result."
   ]
  },
  {
   "cell_type": "code",
   "execution_count": 4,
   "metadata": {},
   "outputs": [
    {
     "name": "stdout",
     "output_type": "stream",
     "text": [
      "Input type: [ShapedArray(float32[], weak_type=True)]\n",
      "Output type: [ShapedArray(float32[])]\n",
      "Equations in the jaxpr: [b = add a 1.0]\n"
     ]
    }
   ],
   "source": [
    "print(f\"Input type: {closed_jaxpr.in_avals}\")\n",
    "print(f\"Output type: {closed_jaxpr.out_avals}\")\n",
    "print(f\"Equations in the jaxpr: {closed_jaxpr.jaxpr.eqns}\")"
   ]
  },
  {
   "cell_type": "code",
   "execution_count": 5,
   "metadata": {},
   "outputs": [
    {
     "data": {
      "text/plain": [
       "{ lambda  ; a.\n",
       "  let b = add a 1.0\n",
       "  in (b,) }"
      ]
     },
     "execution_count": 5,
     "metadata": {},
     "output_type": "execute_result"
    }
   ],
   "source": [
    "closed_jaxpr.jaxpr"
   ]
  },
  {
   "cell_type": "markdown",
   "metadata": {},
   "source": [
    "From the [docs](https://jax.readthedocs.io/en/latest/jaxpr.html):\n",
    "\n",
    "- `ClosedJaxpr` is a \"partially applied `jax.core.Jaxpr`\"\n",
    "- `Jaxpr`: a field of ClosedJaxpr. the actual execution content"
   ]
  },
  {
   "cell_type": "markdown",
   "metadata": {},
   "source": [
    "## Some properties of the Jaxpr\n",
    "\n",
    "\n",
    "### 1. Only objects that have data dependence appear in the trace"
   ]
  },
  {
   "cell_type": "code",
   "execution_count": 6,
   "metadata": {},
   "outputs": [
    {
     "data": {
      "text/plain": [
       "{ lambda  ; a.\n",
       "  let b = add a 1.0\n",
       "      c = add b 11.0\n",
       "  in (c,) }"
      ]
     },
     "execution_count": 6,
     "metadata": {},
     "output_type": "execute_result"
    }
   ],
   "source": [
    "def foo2(x):\n",
    "    y = x + 1.\n",
    "    a1 = 10.\n",
    "    a2 = 100.\n",
    "    a3 = a1 + a2\n",
    "    a4 = a3/a1\n",
    "    return y + a4\n",
    "\n",
    "# all the intermediate stuff has been evaluated and is not fixed\n",
    "make_jaxpr(foo2)(1.)"
   ]
  },
  {
   "cell_type": "code",
   "execution_count": null,
   "metadata": {},
   "outputs": [],
   "source": []
  },
  {
   "cell_type": "markdown",
   "metadata": {},
   "source": [
    "### 2. The traced function must be pure"
   ]
  },
  {
   "cell_type": "code",
   "execution_count": 7,
   "metadata": {},
   "outputs": [
    {
     "name": "stdout",
     "output_type": "stream",
     "text": [
      "global_list: [1]\n"
     ]
    }
   ],
   "source": [
    "global_list = []\n",
    "\n",
    "def impure_function(x):\n",
    "    global_list.append(x)\n",
    "    return x+1\n",
    "\n",
    "\n",
    "# call it: here it's a standard Python function\n",
    "impure_function(1)\n",
    "print(f\"global_list: {global_list}\")"
   ]
  },
  {
   "cell_type": "code",
   "execution_count": 8,
   "metadata": {},
   "outputs": [
    {
     "name": "stdout",
     "output_type": "stream",
     "text": [
      "1\n",
      "Traced<ShapedArray(int32[], weak_type=True)>with<DynamicJaxprTrace(level=1/0)>\n"
     ]
    }
   ],
   "source": [
    "# call it with an int32\n",
    "make_jaxpr(impure_function)(1)\n",
    "\n",
    "_ = [print(e) for e in global_list]"
   ]
  },
  {
   "cell_type": "code",
   "execution_count": null,
   "metadata": {},
   "outputs": [],
   "source": []
  },
  {
   "cell_type": "code",
   "execution_count": null,
   "metadata": {},
   "outputs": [],
   "source": []
  },
  {
   "cell_type": "code",
   "execution_count": 9,
   "metadata": {},
   "outputs": [
    {
     "name": "stdout",
     "output_type": "stream",
     "text": [
      "1\n",
      "Traced<ShapedArray(int32[], weak_type=True)>with<DynamicJaxprTrace(level=1/0)>\n",
      "Traced<ShapedArray(float32[], weak_type=True)>with<DynamicJaxprTrace(level=1/0)>\n"
     ]
    }
   ],
   "source": [
    "# call it with a float32\n",
    "make_jaxpr(impure_function)(1.)\n",
    "\n",
    "_ = [print(e) for e in global_list]"
   ]
  },
  {
   "cell_type": "code",
   "execution_count": 10,
   "metadata": {},
   "outputs": [
    {
     "name": "stderr",
     "output_type": "stream",
     "text": [
      "WARNING:absl:No GPU/TPU found, falling back to CPU. (Set TF_CPP_MIN_LOG_LEVEL=0 and rerun for more info.)\n"
     ]
    },
    {
     "name": "stdout",
     "output_type": "stream",
     "text": [
      "1\n",
      "Traced<ShapedArray(int32[], weak_type=True)>with<DynamicJaxprTrace(level=1/0)>\n",
      "Traced<ShapedArray(float32[], weak_type=True)>with<DynamicJaxprTrace(level=1/0)>\n",
      "Traced<ShapedArray(float32[4])>with<DynamicJaxprTrace(level=1/0)>\n"
     ]
    }
   ],
   "source": [
    "# call it with an array of float32s\n",
    "make_jaxpr(impure_function)(jnp.ones(4))\n",
    "\n",
    "_ = [print(e) for e in global_list]"
   ]
  },
  {
   "cell_type": "markdown",
   "metadata": {},
   "source": [
    "**Impure behaviour with `jit`:**\n",
    "\n",
    "- The function is traced the first time you call it. So a `ShapedArray` is append to global_list\n",
    "- Every other time nothing is appended."
   ]
  },
  {
   "cell_type": "code",
   "execution_count": 11,
   "metadata": {},
   "outputs": [
    {
     "name": "stdout",
     "output_type": "stream",
     "text": [
      "[Traced<ShapedArray(int32[], weak_type=True)>with<DynamicJaxprTrace(level=0/1)>]\n"
     ]
    }
   ],
   "source": [
    "jit_im_list = jit(impure_function)\n",
    "\n",
    "global_list = []\n",
    "\n",
    "jit_im_list(1)\n",
    "\n",
    "print(global_list)"
   ]
  },
  {
   "cell_type": "code",
   "execution_count": 12,
   "metadata": {},
   "outputs": [
    {
     "name": "stdout",
     "output_type": "stream",
     "text": [
      "[Traced<ShapedArray(int32[], weak_type=True)>with<DynamicJaxprTrace(level=0/1)>]\n"
     ]
    }
   ],
   "source": [
    "# after it's compiled nothing is appended to `global_list`\n",
    "jit_im_list(1)\n",
    "\n",
    "print(global_list)"
   ]
  },
  {
   "cell_type": "markdown",
   "metadata": {},
   "source": [
    "### 3. Shapes and types are checked during tracing"
   ]
  },
  {
   "cell_type": "code",
   "execution_count": 13,
   "metadata": {},
   "outputs": [],
   "source": [
    "def foo3(x):\n",
    "    if jnp.shape(x) == ():\n",
    "        return 2*x**3\n",
    "    else:\n",
    "        return 3*x"
   ]
  },
  {
   "cell_type": "code",
   "execution_count": 14,
   "metadata": {},
   "outputs": [
    {
     "name": "stdout",
     "output_type": "stream",
     "text": [
      "Jaxpr for integer input: \n",
      "{ lambda  ; a.\n",
      "  let b = integer_pow[ y=3 ] a\n",
      "      c = mul b 2\n",
      "  in (c,) }\n",
      "\n",
      "Jaxpr for array input: \n",
      "{ lambda  ; a.\n",
      "  let b = mul a 3.0\n",
      "  in (b,) }\n"
     ]
    }
   ],
   "source": [
    "print(f\"Jaxpr for integer input: \\n{make_jaxpr(foo3)(1)}\")\n",
    "\n",
    "\n",
    "print(f\"\\nJaxpr for array input: \\n{make_jaxpr(foo3)(jnp.ones(10))}\")"
   ]
  },
  {
   "cell_type": "markdown",
   "metadata": {},
   "source": [
    "But if we branch on concrete values it doesn't work:"
   ]
  },
  {
   "cell_type": "code",
   "execution_count": 15,
   "metadata": {},
   "outputs": [
    {
     "name": "stdout",
     "output_type": "stream",
     "text": [
      "This works, as it's pure Python. 2\n"
     ]
    }
   ],
   "source": [
    "def foo4(x):\n",
    "    if x < 0:\n",
    "        return 2*x\n",
    "    else: \n",
    "        return x\n",
    "    \n",
    "print(f\"This works, as it's pure Python. {foo4(2)}\")"
   ]
  },
  {
   "cell_type": "code",
   "execution_count": 16,
   "metadata": {
    "collapsed": true
   },
   "outputs": [
    {
     "ename": "ConcretizationTypeError",
     "evalue": "Abstract tracer value encountered where concrete value is expected.\n\nThe problem arose with the `bool` function. \n\nWhile tracing the function foo4 at <ipython-input-15-66d6bf88dce5>:1, this concrete value was not available in Python because it depends on the value of the arguments to foo4 at <ipython-input-15-66d6bf88dce5>:1 at flattened positions [0], and the computation of these values is being staged out (that is, delayed rather than executed eagerly).\n\nYou can use transformation parameters such as `static_argnums` for `jit` to avoid tracing particular arguments of transformed functions, though at the cost of more recompiles.\n\nSee https://jax.readthedocs.io/en/latest/faq.html#abstract-tracer-value-encountered-where-concrete-value-is-expected-error for more information.\n\nEncountered tracer value: Traced<ShapedArray(bool[])>with<DynamicJaxprTrace(level=1/0)>",
     "output_type": "error",
     "traceback": [
      "\u001b[0;31m---------------------------------------------------------------------------\u001b[0m",
      "\u001b[0;31mFilteredStackTrace\u001b[0m                        Traceback (most recent call last)",
      "\u001b[0;32m<ipython-input-16-b46512790f56>\u001b[0m in \u001b[0;36m<module>\u001b[0;34m\u001b[0m\n\u001b[1;32m      2\u001b[0m \u001b[0;34m\u001b[0m\u001b[0m\n\u001b[0;32m----> 3\u001b[0;31m \u001b[0mmake_jaxpr\u001b[0m\u001b[0;34m(\u001b[0m\u001b[0mfoo4\u001b[0m\u001b[0;34m)\u001b[0m\u001b[0;34m(\u001b[0m\u001b[0;36m2\u001b[0m\u001b[0;34m)\u001b[0m\u001b[0;34m\u001b[0m\u001b[0;34m\u001b[0m\u001b[0m\n\u001b[0m",
      "\u001b[0;32m<ipython-input-15-66d6bf88dce5>\u001b[0m in \u001b[0;36mfoo4\u001b[0;34m(x)\u001b[0m\n\u001b[1;32m      1\u001b[0m \u001b[0;32mdef\u001b[0m \u001b[0mfoo4\u001b[0m\u001b[0;34m(\u001b[0m\u001b[0mx\u001b[0m\u001b[0;34m)\u001b[0m\u001b[0;34m:\u001b[0m\u001b[0;34m\u001b[0m\u001b[0;34m\u001b[0m\u001b[0m\n\u001b[0;32m----> 2\u001b[0;31m     \u001b[0;32mif\u001b[0m \u001b[0mx\u001b[0m \u001b[0;34m<\u001b[0m \u001b[0;36m0\u001b[0m\u001b[0;34m:\u001b[0m\u001b[0;34m\u001b[0m\u001b[0;34m\u001b[0m\u001b[0m\n\u001b[0m\u001b[1;32m      3\u001b[0m         \u001b[0;32mreturn\u001b[0m \u001b[0;36m2\u001b[0m\u001b[0;34m*\u001b[0m\u001b[0mx\u001b[0m\u001b[0;34m\u001b[0m\u001b[0;34m\u001b[0m\u001b[0m\n",
      "\u001b[0;31mFilteredStackTrace\u001b[0m: jax.core.ConcretizationTypeError: Abstract tracer value encountered where concrete value is expected.\n\nThe problem arose with the `bool` function. \n\nWhile tracing the function foo4 at <ipython-input-15-66d6bf88dce5>:1, this concrete value was not available in Python because it depends on the value of the arguments to foo4 at <ipython-input-15-66d6bf88dce5>:1 at flattened positions [0], and the computation of these values is being staged out (that is, delayed rather than executed eagerly).\n\nYou can use transformation parameters such as `static_argnums` for `jit` to avoid tracing particular arguments of transformed functions, though at the cost of more recompiles.\n\nSee https://jax.readthedocs.io/en/latest/faq.html#abstract-tracer-value-encountered-where-concrete-value-is-expected-error for more information.\n\nEncountered tracer value: Traced<ShapedArray(bool[])>with<DynamicJaxprTrace(level=1/0)>\n\nThe stack trace above excludes JAX-internal frames.\nThe following is the original exception that occurred, unmodified.\n\n--------------------",
      "\nThe above exception was the direct cause of the following exception:\n",
      "\u001b[0;31mConcretizationTypeError\u001b[0m                   Traceback (most recent call last)",
      "\u001b[0;32m<ipython-input-16-b46512790f56>\u001b[0m in \u001b[0;36m<module>\u001b[0;34m\u001b[0m\n\u001b[1;32m      1\u001b[0m \u001b[0;31m# this doesn't work, as when the function is traced it replaces inputs with abstract values!\u001b[0m\u001b[0;34m\u001b[0m\u001b[0;34m\u001b[0m\u001b[0;34m\u001b[0m\u001b[0m\n\u001b[1;32m      2\u001b[0m \u001b[0;34m\u001b[0m\u001b[0m\n\u001b[0;32m----> 3\u001b[0;31m \u001b[0mmake_jaxpr\u001b[0m\u001b[0;34m(\u001b[0m\u001b[0mfoo4\u001b[0m\u001b[0;34m)\u001b[0m\u001b[0;34m(\u001b[0m\u001b[0;36m2\u001b[0m\u001b[0;34m)\u001b[0m\u001b[0;34m\u001b[0m\u001b[0;34m\u001b[0m\u001b[0m\n\u001b[0m",
      "\u001b[0;32m~/Documents/research/venv/lib/python3.8/site-packages/jax/_src/traceback_util.py\u001b[0m in \u001b[0;36mreraise_with_filtered_traceback\u001b[0;34m(*args, **kwargs)\u001b[0m\n\u001b[1;32m    131\u001b[0m   \u001b[0;32mdef\u001b[0m \u001b[0mreraise_with_filtered_traceback\u001b[0m\u001b[0;34m(\u001b[0m\u001b[0;34m*\u001b[0m\u001b[0margs\u001b[0m\u001b[0;34m,\u001b[0m \u001b[0;34m**\u001b[0m\u001b[0mkwargs\u001b[0m\u001b[0;34m)\u001b[0m\u001b[0;34m:\u001b[0m\u001b[0;34m\u001b[0m\u001b[0;34m\u001b[0m\u001b[0m\n\u001b[1;32m    132\u001b[0m     \u001b[0;32mtry\u001b[0m\u001b[0;34m:\u001b[0m\u001b[0;34m\u001b[0m\u001b[0;34m\u001b[0m\u001b[0m\n\u001b[0;32m--> 133\u001b[0;31m       \u001b[0;32mreturn\u001b[0m \u001b[0mfun\u001b[0m\u001b[0;34m(\u001b[0m\u001b[0;34m*\u001b[0m\u001b[0margs\u001b[0m\u001b[0;34m,\u001b[0m \u001b[0;34m**\u001b[0m\u001b[0mkwargs\u001b[0m\u001b[0;34m)\u001b[0m\u001b[0;34m\u001b[0m\u001b[0;34m\u001b[0m\u001b[0m\n\u001b[0m\u001b[1;32m    134\u001b[0m     \u001b[0;32mexcept\u001b[0m \u001b[0mException\u001b[0m \u001b[0;32mas\u001b[0m \u001b[0me\u001b[0m\u001b[0;34m:\u001b[0m\u001b[0;34m\u001b[0m\u001b[0;34m\u001b[0m\u001b[0m\n\u001b[1;32m    135\u001b[0m       \u001b[0;32mif\u001b[0m \u001b[0;32mnot\u001b[0m \u001b[0mis_under_reraiser\u001b[0m\u001b[0;34m(\u001b[0m\u001b[0me\u001b[0m\u001b[0;34m)\u001b[0m\u001b[0;34m:\u001b[0m\u001b[0;34m\u001b[0m\u001b[0;34m\u001b[0m\u001b[0m\n",
      "\u001b[0;32m~/Documents/research/venv/lib/python3.8/site-packages/jax/api.py\u001b[0m in \u001b[0;36mjaxpr_maker\u001b[0;34m(*args, **kwargs)\u001b[0m\n\u001b[1;32m   1954\u001b[0m     \u001b[0min_avals\u001b[0m \u001b[0;34m=\u001b[0m \u001b[0;34m[\u001b[0m\u001b[0mraise_to_shaped\u001b[0m\u001b[0;34m(\u001b[0m\u001b[0mcore\u001b[0m\u001b[0;34m.\u001b[0m\u001b[0mget_aval\u001b[0m\u001b[0;34m(\u001b[0m\u001b[0mx\u001b[0m\u001b[0;34m)\u001b[0m\u001b[0;34m)\u001b[0m \u001b[0;32mfor\u001b[0m \u001b[0mx\u001b[0m \u001b[0;32min\u001b[0m \u001b[0mjax_args\u001b[0m\u001b[0;34m]\u001b[0m\u001b[0;34m\u001b[0m\u001b[0;34m\u001b[0m\u001b[0m\n\u001b[1;32m   1955\u001b[0m     \u001b[0;32mif\u001b[0m \u001b[0mconfig\u001b[0m\u001b[0;34m.\u001b[0m\u001b[0momnistaging_enabled\u001b[0m\u001b[0;34m:\u001b[0m\u001b[0;34m\u001b[0m\u001b[0;34m\u001b[0m\u001b[0m\n\u001b[0;32m-> 1956\u001b[0;31m       \u001b[0mjaxpr\u001b[0m\u001b[0;34m,\u001b[0m \u001b[0mout_avals\u001b[0m\u001b[0;34m,\u001b[0m \u001b[0mconsts\u001b[0m \u001b[0;34m=\u001b[0m \u001b[0mpe\u001b[0m\u001b[0;34m.\u001b[0m\u001b[0mtrace_to_jaxpr_dynamic\u001b[0m\u001b[0;34m(\u001b[0m\u001b[0mjaxtree_fun\u001b[0m\u001b[0;34m,\u001b[0m \u001b[0min_avals\u001b[0m\u001b[0;34m)\u001b[0m\u001b[0;34m\u001b[0m\u001b[0;34m\u001b[0m\u001b[0m\n\u001b[0m\u001b[1;32m   1957\u001b[0m     \u001b[0;32melse\u001b[0m\u001b[0;34m:\u001b[0m\u001b[0;34m\u001b[0m\u001b[0;34m\u001b[0m\u001b[0m\n\u001b[1;32m   1958\u001b[0m       \u001b[0min_pvals\u001b[0m \u001b[0;34m=\u001b[0m \u001b[0;34m[\u001b[0m\u001b[0mpe\u001b[0m\u001b[0;34m.\u001b[0m\u001b[0mPartialVal\u001b[0m\u001b[0;34m.\u001b[0m\u001b[0munknown\u001b[0m\u001b[0;34m(\u001b[0m\u001b[0ma\u001b[0m\u001b[0;34m)\u001b[0m \u001b[0;32mfor\u001b[0m \u001b[0ma\u001b[0m \u001b[0;32min\u001b[0m \u001b[0min_avals\u001b[0m\u001b[0;34m]\u001b[0m\u001b[0;34m\u001b[0m\u001b[0;34m\u001b[0m\u001b[0m\n",
      "\u001b[0;32m~/Documents/research/venv/lib/python3.8/site-packages/jax/interpreters/partial_eval.py\u001b[0m in \u001b[0;36mtrace_to_jaxpr_dynamic\u001b[0;34m(fun, in_avals)\u001b[0m\n\u001b[1;32m   1166\u001b[0m     \u001b[0mmain\u001b[0m\u001b[0;34m.\u001b[0m\u001b[0msource_info\u001b[0m \u001b[0;34m=\u001b[0m \u001b[0mfun_sourceinfo\u001b[0m\u001b[0;34m(\u001b[0m\u001b[0mfun\u001b[0m\u001b[0;34m.\u001b[0m\u001b[0mf\u001b[0m\u001b[0;34m)\u001b[0m  \u001b[0;31m# type: ignore\u001b[0m\u001b[0;34m\u001b[0m\u001b[0;34m\u001b[0m\u001b[0m\n\u001b[1;32m   1167\u001b[0m     \u001b[0mmain\u001b[0m\u001b[0;34m.\u001b[0m\u001b[0mjaxpr_stack\u001b[0m \u001b[0;34m=\u001b[0m \u001b[0;34m(\u001b[0m\u001b[0;34m)\u001b[0m  \u001b[0;31m# type: ignore\u001b[0m\u001b[0;34m\u001b[0m\u001b[0;34m\u001b[0m\u001b[0m\n\u001b[0;32m-> 1168\u001b[0;31m     \u001b[0mjaxpr\u001b[0m\u001b[0;34m,\u001b[0m \u001b[0mout_avals\u001b[0m\u001b[0;34m,\u001b[0m \u001b[0mconsts\u001b[0m \u001b[0;34m=\u001b[0m \u001b[0mtrace_to_subjaxpr_dynamic\u001b[0m\u001b[0;34m(\u001b[0m\u001b[0mfun\u001b[0m\u001b[0;34m,\u001b[0m \u001b[0mmain\u001b[0m\u001b[0;34m,\u001b[0m \u001b[0min_avals\u001b[0m\u001b[0;34m)\u001b[0m\u001b[0;34m\u001b[0m\u001b[0;34m\u001b[0m\u001b[0m\n\u001b[0m\u001b[1;32m   1169\u001b[0m     \u001b[0;32mdel\u001b[0m \u001b[0mmain\u001b[0m\u001b[0;34m\u001b[0m\u001b[0;34m\u001b[0m\u001b[0m\n\u001b[1;32m   1170\u001b[0m   \u001b[0;32mreturn\u001b[0m \u001b[0mjaxpr\u001b[0m\u001b[0;34m,\u001b[0m \u001b[0mout_avals\u001b[0m\u001b[0;34m,\u001b[0m \u001b[0mconsts\u001b[0m\u001b[0;34m\u001b[0m\u001b[0;34m\u001b[0m\u001b[0m\n",
      "\u001b[0;32m~/Documents/research/venv/lib/python3.8/site-packages/jax/interpreters/partial_eval.py\u001b[0m in \u001b[0;36mtrace_to_subjaxpr_dynamic\u001b[0;34m(fun, main, in_avals)\u001b[0m\n\u001b[1;32m   1176\u001b[0m     \u001b[0mtrace\u001b[0m \u001b[0;34m=\u001b[0m \u001b[0mDynamicJaxprTrace\u001b[0m\u001b[0;34m(\u001b[0m\u001b[0mmain\u001b[0m\u001b[0;34m,\u001b[0m \u001b[0mcore\u001b[0m\u001b[0;34m.\u001b[0m\u001b[0mcur_sublevel\u001b[0m\u001b[0;34m(\u001b[0m\u001b[0;34m)\u001b[0m\u001b[0;34m)\u001b[0m\u001b[0;34m\u001b[0m\u001b[0;34m\u001b[0m\u001b[0m\n\u001b[1;32m   1177\u001b[0m     \u001b[0min_tracers\u001b[0m \u001b[0;34m=\u001b[0m \u001b[0mmap\u001b[0m\u001b[0;34m(\u001b[0m\u001b[0mtrace\u001b[0m\u001b[0;34m.\u001b[0m\u001b[0mnew_arg\u001b[0m\u001b[0;34m,\u001b[0m \u001b[0min_avals\u001b[0m\u001b[0;34m)\u001b[0m\u001b[0;34m\u001b[0m\u001b[0;34m\u001b[0m\u001b[0m\n\u001b[0;32m-> 1178\u001b[0;31m     \u001b[0mans\u001b[0m \u001b[0;34m=\u001b[0m \u001b[0mfun\u001b[0m\u001b[0;34m.\u001b[0m\u001b[0mcall_wrapped\u001b[0m\u001b[0;34m(\u001b[0m\u001b[0;34m*\u001b[0m\u001b[0min_tracers\u001b[0m\u001b[0;34m)\u001b[0m\u001b[0;34m\u001b[0m\u001b[0;34m\u001b[0m\u001b[0m\n\u001b[0m\u001b[1;32m   1179\u001b[0m     \u001b[0mout_tracers\u001b[0m \u001b[0;34m=\u001b[0m \u001b[0mmap\u001b[0m\u001b[0;34m(\u001b[0m\u001b[0mtrace\u001b[0m\u001b[0;34m.\u001b[0m\u001b[0mfull_raise\u001b[0m\u001b[0;34m,\u001b[0m \u001b[0mans\u001b[0m\u001b[0;34m)\u001b[0m\u001b[0;34m\u001b[0m\u001b[0;34m\u001b[0m\u001b[0m\n\u001b[1;32m   1180\u001b[0m   \u001b[0mjaxpr\u001b[0m\u001b[0;34m,\u001b[0m \u001b[0mout_avals\u001b[0m\u001b[0;34m,\u001b[0m \u001b[0mconsts\u001b[0m \u001b[0;34m=\u001b[0m \u001b[0mframe\u001b[0m\u001b[0;34m.\u001b[0m\u001b[0mto_jaxpr\u001b[0m\u001b[0;34m(\u001b[0m\u001b[0min_tracers\u001b[0m\u001b[0;34m,\u001b[0m \u001b[0mout_tracers\u001b[0m\u001b[0;34m)\u001b[0m\u001b[0;34m\u001b[0m\u001b[0;34m\u001b[0m\u001b[0m\n",
      "\u001b[0;32m~/Documents/research/venv/lib/python3.8/site-packages/jax/linear_util.py\u001b[0m in \u001b[0;36mcall_wrapped\u001b[0;34m(self, *args, **kwargs)\u001b[0m\n\u001b[1;32m    158\u001b[0m \u001b[0;34m\u001b[0m\u001b[0m\n\u001b[1;32m    159\u001b[0m     \u001b[0;32mtry\u001b[0m\u001b[0;34m:\u001b[0m\u001b[0;34m\u001b[0m\u001b[0;34m\u001b[0m\u001b[0m\n\u001b[0;32m--> 160\u001b[0;31m       \u001b[0mans\u001b[0m \u001b[0;34m=\u001b[0m \u001b[0mself\u001b[0m\u001b[0;34m.\u001b[0m\u001b[0mf\u001b[0m\u001b[0;34m(\u001b[0m\u001b[0;34m*\u001b[0m\u001b[0margs\u001b[0m\u001b[0;34m,\u001b[0m \u001b[0;34m**\u001b[0m\u001b[0mdict\u001b[0m\u001b[0;34m(\u001b[0m\u001b[0mself\u001b[0m\u001b[0;34m.\u001b[0m\u001b[0mparams\u001b[0m\u001b[0;34m,\u001b[0m \u001b[0;34m**\u001b[0m\u001b[0mkwargs\u001b[0m\u001b[0;34m)\u001b[0m\u001b[0;34m)\u001b[0m\u001b[0;34m\u001b[0m\u001b[0;34m\u001b[0m\u001b[0m\n\u001b[0m\u001b[1;32m    161\u001b[0m     \u001b[0;32mexcept\u001b[0m\u001b[0;34m:\u001b[0m\u001b[0;34m\u001b[0m\u001b[0;34m\u001b[0m\u001b[0m\n\u001b[1;32m    162\u001b[0m       \u001b[0;31m# Some transformations yield from inside context managers, so we have to\u001b[0m\u001b[0;34m\u001b[0m\u001b[0;34m\u001b[0m\u001b[0;34m\u001b[0m\u001b[0m\n",
      "\u001b[0;32m<ipython-input-15-66d6bf88dce5>\u001b[0m in \u001b[0;36mfoo4\u001b[0;34m(x)\u001b[0m\n\u001b[1;32m      1\u001b[0m \u001b[0;32mdef\u001b[0m \u001b[0mfoo4\u001b[0m\u001b[0;34m(\u001b[0m\u001b[0mx\u001b[0m\u001b[0;34m)\u001b[0m\u001b[0;34m:\u001b[0m\u001b[0;34m\u001b[0m\u001b[0;34m\u001b[0m\u001b[0m\n\u001b[0;32m----> 2\u001b[0;31m     \u001b[0;32mif\u001b[0m \u001b[0mx\u001b[0m \u001b[0;34m<\u001b[0m \u001b[0;36m0\u001b[0m\u001b[0;34m:\u001b[0m\u001b[0;34m\u001b[0m\u001b[0;34m\u001b[0m\u001b[0m\n\u001b[0m\u001b[1;32m      3\u001b[0m         \u001b[0;32mreturn\u001b[0m \u001b[0;36m2\u001b[0m\u001b[0;34m*\u001b[0m\u001b[0mx\u001b[0m\u001b[0;34m\u001b[0m\u001b[0;34m\u001b[0m\u001b[0m\n\u001b[1;32m      4\u001b[0m     \u001b[0;32melse\u001b[0m\u001b[0;34m:\u001b[0m\u001b[0;34m\u001b[0m\u001b[0;34m\u001b[0m\u001b[0m\n\u001b[1;32m      5\u001b[0m         \u001b[0;32mreturn\u001b[0m \u001b[0mx\u001b[0m\u001b[0;34m\u001b[0m\u001b[0;34m\u001b[0m\u001b[0m\n",
      "\u001b[0;32m~/Documents/research/venv/lib/python3.8/site-packages/jax/core.py\u001b[0m in \u001b[0;36m__bool__\u001b[0;34m(self)\u001b[0m\n\u001b[1;32m    510\u001b[0m   \u001b[0;32mdef\u001b[0m \u001b[0m__getitem__\u001b[0m\u001b[0;34m(\u001b[0m\u001b[0mself\u001b[0m\u001b[0;34m,\u001b[0m \u001b[0midx\u001b[0m\u001b[0;34m)\u001b[0m\u001b[0;34m:\u001b[0m \u001b[0;32mreturn\u001b[0m \u001b[0mself\u001b[0m\u001b[0;34m.\u001b[0m\u001b[0maval\u001b[0m\u001b[0;34m.\u001b[0m\u001b[0m_getitem\u001b[0m\u001b[0;34m(\u001b[0m\u001b[0mself\u001b[0m\u001b[0;34m,\u001b[0m \u001b[0midx\u001b[0m\u001b[0;34m)\u001b[0m\u001b[0;34m\u001b[0m\u001b[0;34m\u001b[0m\u001b[0m\n\u001b[1;32m    511\u001b[0m   \u001b[0;32mdef\u001b[0m \u001b[0m__nonzero__\u001b[0m\u001b[0;34m(\u001b[0m\u001b[0mself\u001b[0m\u001b[0;34m)\u001b[0m\u001b[0;34m:\u001b[0m \u001b[0;32mreturn\u001b[0m \u001b[0mself\u001b[0m\u001b[0;34m.\u001b[0m\u001b[0maval\u001b[0m\u001b[0;34m.\u001b[0m\u001b[0m_nonzero\u001b[0m\u001b[0;34m(\u001b[0m\u001b[0mself\u001b[0m\u001b[0;34m)\u001b[0m\u001b[0;34m\u001b[0m\u001b[0;34m\u001b[0m\u001b[0m\n\u001b[0;32m--> 512\u001b[0;31m   \u001b[0;32mdef\u001b[0m \u001b[0m__bool__\u001b[0m\u001b[0;34m(\u001b[0m\u001b[0mself\u001b[0m\u001b[0;34m)\u001b[0m\u001b[0;34m:\u001b[0m \u001b[0;32mreturn\u001b[0m \u001b[0mself\u001b[0m\u001b[0;34m.\u001b[0m\u001b[0maval\u001b[0m\u001b[0;34m.\u001b[0m\u001b[0m_bool\u001b[0m\u001b[0;34m(\u001b[0m\u001b[0mself\u001b[0m\u001b[0;34m)\u001b[0m\u001b[0;34m\u001b[0m\u001b[0;34m\u001b[0m\u001b[0m\n\u001b[0m\u001b[1;32m    513\u001b[0m   \u001b[0;32mdef\u001b[0m \u001b[0m__int__\u001b[0m\u001b[0;34m(\u001b[0m\u001b[0mself\u001b[0m\u001b[0;34m)\u001b[0m\u001b[0;34m:\u001b[0m \u001b[0;32mreturn\u001b[0m \u001b[0mself\u001b[0m\u001b[0;34m.\u001b[0m\u001b[0maval\u001b[0m\u001b[0;34m.\u001b[0m\u001b[0m_int\u001b[0m\u001b[0;34m(\u001b[0m\u001b[0mself\u001b[0m\u001b[0;34m)\u001b[0m\u001b[0;34m\u001b[0m\u001b[0;34m\u001b[0m\u001b[0m\n\u001b[1;32m    514\u001b[0m   \u001b[0;32mdef\u001b[0m \u001b[0m__long__\u001b[0m\u001b[0;34m(\u001b[0m\u001b[0mself\u001b[0m\u001b[0;34m)\u001b[0m\u001b[0;34m:\u001b[0m \u001b[0;32mreturn\u001b[0m \u001b[0mself\u001b[0m\u001b[0;34m.\u001b[0m\u001b[0maval\u001b[0m\u001b[0;34m.\u001b[0m\u001b[0m_long\u001b[0m\u001b[0;34m(\u001b[0m\u001b[0mself\u001b[0m\u001b[0;34m)\u001b[0m\u001b[0;34m\u001b[0m\u001b[0;34m\u001b[0m\u001b[0m\n",
      "\u001b[0;32m~/Documents/research/venv/lib/python3.8/site-packages/jax/core.py\u001b[0m in \u001b[0;36merror\u001b[0;34m(self, arg)\u001b[0m\n\u001b[1;32m    892\u001b[0m                       f\"or `jnp.array(x, {fun.__name__})` instead.\")\n\u001b[1;32m    893\u001b[0m   \u001b[0;32mdef\u001b[0m \u001b[0merror\u001b[0m\u001b[0;34m(\u001b[0m\u001b[0mself\u001b[0m\u001b[0;34m,\u001b[0m \u001b[0marg\u001b[0m\u001b[0;34m)\u001b[0m\u001b[0;34m:\u001b[0m\u001b[0;34m\u001b[0m\u001b[0;34m\u001b[0m\u001b[0m\n\u001b[0;32m--> 894\u001b[0;31m     \u001b[0mraise_concretization_error\u001b[0m\u001b[0;34m(\u001b[0m\u001b[0marg\u001b[0m\u001b[0;34m,\u001b[0m \u001b[0mfname_context\u001b[0m\u001b[0;34m)\u001b[0m\u001b[0;34m\u001b[0m\u001b[0;34m\u001b[0m\u001b[0m\n\u001b[0m\u001b[1;32m    895\u001b[0m   \u001b[0;32mreturn\u001b[0m \u001b[0merror\u001b[0m\u001b[0;34m\u001b[0m\u001b[0;34m\u001b[0m\u001b[0m\n\u001b[1;32m    896\u001b[0m \u001b[0;34m\u001b[0m\u001b[0m\n",
      "\u001b[0;32m~/Documents/research/venv/lib/python3.8/site-packages/jax/core.py\u001b[0m in \u001b[0;36mraise_concretization_error\u001b[0;34m(val, context)\u001b[0m\n\u001b[1;32m    881\u001b[0m          \u001b[0;34m\"See https://jax.readthedocs.io/en/latest/faq.html#abstract-tracer-value-encountered-where-concrete-value-is-expected-error for more information.\\n\\n\"\u001b[0m\u001b[0;34m\u001b[0m\u001b[0;34m\u001b[0m\u001b[0m\n\u001b[1;32m    882\u001b[0m           f\"Encountered tracer value: {val}\")\n\u001b[0;32m--> 883\u001b[0;31m   \u001b[0;32mraise\u001b[0m \u001b[0mConcretizationTypeError\u001b[0m\u001b[0;34m(\u001b[0m\u001b[0mmsg\u001b[0m\u001b[0;34m)\u001b[0m\u001b[0;34m\u001b[0m\u001b[0;34m\u001b[0m\u001b[0m\n\u001b[0m\u001b[1;32m    884\u001b[0m \u001b[0;34m\u001b[0m\u001b[0m\n\u001b[1;32m    885\u001b[0m \u001b[0;34m\u001b[0m\u001b[0m\n",
      "\u001b[0;31mConcretizationTypeError\u001b[0m: Abstract tracer value encountered where concrete value is expected.\n\nThe problem arose with the `bool` function. \n\nWhile tracing the function foo4 at <ipython-input-15-66d6bf88dce5>:1, this concrete value was not available in Python because it depends on the value of the arguments to foo4 at <ipython-input-15-66d6bf88dce5>:1 at flattened positions [0], and the computation of these values is being staged out (that is, delayed rather than executed eagerly).\n\nYou can use transformation parameters such as `static_argnums` for `jit` to avoid tracing particular arguments of transformed functions, though at the cost of more recompiles.\n\nSee https://jax.readthedocs.io/en/latest/faq.html#abstract-tracer-value-encountered-where-concrete-value-is-expected-error for more information.\n\nEncountered tracer value: Traced<ShapedArray(bool[])>with<DynamicJaxprTrace(level=1/0)>"
     ]
    }
   ],
   "source": [
    "# this doesn't work, as when the function is traced it replaces inputs with abstract values!\n",
    "\n",
    "make_jaxpr(foo4)(2)"
   ]
  },
  {
   "cell_type": "markdown",
   "metadata": {},
   "source": [
    "However conditioning on values works for autodiff:\n"
   ]
  },
  {
   "cell_type": "code",
   "execution_count": 17,
   "metadata": {},
   "outputs": [
    {
     "data": {
      "text/plain": [
       "array(1., dtype=float32)"
      ]
     },
     "execution_count": 17,
     "metadata": {},
     "output_type": "execute_result"
    }
   ],
   "source": [
    "# this works!\n",
    "grad(foo4)(4.)"
   ]
  },
  {
   "cell_type": "markdown",
   "metadata": {},
   "source": [
    "**Remark 1: Tracing with `grad`:** taking the grad of `foo4` still works. This is odd as the function is also traced!\n",
    "\n",
    "This is because Jax considers different levels of abstraction (from [this talk](https://slideslive.com/38923687/jax-accelerated-machinelearning-research-via-composable-function-transformations-in-python) at 32:29):\n",
    " \n",
    " \n",
    "- `Unshaped(f32)`: no control flow allowed. Ex: `z = cos(x+y)`\n",
    "- `Shaped(f32, (2,2))`: can branch on shape. Ex: `if x.shape[0]>2:..` or `for subarray in array: ..`\n",
    "    - `jit` and `vmap` use this\n",
    "- `EpsilonBall(f32, [[1.,2.], [3.,4.]])...`: can branch on value if x.val != 0. Ex: `if x>0:...`\n",
    "    - `grad` uses this\n",
    "- `Concrete(f32)`: can always branch on value\n",
    "    - `eval` uses this\n",
    "\n",
    "\n",
    "**Remark 2:** There's no `EpsilonBall` class/variable in the source; they might be doing something else now.. That talk was from December 2019"
   ]
  },
  {
   "cell_type": "markdown",
   "metadata": {},
   "source": [
    "### 4. Higher-order primitives\n",
    "\n",
    "\n",
    "#### Conditionals: To condition on a concrete value you can use `jnp.where` or `lax.cond`"
   ]
  },
  {
   "cell_type": "code",
   "execution_count": 18,
   "metadata": {},
   "outputs": [],
   "source": [
    "from jax import lax\n",
    "\n",
    "# python version\n",
    "def python_cond(x):\n",
    "    if x >0:\n",
    "        return 2*x\n",
    "    else:\n",
    "        return 0\n",
    "    \n",
    "@jit\n",
    "def jax_cond1(x):\n",
    "    return lax.cond(x>0., \n",
    "                    lambda y: 2.*y, \n",
    "                    lambda _: 0., \n",
    "                    x)\n",
    "\n",
    "@jit\n",
    "def jax_cond2(x):\n",
    "    return jnp.where(x>0, 2*x, 0.)\n"
   ]
  },
  {
   "cell_type": "code",
   "execution_count": 19,
   "metadata": {},
   "outputs": [
    {
     "data": {
      "text/plain": [
       "8.0"
      ]
     },
     "execution_count": 19,
     "metadata": {},
     "output_type": "execute_result"
    }
   ],
   "source": [
    "python_cond(4.)"
   ]
  },
  {
   "cell_type": "code",
   "execution_count": 20,
   "metadata": {},
   "outputs": [
    {
     "data": {
      "text/plain": [
       "{ lambda  ; a.\n",
       "  let b = xla_call[ backend=None\n",
       "                    call_jaxpr={ lambda  ; a.\n",
       "                                 let b = gt a 0.0\n",
       "                                     c = convert_element_type[ new_dtype=int32\n",
       "                                                               old_dtype=bool ] b\n",
       "                                     d = cond[ branches=( { lambda  ; a.\n",
       "                                                            let \n",
       "                                                            in (0.0,) }\n",
       "                                                          { lambda  ; a.\n",
       "                                                            let b = mul a 2.0\n",
       "                                                            in (b,) } )\n",
       "                                               linear=(False,) ] c a\n",
       "                                 in (d,) }\n",
       "                    device=None\n",
       "                    donated_invars=(False,)\n",
       "                    name=jax_cond1 ] a\n",
       "  in (b,) }"
      ]
     },
     "execution_count": 20,
     "metadata": {},
     "output_type": "execute_result"
    }
   ],
   "source": [
    "# this works\n",
    "make_jaxpr(jax_cond1)(4.)"
   ]
  },
  {
   "cell_type": "code",
   "execution_count": 21,
   "metadata": {},
   "outputs": [
    {
     "data": {
      "text/plain": [
       "{ lambda  ; a.\n",
       "  let b = xla_call[ backend=None\n",
       "                    call_jaxpr={ lambda  ; a.\n",
       "                                 let b = gt a 0.0\n",
       "                                     c = mul a 2.0\n",
       "                                     d = xla_call[ backend=None\n",
       "                                                   call_jaxpr={ lambda  ; a b c.\n",
       "                                                                let d = select a b c\n",
       "                                                                in (d,) }\n",
       "                                                   device=None\n",
       "                                                   donated_invars=(False, False, False)\n",
       "                                                   name=_where ] b c 0.0\n",
       "                                 in (d,) }\n",
       "                    device=None\n",
       "                    donated_invars=(False,)\n",
       "                    name=jax_cond2 ] a\n",
       "  in (b,) }"
      ]
     },
     "execution_count": 21,
     "metadata": {},
     "output_type": "execute_result"
    }
   ],
   "source": [
    "make_jaxpr(jax_cond2)(4.)"
   ]
  },
  {
   "cell_type": "code",
   "execution_count": null,
   "metadata": {},
   "outputs": [],
   "source": []
  },
  {
   "cell_type": "code",
   "execution_count": 22,
   "metadata": {},
   "outputs": [
    {
     "name": "stdout",
     "output_type": "stream",
     "text": [
      "8.0\n",
      "8.0\n",
      "0.0\n",
      "0.0\n"
     ]
    }
   ],
   "source": [
    "# jitting also works\n",
    "print(jit(jax_cond1)(4.))\n",
    "print(jit(jax_cond2)(4.))\n",
    "print(jit(jax_cond1)(-4.))\n",
    "print(jit(jax_cond2)(-4.))"
   ]
  },
  {
   "cell_type": "markdown",
   "metadata": {},
   "source": [
    "#### Scan: this is the Jax way to loop over an array"
   ]
  },
  {
   "cell_type": "code",
   "execution_count": 23,
   "metadata": {},
   "outputs": [
    {
     "name": "stdout",
     "output_type": "stream",
     "text": [
      "(DeviceArray(225, dtype=int32), DeviceArray([  0,   5,  15,  30,  50,  75, 105, 140, 180, 225], dtype=int32), DeviceArray([120, 120, 120, 120, 120, 120, 120, 120, 120, 120], dtype=int32))\n"
     ]
    }
   ],
   "source": [
    "def python_scan(x):\n",
    "    new_list = []\n",
    "    carry = 0\n",
    "    \n",
    "    for elem in np.arange(10):\n",
    "        carry += elem*x\n",
    "        new_list.append(carry)\n",
    "    return carry, new_list\n",
    "\n",
    "\n",
    "def jax_scan(x):\n",
    "    def body(carry, elem):\n",
    "        carry += elem*x\n",
    "        return (carry, (carry, 120))\n",
    "    \n",
    "    carry, (new_list, alt_list) = lax.scan(body, (0), jnp.arange(10))\n",
    "    return carry, new_list, alt_list\n",
    "\n",
    "print(jax_scan(5))"
   ]
  },
  {
   "cell_type": "code",
   "execution_count": null,
   "metadata": {},
   "outputs": [],
   "source": []
  },
  {
   "cell_type": "code",
   "execution_count": null,
   "metadata": {},
   "outputs": [],
   "source": []
  },
  {
   "cell_type": "code",
   "execution_count": 24,
   "metadata": {},
   "outputs": [
    {
     "data": {
      "text/plain": [
       "(225, [0, 5, 15, 30, 50, 75, 105, 140, 180, 225])"
      ]
     },
     "execution_count": 24,
     "metadata": {},
     "output_type": "execute_result"
    }
   ],
   "source": [
    "python_scan(5)"
   ]
  },
  {
   "cell_type": "code",
   "execution_count": 25,
   "metadata": {},
   "outputs": [
    {
     "data": {
      "text/plain": [
       "{ lambda  ; a.\n",
       "  let b = iota[ dimension=0\n",
       "                dtype=int32\n",
       "                shape=(10,) ] \n",
       "      c d e = scan[ jaxpr={ lambda  ; a b c.\n",
       "                            let d = mul c a\n",
       "                                e = add b d\n",
       "                            in (e, e, 120) }\n",
       "                    length=10\n",
       "                    linear=(False, False, False)\n",
       "                    num_carry=1\n",
       "                    num_consts=1\n",
       "                    reverse=False\n",
       "                    unroll=1 ] a 0 b\n",
       "  in (c, d, e) }"
      ]
     },
     "execution_count": 25,
     "metadata": {},
     "output_type": "execute_result"
    }
   ],
   "source": [
    "make_jaxpr(jax_scan)(10)"
   ]
  },
  {
   "cell_type": "code",
   "execution_count": null,
   "metadata": {},
   "outputs": [],
   "source": []
  },
  {
   "cell_type": "markdown",
   "metadata": {},
   "source": [
    "# Writing  a Jaxpr interpreter"
   ]
  },
  {
   "cell_type": "markdown",
   "metadata": {},
   "source": [
    "## Part 1: rewrite the Jax interpreter \n",
    "\n",
    "Writing a basic interpreter is in some cases surprisingly simple: see Peter Norvig's blog post about writing a [Lisp interpreter in Python](https://norvig.com/lispy.html). This involves doing the following 2 things:\n",
    "1. Parse the program to represent it in a nice way. In Peter Noriv's post it's an abstract syntax tree. For Jax this is the Jaxpr!\n",
    "2. Evaluate this intermediate representation. This is what we're doing here as we already have the Jaxpr\n",
    "\n",
    "\n",
    "\n",
    "**Plan:** We will do the following:\n",
    "\n",
    "1. Look at function [`eval_jaxpr`](https://jax.readthedocs.io/en/latest/notebooks/Writing_custom_interpreters_in_Jax.html#2.-Evaluating-a-Jaxpr) to see the big picture\n",
    "2. Go through each line in the notebook to see what's going on in detail\n",
    "3. Look at the function again and test it!\n"
   ]
  },
  {
   "cell_type": "code",
   "execution_count": 26,
   "metadata": {},
   "outputs": [],
   "source": [
    "import numpy as np\n",
    "from functools import wraps\n",
    "\n",
    "from jax import core, lax\n",
    "from jax.util import safe_map"
   ]
  },
  {
   "cell_type": "code",
   "execution_count": 27,
   "metadata": {},
   "outputs": [
    {
     "name": "stdout",
     "output_type": "stream",
     "text": [
      "ClosedJaxpr:\n",
      "{ lambda  ; a.\n",
      "  let b = tanh a\n",
      "      c = exp b\n",
      "  in (c,) }\n",
      "\n",
      "Literals: []\n"
     ]
    }
   ],
   "source": [
    "# Here is the function we'll be playing with\n",
    "def f(x):\n",
    "    return jnp.exp(jnp.tanh(x))\n",
    "\n",
    "closed_jaxpr = jax.make_jaxpr(f)(jnp.ones(5))\n",
    "\n",
    "print(f\"ClosedJaxpr:\\n{closed_jaxpr}\")\n",
    "print(f\"\\nLiterals: {closed_jaxpr.literals}\")"
   ]
  },
  {
   "cell_type": "code",
   "execution_count": 28,
   "metadata": {},
   "outputs": [
    {
     "name": "stdout",
     "output_type": "stream",
     "text": [
      "<class 'jax.core.ClosedJaxpr'>\n",
      "<class 'jax.core.Jaxpr'>\n"
     ]
    }
   ],
   "source": [
    "print(type(closed_jaxpr))\n",
    "print(type(closed_jaxpr.jaxpr))"
   ]
  },
  {
   "cell_type": "code",
   "execution_count": 29,
   "metadata": {},
   "outputs": [
    {
     "data": {
      "text/plain": [
       "[]"
      ]
     },
     "execution_count": 29,
     "metadata": {},
     "output_type": "execute_result"
    }
   ],
   "source": [
    "# see what fields `closed_jaxpr` has:\n",
    "closed_jaxpr.consts"
   ]
  },
  {
   "cell_type": "markdown",
   "metadata": {},
   "source": [
    "### Note about ClosedJaxpr vs Jaxpr\n",
    "\n",
    "- printing a `ClosedJaxpr` simply prints `self.jaxpr`\n",
    "- printing `self.jaxpr` prints a nice looking version of all the stuff inside (the inargs, equations etc..)\n"
   ]
  },
  {
   "cell_type": "markdown",
   "metadata": {},
   "source": [
    "#### Define `read` and `write` functions"
   ]
  },
  {
   "cell_type": "code",
   "execution_count": 30,
   "metadata": {},
   "outputs": [
    {
     "name": "stdout",
     "output_type": "stream",
     "text": [
      "{}\n"
     ]
    }
   ],
   "source": [
    "env = {}\n",
    "\n",
    "def read(var):\n",
    "    if type(var) is core.Literal:\n",
    "        return var.val\n",
    "    return env[var]\n",
    "\n",
    "def write(var, val):\n",
    "    env[var] = val\n",
    "    \n",
    "print(env)"
   ]
  },
  {
   "cell_type": "markdown",
   "metadata": {},
   "source": [
    "#### Bind args and consts to environment"
   ]
  },
  {
   "cell_type": "markdown",
   "metadata": {},
   "source": [
    "`Unit` and `UnitVar` are in [core.py](https://github.com/google/jax/blob/master/jax/core.py#L859)"
   ]
  },
  {
   "cell_type": "code",
   "execution_count": 31,
   "metadata": {},
   "outputs": [
    {
     "name": "stdout",
     "output_type": "stream",
     "text": [
      "*\n",
      "*\n"
     ]
    }
   ],
   "source": [
    "# for some reason we must add this to the env dictionary (both have `__repr__(self): return \"*\"`)\n",
    "write(core.unitvar, core.unit)\n",
    "\n",
    "print(core.unitvar)\n",
    "print(core.unit)"
   ]
  },
  {
   "cell_type": "code",
   "execution_count": 32,
   "metadata": {},
   "outputs": [
    {
     "data": {
      "text/plain": [
       "{*: *}"
      ]
     },
     "execution_count": 32,
     "metadata": {},
     "output_type": "execute_result"
    }
   ],
   "source": [
    "# the env dictionary is now updated\n",
    "env"
   ]
  },
  {
   "cell_type": "code",
   "execution_count": 33,
   "metadata": {},
   "outputs": [
    {
     "data": {
      "text/plain": [
       "[a]"
      ]
     },
     "execution_count": 33,
     "metadata": {},
     "output_type": "execute_result"
    }
   ],
   "source": [
    "# Here are the variables (ie: arguments) of our function (without the concrete value)\n",
    "closed_jaxpr.jaxpr.invars"
   ]
  },
  {
   "cell_type": "code",
   "execution_count": 34,
   "metadata": {},
   "outputs": [],
   "source": [
    "# We assign `jnp.ones(5)` to this variable (ie: imagine that we've passed it to the function)\n",
    "write(closed_jaxpr.jaxpr.invars[0], jnp.ones(5))"
   ]
  },
  {
   "cell_type": "code",
   "execution_count": 35,
   "metadata": {},
   "outputs": [
    {
     "data": {
      "text/plain": [
       "{*: *, a: DeviceArray([1., 1., 1., 1., 1.], dtype=float32)}"
      ]
     },
     "execution_count": 35,
     "metadata": {},
     "output_type": "execute_result"
    }
   ],
   "source": [
    "env"
   ]
  },
  {
   "cell_type": "code",
   "execution_count": null,
   "metadata": {},
   "outputs": [],
   "source": []
  },
  {
   "cell_type": "code",
   "execution_count": 36,
   "metadata": {},
   "outputs": [
    {
     "data": {
      "text/plain": [
       "[None]"
      ]
     },
     "execution_count": 36,
     "metadata": {},
     "output_type": "execute_result"
    }
   ],
   "source": [
    "# Our function might have many arguments, so we should do this for all of them\n",
    "# We need to call list with the map function as `map` is lazy\n",
    "list(map(write, closed_jaxpr.jaxpr.invars, [jnp.ones(5)]))"
   ]
  },
  {
   "cell_type": "markdown",
   "metadata": {},
   "source": [
    "Jax uses [`safe_map`](https://github.com/google/jax/blob/master/jax/util.py#L30) to write all the input arguments to the environment"
   ]
  },
  {
   "cell_type": "code",
   "execution_count": 37,
   "metadata": {},
   "outputs": [],
   "source": [
    "# Note that in Jax they define `safe_map` which first checks \n",
    "# there are the same number of `invars` as there are args:\n",
    "def safe_map(f, *args):\n",
    "    args = list(map(list, args))\n",
    "    n = len(args[0])\n",
    "    for arg in args[1:]:\n",
    "        assert len(arg) == n, 'length mismatch: {}'.format(list(map(len, args)))\n",
    "    return list(map(f, *args))"
   ]
  },
  {
   "cell_type": "code",
   "execution_count": 38,
   "metadata": {},
   "outputs": [
    {
     "name": "stdout",
     "output_type": "stream",
     "text": [
      "[[a], [DeviceArray([1., 1., 1., 1., 1.], dtype=float32)]]\n",
      "[1, 1]\n"
     ]
    }
   ],
   "source": [
    "args = (closed_jaxpr.jaxpr.invars, [jnp.ones(5)])\n",
    "\n",
    "args = list(map(list, args))\n",
    "\n",
    "print(args)\n",
    "\n",
    "# notice that all the lengths agree!\n",
    "# This means that we've passed in the correct number of arguments\n",
    "print([len(i) for i in args])"
   ]
  },
  {
   "cell_type": "code",
   "execution_count": 39,
   "metadata": {},
   "outputs": [
    {
     "data": {
      "text/plain": [
       "[]"
      ]
     },
     "execution_count": 39,
     "metadata": {},
     "output_type": "execute_result"
    }
   ],
   "source": [
    "# We now deal with the `constvars`. There are none for our function\n",
    "closed_jaxpr.literals"
   ]
  },
  {
   "cell_type": "code",
   "execution_count": 40,
   "metadata": {},
   "outputs": [
    {
     "name": "stdout",
     "output_type": "stream",
     "text": [
      "{*: *, a: DeviceArray([1., 1., 1., 1., 1.], dtype=float32)}\n"
     ]
    }
   ],
   "source": [
    "# If there were, we would now add these to the env dictionary\n",
    "safe_map(write, closed_jaxpr.jaxpr.constvars, [])\n",
    "\n",
    "print(env)"
   ]
  },
  {
   "cell_type": "markdown",
   "metadata": {},
   "source": [
    "#### Loop through equations"
   ]
  },
  {
   "cell_type": "code",
   "execution_count": 41,
   "metadata": {},
   "outputs": [
    {
     "name": "stdout",
     "output_type": "stream",
     "text": [
      "[b = tanh a, c = exp b]\n"
     ]
    }
   ],
   "source": [
    "# We now loop through each equation, evaluate them, and add them to the env\n",
    "print(closed_jaxpr.jaxpr.eqns)\n",
    "\n",
    "# Let's go through the first equation\n",
    "my_eqn = closed_jaxpr.jaxpr.eqns[0]"
   ]
  },
  {
   "cell_type": "code",
   "execution_count": 42,
   "metadata": {},
   "outputs": [
    {
     "data": {
      "text/plain": [
       "[a]"
      ]
     },
     "execution_count": 42,
     "metadata": {},
     "output_type": "execute_result"
    }
   ],
   "source": [
    "# see what fields my_eqn has\n",
    "my_eqn.invars"
   ]
  },
  {
   "cell_type": "code",
   "execution_count": 43,
   "metadata": {},
   "outputs": [
    {
     "name": "stdout",
     "output_type": "stream",
     "text": [
      "{*: *, a: DeviceArray([1., 1., 1., 1., 1.], dtype=float32)}\n",
      "invals: [DeviceArray([1., 1., 1., 1., 1.], dtype=float32)]\n"
     ]
    }
   ],
   "source": [
    "print(env) # recall the environment\n",
    "\n",
    "# this just get's the value from `a`\n",
    "invals = safe_map(read, my_eqn.invars) \n",
    "print(f\"invals: {invals}\")"
   ]
  },
  {
   "cell_type": "markdown",
   "metadata": {},
   "source": [
    "See the [Primitive](https://github.com/google/jax/blob/master/jax/core.py#L252) class in `core.py`"
   ]
  },
  {
   "cell_type": "code",
   "execution_count": 44,
   "metadata": {},
   "outputs": [
    {
     "data": {
      "text/plain": [
       "{}"
      ]
     },
     "execution_count": 44,
     "metadata": {},
     "output_type": "execute_result"
    }
   ],
   "source": [
    "my_eqn.params"
   ]
  },
  {
   "cell_type": "code",
   "execution_count": 45,
   "metadata": {},
   "outputs": [
    {
     "name": "stdout",
     "output_type": "stream",
     "text": [
      "[0.7615942 0.7615942 0.7615942 0.7615942 0.7615942]\n"
     ]
    }
   ],
   "source": [
    "# the `bind` method is how a primitive is called\n",
    "outvals = my_eqn.primitive.bind(*invals, **my_eqn.params)\n",
    "print(outvals)"
   ]
  },
  {
   "cell_type": "code",
   "execution_count": 46,
   "metadata": {},
   "outputs": [
    {
     "name": "stdout",
     "output_type": "stream",
     "text": [
      "b = tanh a\n",
      "Answer:  [0.76159416 0.76159416 0.76159416 0.76159416 0.76159416]\n"
     ]
    }
   ],
   "source": [
    "# Let's check that this is correct\n",
    "# The equation is tanh\n",
    "print(my_eqn)\n",
    "print(\"Answer: \", np.tanh(np.ones(5)))"
   ]
  },
  {
   "cell_type": "code",
   "execution_count": 47,
   "metadata": {},
   "outputs": [
    {
     "name": "stdout",
     "output_type": "stream",
     "text": [
      "Multiple results?  False\n",
      "outvals [DeviceArray([0.7615942, 0.7615942, 0.7615942, 0.7615942, 0.7615942], dtype=float32)]\n"
     ]
    }
   ],
   "source": [
    "# if the function returns a single output, place outvals in a list:\n",
    "print(\"Multiple results? \",my_eqn.primitive.multiple_results)\n",
    "\n",
    "if not my_eqn.primitive.multiple_results:\n",
    "    outvals = [outvals]\n",
    "    \n",
    "print(\"outvals\", outvals)"
   ]
  },
  {
   "cell_type": "code",
   "execution_count": 48,
   "metadata": {},
   "outputs": [
    {
     "name": "stdout",
     "output_type": "stream",
     "text": [
      "name of output of our equation: [b]\n",
      "value of output: [DeviceArray([0.7615942, 0.7615942, 0.7615942, 0.7615942, 0.7615942], dtype=float32)]\n"
     ]
    }
   ],
   "source": [
    "print(\"name of output of our equation:\", my_eqn.outvars)\n",
    "print(\"value of output:\", outvals)"
   ]
  },
  {
   "cell_type": "code",
   "execution_count": 49,
   "metadata": {},
   "outputs": [
    {
     "data": {
      "text/plain": [
       "[None]"
      ]
     },
     "execution_count": 49,
     "metadata": {},
     "output_type": "execute_result"
    }
   ],
   "source": [
    "# now write the result (ie: `outvals`) to env\n",
    "safe_map(write, my_eqn.outvars, outvals)"
   ]
  },
  {
   "cell_type": "code",
   "execution_count": 50,
   "metadata": {},
   "outputs": [
    {
     "data": {
      "text/plain": [
       "{*: *,\n",
       " a: DeviceArray([1., 1., 1., 1., 1.], dtype=float32),\n",
       " b: DeviceArray([0.7615942, 0.7615942, 0.7615942, 0.7615942, 0.7615942], dtype=float32)}"
      ]
     },
     "execution_count": 50,
     "metadata": {},
     "output_type": "execute_result"
    }
   ],
   "source": [
    "env"
   ]
  },
  {
   "cell_type": "markdown",
   "metadata": {},
   "source": [
    "**Now do the same for the other equation**"
   ]
  },
  {
   "cell_type": "code",
   "execution_count": 51,
   "metadata": {},
   "outputs": [
    {
     "name": "stdout",
     "output_type": "stream",
     "text": [
      "c = exp b\n"
     ]
    }
   ],
   "source": [
    "my_eqn = closed_jaxpr.jaxpr.eqns[1]\n",
    "print(my_eqn)"
   ]
  },
  {
   "cell_type": "code",
   "execution_count": 52,
   "metadata": {},
   "outputs": [
    {
     "name": "stdout",
     "output_type": "stream",
     "text": [
      "env:\n",
      "\n",
      "key: *, val: *\n",
      "key: a, val: [1. 1. 1. 1. 1.]\n",
      "key: b, val: [0.7615942 0.7615942 0.7615942 0.7615942 0.7615942]\n",
      "key: c, val: [2.1416876 2.1416876 2.1416876 2.1416876 2.1416876]\n"
     ]
    }
   ],
   "source": [
    "invals = safe_map(read, my_eqn.invars)\n",
    "outvals = my_eqn.primitive.bind(*invals, **my_eqn.params)\n",
    "if not my_eqn.primitive.multiple_results:\n",
    "      outvals = [outvals]\n",
    "safe_map(write, my_eqn.outvars, outvals)\n",
    "\n",
    "print(\"env:\\n\")\n",
    "for k,v in env.items():\n",
    "    print(f\"key: {k}, val: {v}\")"
   ]
  },
  {
   "cell_type": "code",
   "execution_count": 53,
   "metadata": {},
   "outputs": [
    {
     "data": {
      "text/plain": [
       "[DeviceArray([2.1416876, 2.1416876, 2.1416876, 2.1416876, 2.1416876], dtype=float32)]"
      ]
     },
     "execution_count": 53,
     "metadata": {},
     "output_type": "execute_result"
    }
   ],
   "source": [
    "# read out final output (ie: the last variable)\n",
    "safe_map(read, closed_jaxpr.jaxpr.outvars)"
   ]
  },
  {
   "cell_type": "code",
   "execution_count": 54,
   "metadata": {},
   "outputs": [
    {
     "data": {
      "text/plain": [
       "DeviceArray([2.1416876, 2.1416876, 2.1416876, 2.1416876, 2.1416876], dtype=float32)"
      ]
     },
     "execution_count": 54,
     "metadata": {},
     "output_type": "execute_result"
    }
   ],
   "source": [
    "# Check:\n",
    "f(jnp.ones(5))"
   ]
  },
  {
   "cell_type": "code",
   "execution_count": null,
   "metadata": {},
   "outputs": [],
   "source": []
  },
  {
   "cell_type": "code",
   "execution_count": null,
   "metadata": {},
   "outputs": [],
   "source": []
  },
  {
   "cell_type": "markdown",
   "metadata": {},
   "source": [
    "## Interpreter: put it all in a function"
   ]
  },
  {
   "cell_type": "code",
   "execution_count": 55,
   "metadata": {},
   "outputs": [],
   "source": [
    "def eval_jaxpr(jaxpr, consts, *args):\n",
    "    # Mapping from variable -> value\n",
    "    env = {}\n",
    "\n",
    "    def read(var):\n",
    "    # Literals are values baked into the Jaxpr\n",
    "        if type(var) is core.Literal:\n",
    "            return var.val\n",
    "        return env[var]\n",
    "\n",
    "    def write(var, val):\n",
    "        env[var] = val\n",
    "\n",
    "    # Bind args and consts to environment\n",
    "    write(core.unitvar, core.unit)\n",
    "    safe_map(write, jaxpr.invars, args)\n",
    "    safe_map(write, jaxpr.constvars, consts)\n",
    "\n",
    "    # Loop through equations and evaluate primitives using `bind`\n",
    "    for eqn in jaxpr.eqns:\n",
    "        # Read inputs to equation from environment\n",
    "        invals = safe_map(read, eqn.invars)  \n",
    "        # `bind` is how a primitive is called\n",
    "        outvals = eqn.primitive.bind(*invals, **eqn.params)\n",
    "        # Primitives may return multiple outputs or not\n",
    "        if not eqn.primitive.multiple_results: \n",
    "            outvals = [outvals]\n",
    "        # Write the results of the primitive into the environment\n",
    "        safe_map(write, eqn.outvars, outvals) \n",
    "        # Read the final result of the Jaxpr from the environment\n",
    "    return safe_map(read, jaxpr.outvars) "
   ]
  },
  {
   "cell_type": "code",
   "execution_count": 56,
   "metadata": {},
   "outputs": [
    {
     "name": "stdout",
     "output_type": "stream",
     "text": [
      "{ lambda  ; a.\n",
      "  let b = tanh a\n",
      "      c = exp b\n",
      "  in (c,) }\n",
      "[]\n"
     ]
    }
   ],
   "source": [
    "closed_jaxpr = jax.make_jaxpr(f)(jnp.ones(5))\n",
    "\n",
    "print(closed_jaxpr.jaxpr)\n",
    "print(closed_jaxpr.literals)"
   ]
  },
  {
   "cell_type": "code",
   "execution_count": 57,
   "metadata": {},
   "outputs": [
    {
     "data": {
      "text/plain": [
       "[DeviceArray([2.1416876, 2.1416876, 2.1416876, 2.1416876, 2.1416876], dtype=float32)]"
      ]
     },
     "execution_count": 57,
     "metadata": {},
     "output_type": "execute_result"
    }
   ],
   "source": [
    "eval_jaxpr(closed_jaxpr.jaxpr, closed_jaxpr.literals, jnp.ones(5))"
   ]
  },
  {
   "cell_type": "code",
   "execution_count": 58,
   "metadata": {},
   "outputs": [
    {
     "data": {
      "text/plain": [
       "DeviceArray([2.1416876, 2.1416876, 2.1416876, 2.1416876, 2.1416876], dtype=float32)"
      ]
     },
     "execution_count": 58,
     "metadata": {},
     "output_type": "execute_result"
    }
   ],
   "source": [
    "# check that it's the same as simply calling the function:\n",
    "f(jnp.ones(5))"
   ]
  },
  {
   "cell_type": "code",
   "execution_count": null,
   "metadata": {},
   "outputs": [],
   "source": []
  },
  {
   "cell_type": "markdown",
   "metadata": {},
   "source": [
    "## inverse function"
   ]
  },
  {
   "cell_type": "code",
   "execution_count": 59,
   "metadata": {},
   "outputs": [],
   "source": [
    "inverse_registry = {}\n",
    "inverse_registry[lax.exp_p] = jnp.log\n",
    "inverse_registry[lax.tanh_p] = jnp.arctanh"
   ]
  },
  {
   "cell_type": "code",
   "execution_count": 60,
   "metadata": {},
   "outputs": [
    {
     "data": {
      "text/plain": [
       "{exp: <function jax._src.numpy.lax_numpy._one_to_one_unop.<locals>.<lambda>(x)>,\n",
       " tanh: <function jax._src.numpy.lax_numpy._one_to_one_unop.<locals>.<lambda>(x)>}"
      ]
     },
     "execution_count": 60,
     "metadata": {},
     "output_type": "execute_result"
    }
   ],
   "source": [
    "inverse_registry"
   ]
  },
  {
   "cell_type": "code",
   "execution_count": null,
   "metadata": {},
   "outputs": [],
   "source": []
  },
  {
   "cell_type": "code",
   "execution_count": 61,
   "metadata": {},
   "outputs": [],
   "source": [
    "def inverse(fun):\n",
    "    @wraps(fun)\n",
    "    def wrapped(*args, **kwargs):\n",
    "        # Since we assume unary functions, we won't\n",
    "        # worry about flattening and\n",
    "        # unflattening arguments\n",
    "        closed_jaxpr = jax.make_jaxpr(fun)(*args, **kwargs)\n",
    "        out = inverse_jaxpr(closed_jaxpr.jaxpr, closed_jaxpr.literals, *args)\n",
    "        return out[0]\n",
    "    return wrapped"
   ]
  },
  {
   "cell_type": "code",
   "execution_count": 62,
   "metadata": {},
   "outputs": [],
   "source": [
    "def inverse_jaxpr(jaxpr, consts, *args):\n",
    "    env = {}\n",
    "\n",
    "    def read(var):\n",
    "        if type(var) is core.Literal:\n",
    "            return var.val\n",
    "        return env[var]\n",
    "\n",
    "    def write(var, val):\n",
    "        env[var] = val\n",
    "    # Args now correspond to Jaxpr outvars\n",
    "    write(core.unitvar, core.unit)\n",
    "    safe_map(write, jaxpr.outvars, args)\n",
    "    safe_map(write, jaxpr.constvars, consts)\n",
    "\n",
    "    # Looping backward\n",
    "    for eqn in jaxpr.eqns[::-1]:\n",
    "        #  outvars are now invars \n",
    "        invals = safe_map(read, eqn.outvars)\n",
    "        if eqn.primitive not in inverse_registry:\n",
    "            raise NotImplementedError(\"{} does not have registered inverse.\".format(\n",
    "            eqn.primitive\n",
    "            ))\n",
    "        # Assuming a unary function \n",
    "        outval = inverse_registry[eqn.primitive](*invals)\n",
    "        safe_map(write, eqn.invars, [outval])\n",
    "    return safe_map(read, jaxpr.invars)"
   ]
  },
  {
   "cell_type": "code",
   "execution_count": 63,
   "metadata": {},
   "outputs": [],
   "source": [
    "def f(x):\n",
    "    return jnp.exp(jnp.tanh(x))\n",
    "\n",
    "f_inv = inverse(f)\n",
    "assert jnp.allclose(f_inv(f(1.0)), 1.0)"
   ]
  },
  {
   "cell_type": "code",
   "execution_count": 64,
   "metadata": {},
   "outputs": [
    {
     "data": {
      "text/plain": [
       "{ lambda  ; a.\n",
       "  let b = log a\n",
       "      c = atanh b\n",
       "  in (c,) }"
      ]
     },
     "execution_count": 64,
     "metadata": {},
     "output_type": "execute_result"
    }
   ],
   "source": [
    "jax.make_jaxpr(inverse(f))(f(1.))"
   ]
  },
  {
   "cell_type": "code",
   "execution_count": 65,
   "metadata": {},
   "outputs": [
    {
     "data": {
      "text/plain": [
       "DeviceArray([-3.1440797, 15.584931 ,  2.2551253,  1.3155028,  1.       ],            dtype=float32)"
      ]
     },
     "execution_count": 65,
     "metadata": {},
     "output_type": "execute_result"
    }
   ],
   "source": [
    "jit(vmap(grad(inverse(f))))((jnp.arange(5) + 1.) / 5.)"
   ]
  },
  {
   "cell_type": "code",
   "execution_count": null,
   "metadata": {},
   "outputs": [],
   "source": []
  },
  {
   "cell_type": "code",
   "execution_count": null,
   "metadata": {},
   "outputs": [],
   "source": []
  },
  {
   "cell_type": "markdown",
   "metadata": {},
   "source": [
    "# Use the invert function to sample from 1D distributions\n",
    "\n",
    "TODO: invert functions of two arguments (with one fixed), such as `add`"
   ]
  },
  {
   "cell_type": "code",
   "execution_count": 66,
   "metadata": {},
   "outputs": [
    {
     "data": {
      "text/plain": [
       "{exp: <function jax._src.numpy.lax_numpy._one_to_one_unop.<locals>.<lambda>(x)>,\n",
       " tanh: <function jax._src.numpy.lax_numpy._one_to_one_unop.<locals>.<lambda>(x)>}"
      ]
     },
     "execution_count": 66,
     "metadata": {},
     "output_type": "execute_result"
    }
   ],
   "source": [
    "inverse_registry = {}\n",
    "inverse_registry[lax.exp_p] = jnp.log\n",
    "inverse_registry[lax.tanh_p] = jnp.arctanh\n",
    "\n",
    "inverse_registry"
   ]
  },
  {
   "cell_type": "code",
   "execution_count": 67,
   "metadata": {},
   "outputs": [],
   "source": [
    "def cdf_exp(x):\n",
    "    beta = 0.5\n",
    "    return 1 - jnp.exp(-beta*x)\n",
    "\n",
    "\n",
    "inv_exp_pdf = inverse(cdf_exp)"
   ]
  },
  {
   "cell_type": "code",
   "execution_count": null,
   "metadata": {},
   "outputs": [],
   "source": []
  },
  {
   "cell_type": "code",
   "execution_count": null,
   "metadata": {},
   "outputs": [],
   "source": []
  },
  {
   "cell_type": "code",
   "execution_count": null,
   "metadata": {},
   "outputs": [],
   "source": []
  },
  {
   "cell_type": "code",
   "execution_count": null,
   "metadata": {},
   "outputs": [],
   "source": []
  }
 ],
 "metadata": {
  "kernelspec": {
   "display_name": "Python 3",
   "language": "python",
   "name": "python3"
  },
  "language_info": {
   "codemirror_mode": {
    "name": "ipython",
    "version": 3
   },
   "file_extension": ".py",
   "mimetype": "text/x-python",
   "name": "python",
   "nbconvert_exporter": "python",
   "pygments_lexer": "ipython3",
   "version": "3.8.5"
  }
 },
 "nbformat": 4,
 "nbformat_minor": 4
}
