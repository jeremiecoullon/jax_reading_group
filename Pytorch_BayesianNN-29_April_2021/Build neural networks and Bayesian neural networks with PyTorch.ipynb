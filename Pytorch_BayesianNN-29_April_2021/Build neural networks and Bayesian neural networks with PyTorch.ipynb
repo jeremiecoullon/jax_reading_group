{
 "cells": [
  {
   "cell_type": "markdown",
   "metadata": {},
   "source": [
    "# Build Bayesian Neural Networks in Pytorch"
   ]
  },
  {
   "cell_type": "markdown",
   "metadata": {},
   "source": [
    "## Tensors in PyTorch"
   ]
  },
  {
   "cell_type": "code",
   "execution_count": 1,
   "metadata": {},
   "outputs": [],
   "source": [
    "import torch\n",
    "import numpy as np"
   ]
  },
  {
   "cell_type": "markdown",
   "metadata": {},
   "source": [
    "Check if a GPU is available"
   ]
  },
  {
   "cell_type": "code",
   "execution_count": 2,
   "metadata": {},
   "outputs": [
    {
     "name": "stdout",
     "output_type": "stream",
     "text": [
      "Using device: cuda\n",
      "\n",
      "GeForce GTX 1050\n",
      "Memory Usage:\n",
      "Allocated: 0.0 GB\n",
      "Cached:    0.0 GB\n"
     ]
    }
   ],
   "source": [
    "# setting device on GPU if available, else CPU\n",
    "device = torch.device('cuda' if torch.cuda.is_available() else 'cpu')\n",
    "print('Using device:', device)\n",
    "print()\n",
    "\n",
    "#Additional Info when using cuda\n",
    "if device.type == 'cuda':\n",
    "    print(torch.cuda.get_device_name(0))\n",
    "    print('Memory Usage:')\n",
    "    print('Allocated:', round(torch.cuda.memory_allocated(0)/1024**3,1), 'GB')\n",
    "    print('Cached:   ', round(torch.cuda.memory_reserved(0)/1024**3,1), 'GB')"
   ]
  },
  {
   "cell_type": "markdown",
   "metadata": {},
   "source": [
    "We can convert a numpy array in a Pytorch tensor"
   ]
  },
  {
   "cell_type": "code",
   "execution_count": 3,
   "metadata": {},
   "outputs": [
    {
     "name": "stdout",
     "output_type": "stream",
     "text": [
      "This is a numpy array:\n",
      "[1. 2. 3.]\n",
      "\n",
      "This is a Pytorch tensor:\n",
      "tensor([1., 2., 3.], dtype=torch.float64)\n",
      "\n",
      "This is a Pytorch tensor with a different type:\n",
      "tensor([1, 2, 3], dtype=torch.int32)\n",
      "\n",
      "This is a Pytorch tensor on GPU:\n",
      "tensor([1., 2., 3.], device='cuda:0', dtype=torch.float64)\n",
      "\n",
      "This is also a Pytorch tensor on GPU:\n",
      "tensor([1., 2., 3.], device='cuda:0', dtype=torch.float64)\n",
      "\n",
      "This is a Pytorch tensor with gradient:\n",
      "tensor([1., 2., 3.], dtype=torch.float64, requires_grad=True)\n",
      "\n",
      "This is also a Pytorch tensor with gradient:\n",
      "Parameter containing:\n",
      "tensor([1., 2., 3.], dtype=torch.float64, requires_grad=True)\n",
      "\n",
      "This is a Pytorch tensor without gradient:\n",
      "tensor([1., 2., 3.], dtype=torch.float64)\n",
      "\n",
      "This is a numpy array:\n",
      "[1. 2. 3.]\n",
      "\n"
     ]
    }
   ],
   "source": [
    "print(\"This is a numpy array:\")\n",
    "a = np.array([1, 2, 3], dtype = np.float64)\n",
    "print(a)\n",
    "print()\n",
    "\n",
    "print(\"This is a Pytorch tensor:\")\n",
    "a_tensor = torch.tensor(a)\n",
    "print(a_tensor)\n",
    "print()\n",
    "\n",
    "print(\"This is a Pytorch tensor with a different type:\")\n",
    "a_tensor_int = torch.tensor(a, dtype = torch.int32)\n",
    "print(a_tensor_int)\n",
    "print()\n",
    "\n",
    "print(\"This is a Pytorch tensor on GPU:\")\n",
    "a_tensor_cuda1 = a_tensor.cuda() # we can switch to cpu again with .cpu()\n",
    "print(a_tensor_cuda1)\n",
    "print()\n",
    "del a_tensor_cuda1\n",
    "\n",
    "print(\"This is also a Pytorch tensor on GPU:\")\n",
    "a_tensor_cuda2 = torch.tensor(a, device = device)\n",
    "print(a_tensor_cuda2)\n",
    "print()\n",
    "del a_tensor_cuda2\n",
    "\n",
    "print(\"This is a Pytorch tensor with gradient:\")\n",
    "a_tensor_grad = torch.tensor(a, requires_grad = True)\n",
    "print(a_tensor_grad)\n",
    "print()\n",
    "\n",
    "print(\"This is also a Pytorch tensor with gradient:\")\n",
    "a_tensor_grad = torch.nn.Parameter(torch.tensor(a))\n",
    "print(a_tensor_grad)\n",
    "print()\n",
    "\n",
    "print(\"This is a Pytorch tensor without gradient:\")\n",
    "a_tensor_grad_without = a_tensor_grad.data\n",
    "print(a_tensor_grad_without)\n",
    "print()\n",
    "\n",
    "print(\"This is a numpy array:\")\n",
    "a_tensor_grad_numpy = a_tensor_grad.data.numpy()\n",
    "print(a_tensor_grad_numpy)\n",
    "print()"
   ]
  },
  {
   "cell_type": "markdown",
   "metadata": {},
   "source": [
    "## Load MNIST dataset"
   ]
  },
  {
   "cell_type": "code",
   "execution_count": 4,
   "metadata": {},
   "outputs": [],
   "source": [
    "import gzip"
   ]
  },
  {
   "cell_type": "markdown",
   "metadata": {},
   "source": [
    "We can download MNIST training and test set from: http://yann.lecun.com/exdb/mnist/"
   ]
  },
  {
   "cell_type": "code",
   "execution_count": 5,
   "metadata": {},
   "outputs": [],
   "source": [
    "def train_load_mnist():\n",
    "    \n",
    "    \"\"\"Load MNIST data from `path`\"\"\"\n",
    "    labels_path = 'train-labels-idx1-ubyte.gz'\n",
    "    images_path = 'train-images-idx3-ubyte.gz'\n",
    "        \n",
    "    with gzip.open(labels_path, 'rb') as lbpath:\n",
    "        # skip the first byte\n",
    "        lbpath.read(8)\n",
    "        buffer = lbpath.read()\n",
    "        labels = np.frombuffer(buffer, dtype=np.uint8)\n",
    "\n",
    "    with gzip.open(images_path, 'rb') as imgpath:\n",
    "        # skip the first and the second byte\n",
    "        imgpath.read(16)\n",
    "        buffer = imgpath.read()\n",
    "        images = np.frombuffer(buffer, dtype=np.uint8).reshape( len(labels), 784)\n",
    " \n",
    "    return images, labels\n",
    "\n",
    "\n",
    "def train_mnist_preprocessing(images, labels):\n",
    "    \n",
    "    x = np.float32(images)/126\n",
    "    y = np.int32(labels)\n",
    "\n",
    "    return x, y"
   ]
  },
  {
   "cell_type": "code",
   "execution_count": 6,
   "metadata": {},
   "outputs": [],
   "source": [
    "images, labels = train_load_mnist()\n",
    "tr_x, tr_y = train_mnist_preprocessing(images, labels)"
   ]
  },
  {
   "cell_type": "markdown",
   "metadata": {},
   "source": [
    " Check the shapes of the images and labels, we expect to have 60000 images 28X28 and 60000 labels"
   ]
  },
  {
   "cell_type": "code",
   "execution_count": 7,
   "metadata": {},
   "outputs": [
    {
     "name": "stdout",
     "output_type": "stream",
     "text": [
      "The shapes are: (60000, 784) and (60000,)\n"
     ]
    }
   ],
   "source": [
    "print(\"The shapes are: \"+ str(np.shape(tr_x))+ \" and \"+ str(np.shape(tr_y)))"
   ]
  },
  {
   "cell_type": "markdown",
   "metadata": {},
   "source": [
    "Check that a label is associated to the right image"
   ]
  },
  {
   "cell_type": "code",
   "execution_count": 8,
   "metadata": {},
   "outputs": [],
   "source": [
    "import matplotlib.pyplot as plt"
   ]
  },
  {
   "cell_type": "code",
   "execution_count": 9,
   "metadata": {},
   "outputs": [
    {
     "name": "stdout",
     "output_type": "stream",
     "text": [
      "The image: \n"
     ]
    },
    {
     "data": {
      "image/png": "[encoded data removed]",
      "text/plain": [
       "<Figure size 432x288 with 1 Axes>"
      ]
     },
     "metadata": {
      "needs_background": "light"
     },
     "output_type": "display_data"
    },
    {
     "name": "stdout",
     "output_type": "stream",
     "text": [
      "is a 4\n"
     ]
    }
   ],
   "source": [
    "print(\"The image: \")\n",
    "image = np.asarray(tr_x[2,:]).reshape( 28, 28 )\n",
    "label = tr_y[2]\n",
    "plt.imshow(image)\n",
    "plt.show()\n",
    "\n",
    "print(\"is a \"+ str(label) )"
   ]
  },
  {
   "cell_type": "markdown",
   "metadata": {},
   "source": [
    "Now that our training set is ready we can start building the neural networks. We will consider a very simple architecture composed by **2 layers of 400 rectified linear units for both the neural network and the Bayesian neural network**. Remark that the training set is given by numpy arrays, we will need tensors at some point."
   ]
  },
  {
   "cell_type": "markdown",
   "metadata": {},
   "source": [
    "Similarly for the test set..."
   ]
  },
  {
   "cell_type": "code",
   "execution_count": 10,
   "metadata": {},
   "outputs": [],
   "source": [
    "def test_load_mnist():\n",
    "    \n",
    "    \"\"\"Load MNIST data from `path`\"\"\"\n",
    "    labels_path = 't10k-labels-idx1-ubyte.gz'\n",
    "    images_path = 't10k-images-idx3-ubyte.gz'\n",
    "        \n",
    "    with gzip.open(labels_path, 'rb') as lbpath:\n",
    "        # skip the first byte\n",
    "        lbpath.read(8)\n",
    "        buffer = lbpath.read()\n",
    "        labels = np.frombuffer(buffer, dtype=np.uint8)\n",
    "\n",
    "    with gzip.open(images_path, 'rb') as imgpath:\n",
    "        # skip the first and the second byte\n",
    "        imgpath.read(16)\n",
    "        buffer = imgpath.read()\n",
    "        images = np.frombuffer(buffer, dtype=np.uint8).reshape( len(labels), 784)\n",
    " \n",
    "    return images, labels\n",
    "\n",
    "\n",
    "def test_mnist_preprocessing(images, labels):\n",
    "    \n",
    "    x = np.float32(images)/126\n",
    "    y = np.int32(labels)\n",
    "\n",
    "    return x, y"
   ]
  },
  {
   "cell_type": "code",
   "execution_count": 11,
   "metadata": {},
   "outputs": [],
   "source": [
    "images_test, labels_test = test_load_mnist()\n",
    "te_x, te_y = train_mnist_preprocessing(images_test, labels_test)"
   ]
  },
  {
   "cell_type": "markdown",
   "metadata": {},
   "source": [
    "## Neural network"
   ]
  },
  {
   "cell_type": "code",
   "execution_count": 12,
   "metadata": {},
   "outputs": [],
   "source": [
    "import torch\n",
    "import torch.nn as nn # these are Python classes\n",
    "import torch.nn.functional as F # these are Python functions"
   ]
  },
  {
   "cell_type": "markdown",
   "metadata": {},
   "source": [
    "### A simple way..."
   ]
  },
  {
   "cell_type": "code",
   "execution_count": 13,
   "metadata": {},
   "outputs": [],
   "source": [
    "class Net(nn.Module):\n",
    "\n",
    "    def __init__(self):\n",
    "        super(Net, self).__init__() # Avoid calling nn.Module to call Net\n",
    "        \n",
    "        # this builds the first layer\n",
    "        self.W1 = nn.Linear(784, 400)  # WX + b\n",
    "        # this builds the second layer\n",
    "        self.W2 = nn.Linear(400, 400)\n",
    "        # this builds the output layer\n",
    "        self.W3 = nn.Linear(400, 10)\n",
    "\n",
    "        \n",
    "    def forward(self, x):\n",
    "\n",
    "        h = F.relu(self.W1(x))\n",
    "        h = F.relu(self.W2(h))\n",
    "        h = self.W3(h)\n",
    "        \n",
    "        return h"
   ]
  },
  {
   "cell_type": "markdown",
   "metadata": {},
   "source": [
    "What is in Net()?"
   ]
  },
  {
   "cell_type": "code",
   "execution_count": 14,
   "metadata": {},
   "outputs": [
    {
     "name": "stdout",
     "output_type": "stream",
     "text": [
      "Net(\n",
      "  (W1): Linear(in_features=784, out_features=400, bias=True)\n",
      "  (W2): Linear(in_features=400, out_features=400, bias=True)\n",
      "  (W3): Linear(in_features=400, out_features=10, bias=True)\n",
      ")\n"
     ]
    }
   ],
   "source": [
    "net = Net()\n",
    "print(net)"
   ]
  },
  {
   "cell_type": "markdown",
   "metadata": {},
   "source": [
    "Can we apply Net() to an array extracted from our training?"
   ]
  },
  {
   "cell_type": "code",
   "execution_count": 15,
   "metadata": {},
   "outputs": [
    {
     "ename": "AttributeError",
     "evalue": "'numpy.ndarray' object has no attribute 'dim'",
     "output_type": "error",
     "traceback": [
      "\u001b[1;31m---------------------------------------------------------------------------\u001b[0m",
      "\u001b[1;31mAttributeError\u001b[0m                            Traceback (most recent call last)",
      "\u001b[1;32m<ipython-input-15-30a8e1086b5f>\u001b[0m in \u001b[0;36m<module>\u001b[1;34m\u001b[0m\n\u001b[0;32m      1\u001b[0m \u001b[0mimage\u001b[0m \u001b[1;33m=\u001b[0m \u001b[0mtr_x\u001b[0m\u001b[1;33m[\u001b[0m\u001b[1;36m2\u001b[0m\u001b[1;33m,\u001b[0m\u001b[1;33m:\u001b[0m\u001b[1;33m]\u001b[0m\u001b[1;33m\u001b[0m\u001b[1;33m\u001b[0m\u001b[0m\n\u001b[1;32m----> 2\u001b[1;33m \u001b[0moutput\u001b[0m \u001b[1;33m=\u001b[0m \u001b[0mnet\u001b[0m\u001b[1;33m(\u001b[0m\u001b[0mimage\u001b[0m\u001b[1;33m)\u001b[0m\u001b[1;33m\u001b[0m\u001b[1;33m\u001b[0m\u001b[0m\n\u001b[0m\u001b[0;32m      3\u001b[0m \u001b[0mprint\u001b[0m\u001b[1;33m(\u001b[0m\u001b[0moutput\u001b[0m\u001b[1;33m.\u001b[0m\u001b[0mdata\u001b[0m\u001b[1;33m.\u001b[0m\u001b[0mnumpy\u001b[0m\u001b[1;33m(\u001b[0m\u001b[1;33m)\u001b[0m\u001b[1;33m)\u001b[0m\u001b[1;33m\u001b[0m\u001b[1;33m\u001b[0m\u001b[0m\n",
      "\u001b[1;32m~\\Anaconda3\\lib\\site-packages\\torch\\nn\\modules\\module.py\u001b[0m in \u001b[0;36m__call__\u001b[1;34m(self, *input, **kwargs)\u001b[0m\n\u001b[0;32m    560\u001b[0m             \u001b[0mresult\u001b[0m \u001b[1;33m=\u001b[0m \u001b[0mself\u001b[0m\u001b[1;33m.\u001b[0m\u001b[0m_slow_forward\u001b[0m\u001b[1;33m(\u001b[0m\u001b[1;33m*\u001b[0m\u001b[0minput\u001b[0m\u001b[1;33m,\u001b[0m \u001b[1;33m**\u001b[0m\u001b[0mkwargs\u001b[0m\u001b[1;33m)\u001b[0m\u001b[1;33m\u001b[0m\u001b[1;33m\u001b[0m\u001b[0m\n\u001b[0;32m    561\u001b[0m         \u001b[1;32melse\u001b[0m\u001b[1;33m:\u001b[0m\u001b[1;33m\u001b[0m\u001b[1;33m\u001b[0m\u001b[0m\n\u001b[1;32m--> 562\u001b[1;33m             \u001b[0mresult\u001b[0m \u001b[1;33m=\u001b[0m \u001b[0mself\u001b[0m\u001b[1;33m.\u001b[0m\u001b[0mforward\u001b[0m\u001b[1;33m(\u001b[0m\u001b[1;33m*\u001b[0m\u001b[0minput\u001b[0m\u001b[1;33m,\u001b[0m \u001b[1;33m**\u001b[0m\u001b[0mkwargs\u001b[0m\u001b[1;33m)\u001b[0m\u001b[1;33m\u001b[0m\u001b[1;33m\u001b[0m\u001b[0m\n\u001b[0m\u001b[0;32m    563\u001b[0m         \u001b[1;32mfor\u001b[0m \u001b[0mhook\u001b[0m \u001b[1;32min\u001b[0m \u001b[0mself\u001b[0m\u001b[1;33m.\u001b[0m\u001b[0m_forward_hooks\u001b[0m\u001b[1;33m.\u001b[0m\u001b[0mvalues\u001b[0m\u001b[1;33m(\u001b[0m\u001b[1;33m)\u001b[0m\u001b[1;33m:\u001b[0m\u001b[1;33m\u001b[0m\u001b[1;33m\u001b[0m\u001b[0m\n\u001b[0;32m    564\u001b[0m             \u001b[0mhook_result\u001b[0m \u001b[1;33m=\u001b[0m \u001b[0mhook\u001b[0m\u001b[1;33m(\u001b[0m\u001b[0mself\u001b[0m\u001b[1;33m,\u001b[0m \u001b[0minput\u001b[0m\u001b[1;33m,\u001b[0m \u001b[0mresult\u001b[0m\u001b[1;33m)\u001b[0m\u001b[1;33m\u001b[0m\u001b[1;33m\u001b[0m\u001b[0m\n",
      "\u001b[1;32m<ipython-input-13-122b767b938b>\u001b[0m in \u001b[0;36mforward\u001b[1;34m(self, x)\u001b[0m\n\u001b[0;32m     14\u001b[0m     \u001b[1;32mdef\u001b[0m \u001b[0mforward\u001b[0m\u001b[1;33m(\u001b[0m\u001b[0mself\u001b[0m\u001b[1;33m,\u001b[0m \u001b[0mx\u001b[0m\u001b[1;33m)\u001b[0m\u001b[1;33m:\u001b[0m\u001b[1;33m\u001b[0m\u001b[1;33m\u001b[0m\u001b[0m\n\u001b[0;32m     15\u001b[0m \u001b[1;33m\u001b[0m\u001b[0m\n\u001b[1;32m---> 16\u001b[1;33m         \u001b[0mh\u001b[0m \u001b[1;33m=\u001b[0m \u001b[0mF\u001b[0m\u001b[1;33m.\u001b[0m\u001b[0mrelu\u001b[0m\u001b[1;33m(\u001b[0m\u001b[0mself\u001b[0m\u001b[1;33m.\u001b[0m\u001b[0mW1\u001b[0m\u001b[1;33m(\u001b[0m\u001b[0mx\u001b[0m\u001b[1;33m)\u001b[0m\u001b[1;33m)\u001b[0m\u001b[1;33m\u001b[0m\u001b[1;33m\u001b[0m\u001b[0m\n\u001b[0m\u001b[0;32m     17\u001b[0m         \u001b[0mh\u001b[0m \u001b[1;33m=\u001b[0m \u001b[0mF\u001b[0m\u001b[1;33m.\u001b[0m\u001b[0mrelu\u001b[0m\u001b[1;33m(\u001b[0m\u001b[0mself\u001b[0m\u001b[1;33m.\u001b[0m\u001b[0mW2\u001b[0m\u001b[1;33m(\u001b[0m\u001b[0mh\u001b[0m\u001b[1;33m)\u001b[0m\u001b[1;33m)\u001b[0m\u001b[1;33m\u001b[0m\u001b[1;33m\u001b[0m\u001b[0m\n\u001b[0;32m     18\u001b[0m         \u001b[0mh\u001b[0m \u001b[1;33m=\u001b[0m \u001b[0mself\u001b[0m\u001b[1;33m.\u001b[0m\u001b[0mW3\u001b[0m\u001b[1;33m(\u001b[0m\u001b[0mh\u001b[0m\u001b[1;33m)\u001b[0m\u001b[1;33m\u001b[0m\u001b[1;33m\u001b[0m\u001b[0m\n",
      "\u001b[1;32m~\\Anaconda3\\lib\\site-packages\\torch\\nn\\modules\\module.py\u001b[0m in \u001b[0;36m__call__\u001b[1;34m(self, *input, **kwargs)\u001b[0m\n\u001b[0;32m    560\u001b[0m             \u001b[0mresult\u001b[0m \u001b[1;33m=\u001b[0m \u001b[0mself\u001b[0m\u001b[1;33m.\u001b[0m\u001b[0m_slow_forward\u001b[0m\u001b[1;33m(\u001b[0m\u001b[1;33m*\u001b[0m\u001b[0minput\u001b[0m\u001b[1;33m,\u001b[0m \u001b[1;33m**\u001b[0m\u001b[0mkwargs\u001b[0m\u001b[1;33m)\u001b[0m\u001b[1;33m\u001b[0m\u001b[1;33m\u001b[0m\u001b[0m\n\u001b[0;32m    561\u001b[0m         \u001b[1;32melse\u001b[0m\u001b[1;33m:\u001b[0m\u001b[1;33m\u001b[0m\u001b[1;33m\u001b[0m\u001b[0m\n\u001b[1;32m--> 562\u001b[1;33m             \u001b[0mresult\u001b[0m \u001b[1;33m=\u001b[0m \u001b[0mself\u001b[0m\u001b[1;33m.\u001b[0m\u001b[0mforward\u001b[0m\u001b[1;33m(\u001b[0m\u001b[1;33m*\u001b[0m\u001b[0minput\u001b[0m\u001b[1;33m,\u001b[0m \u001b[1;33m**\u001b[0m\u001b[0mkwargs\u001b[0m\u001b[1;33m)\u001b[0m\u001b[1;33m\u001b[0m\u001b[1;33m\u001b[0m\u001b[0m\n\u001b[0m\u001b[0;32m    563\u001b[0m         \u001b[1;32mfor\u001b[0m \u001b[0mhook\u001b[0m \u001b[1;32min\u001b[0m \u001b[0mself\u001b[0m\u001b[1;33m.\u001b[0m\u001b[0m_forward_hooks\u001b[0m\u001b[1;33m.\u001b[0m\u001b[0mvalues\u001b[0m\u001b[1;33m(\u001b[0m\u001b[1;33m)\u001b[0m\u001b[1;33m:\u001b[0m\u001b[1;33m\u001b[0m\u001b[1;33m\u001b[0m\u001b[0m\n\u001b[0;32m    564\u001b[0m             \u001b[0mhook_result\u001b[0m \u001b[1;33m=\u001b[0m \u001b[0mhook\u001b[0m\u001b[1;33m(\u001b[0m\u001b[0mself\u001b[0m\u001b[1;33m,\u001b[0m \u001b[0minput\u001b[0m\u001b[1;33m,\u001b[0m \u001b[0mresult\u001b[0m\u001b[1;33m)\u001b[0m\u001b[1;33m\u001b[0m\u001b[1;33m\u001b[0m\u001b[0m\n",
      "\u001b[1;32m~\\Anaconda3\\lib\\site-packages\\torch\\nn\\modules\\linear.py\u001b[0m in \u001b[0;36mforward\u001b[1;34m(self, input)\u001b[0m\n\u001b[0;32m     85\u001b[0m \u001b[1;33m\u001b[0m\u001b[0m\n\u001b[0;32m     86\u001b[0m     \u001b[1;32mdef\u001b[0m \u001b[0mforward\u001b[0m\u001b[1;33m(\u001b[0m\u001b[0mself\u001b[0m\u001b[1;33m,\u001b[0m \u001b[0minput\u001b[0m\u001b[1;33m)\u001b[0m\u001b[1;33m:\u001b[0m\u001b[1;33m\u001b[0m\u001b[1;33m\u001b[0m\u001b[0m\n\u001b[1;32m---> 87\u001b[1;33m         \u001b[1;32mreturn\u001b[0m \u001b[0mF\u001b[0m\u001b[1;33m.\u001b[0m\u001b[0mlinear\u001b[0m\u001b[1;33m(\u001b[0m\u001b[0minput\u001b[0m\u001b[1;33m,\u001b[0m \u001b[0mself\u001b[0m\u001b[1;33m.\u001b[0m\u001b[0mweight\u001b[0m\u001b[1;33m,\u001b[0m \u001b[0mself\u001b[0m\u001b[1;33m.\u001b[0m\u001b[0mbias\u001b[0m\u001b[1;33m)\u001b[0m\u001b[1;33m\u001b[0m\u001b[1;33m\u001b[0m\u001b[0m\n\u001b[0m\u001b[0;32m     88\u001b[0m \u001b[1;33m\u001b[0m\u001b[0m\n\u001b[0;32m     89\u001b[0m     \u001b[1;32mdef\u001b[0m \u001b[0mextra_repr\u001b[0m\u001b[1;33m(\u001b[0m\u001b[0mself\u001b[0m\u001b[1;33m)\u001b[0m\u001b[1;33m:\u001b[0m\u001b[1;33m\u001b[0m\u001b[1;33m\u001b[0m\u001b[0m\n",
      "\u001b[1;32m~\\Anaconda3\\lib\\site-packages\\torch\\nn\\functional.py\u001b[0m in \u001b[0;36mlinear\u001b[1;34m(input, weight, bias)\u001b[0m\n\u001b[0;32m   1651\u001b[0m         \u001b[1;32mif\u001b[0m \u001b[0many\u001b[0m\u001b[1;33m(\u001b[0m\u001b[1;33m[\u001b[0m\u001b[0mtype\u001b[0m\u001b[1;33m(\u001b[0m\u001b[0mt\u001b[0m\u001b[1;33m)\u001b[0m \u001b[1;32mis\u001b[0m \u001b[1;32mnot\u001b[0m \u001b[0mTensor\u001b[0m \u001b[1;32mfor\u001b[0m \u001b[0mt\u001b[0m \u001b[1;32min\u001b[0m \u001b[0mtens_ops\u001b[0m\u001b[1;33m]\u001b[0m\u001b[1;33m)\u001b[0m \u001b[1;32mand\u001b[0m \u001b[0mhas_torch_function\u001b[0m\u001b[1;33m(\u001b[0m\u001b[0mtens_ops\u001b[0m\u001b[1;33m)\u001b[0m\u001b[1;33m:\u001b[0m\u001b[1;33m\u001b[0m\u001b[1;33m\u001b[0m\u001b[0m\n\u001b[0;32m   1652\u001b[0m             \u001b[1;32mreturn\u001b[0m \u001b[0mhandle_torch_function\u001b[0m\u001b[1;33m(\u001b[0m\u001b[0mlinear\u001b[0m\u001b[1;33m,\u001b[0m \u001b[0mtens_ops\u001b[0m\u001b[1;33m,\u001b[0m \u001b[0minput\u001b[0m\u001b[1;33m,\u001b[0m \u001b[0mweight\u001b[0m\u001b[1;33m,\u001b[0m \u001b[0mbias\u001b[0m\u001b[1;33m=\u001b[0m\u001b[0mbias\u001b[0m\u001b[1;33m)\u001b[0m\u001b[1;33m\u001b[0m\u001b[1;33m\u001b[0m\u001b[0m\n\u001b[1;32m-> 1653\u001b[1;33m     \u001b[1;32mif\u001b[0m \u001b[0minput\u001b[0m\u001b[1;33m.\u001b[0m\u001b[0mdim\u001b[0m\u001b[1;33m(\u001b[0m\u001b[1;33m)\u001b[0m \u001b[1;33m==\u001b[0m \u001b[1;36m2\u001b[0m \u001b[1;32mand\u001b[0m \u001b[0mbias\u001b[0m \u001b[1;32mis\u001b[0m \u001b[1;32mnot\u001b[0m \u001b[1;32mNone\u001b[0m\u001b[1;33m:\u001b[0m\u001b[1;33m\u001b[0m\u001b[1;33m\u001b[0m\u001b[0m\n\u001b[0m\u001b[0;32m   1654\u001b[0m         \u001b[1;31m# fused op is marginally faster\u001b[0m\u001b[1;33m\u001b[0m\u001b[1;33m\u001b[0m\u001b[1;33m\u001b[0m\u001b[0m\n\u001b[0;32m   1655\u001b[0m         \u001b[0mret\u001b[0m \u001b[1;33m=\u001b[0m \u001b[0mtorch\u001b[0m\u001b[1;33m.\u001b[0m\u001b[0maddmm\u001b[0m\u001b[1;33m(\u001b[0m\u001b[0mbias\u001b[0m\u001b[1;33m,\u001b[0m \u001b[0minput\u001b[0m\u001b[1;33m,\u001b[0m \u001b[0mweight\u001b[0m\u001b[1;33m.\u001b[0m\u001b[0mt\u001b[0m\u001b[1;33m(\u001b[0m\u001b[1;33m)\u001b[0m\u001b[1;33m)\u001b[0m\u001b[1;33m\u001b[0m\u001b[1;33m\u001b[0m\u001b[0m\n",
      "\u001b[1;31mAttributeError\u001b[0m: 'numpy.ndarray' object has no attribute 'dim'"
     ]
    }
   ],
   "source": [
    "image = tr_x[2,:]\n",
    "output = net(image)\n",
    "print(output.data.numpy())"
   ]
  },
  {
   "cell_type": "markdown",
   "metadata": {},
   "source": [
    "Can we apply Net() to a tensor extracted from our training?"
   ]
  },
  {
   "cell_type": "code",
   "execution_count": 16,
   "metadata": {},
   "outputs": [
    {
     "name": "stdout",
     "output_type": "stream",
     "text": [
      "[-1.75162740e-02  3.92843261e-02 -6.74826652e-02  4.51564454e-02\n",
      "  1.00881025e-01 -8.65701586e-05 -9.42470878e-03 -2.37726830e-02\n",
      " -1.15810968e-02 -4.34552208e-02]\n"
     ]
    }
   ],
   "source": [
    "image = torch.tensor(tr_x[2,:])\n",
    "output = net(image)\n",
    "print(output.data.numpy())"
   ]
  },
  {
   "cell_type": "markdown",
   "metadata": {},
   "source": [
    "#### Training"
   ]
  },
  {
   "cell_type": "code",
   "execution_count": 17,
   "metadata": {},
   "outputs": [],
   "source": [
    "import time"
   ]
  },
  {
   "cell_type": "markdown",
   "metadata": {},
   "source": [
    "Let us train our Net().\n",
    "1. Create a DataLoader: this will automatically shuffle before any epoch and prepare the minibatches.\n",
    "2. Choose the loss function and optimizer: in our case we will use a Cross Entropy Loss and stochastic gradient descent.\n",
    "3. Choose the number of epochs and train."
   ]
  },
  {
   "cell_type": "markdown",
   "metadata": {},
   "source": [
    "1. Create a DataLoader."
   ]
  },
  {
   "cell_type": "code",
   "execution_count": 18,
   "metadata": {},
   "outputs": [],
   "source": [
    "from torch.utils import data\n",
    "\n",
    "# Choose the size of the minibatch\n",
    "batch_size=128\n",
    "\n",
    "# Create a dataset (use 50000 for training and 10000 for validation)\n",
    "tr_x_tensor = torch.tensor(tr_x[:50000,:])\n",
    "tr_y_tensor = torch.tensor(tr_y[:50000], dtype = torch.long)\n",
    "train = data.TensorDataset(tr_x_tensor, tr_y_tensor)\n",
    "    \n",
    "# Set up the DataLoader\n",
    "train_loader = data.DataLoader(train, batch_size, shuffle=True, num_workers=4)"
   ]
  },
  {
   "cell_type": "markdown",
   "metadata": {},
   "source": [
    "Check the minibatch shape and what is contained in it."
   ]
  },
  {
   "cell_type": "code",
   "execution_count": 19,
   "metadata": {},
   "outputs": [
    {
     "name": "stdout",
     "output_type": "stream",
     "text": [
      "images.shape: torch.Size([128, 784])\n"
     ]
    },
    {
     "data": {
      "image/png": "[encoded data removed]",
      "text/plain": [
       "<Figure size 576x288 with 1 Axes>"
      ]
     },
     "metadata": {
      "needs_background": "light"
     },
     "output_type": "display_data"
    }
   ],
   "source": [
    "for images, _ in train_loader:\n",
    "    print('images.shape:', images.shape)\n",
    "    plt.figure(figsize=(8,4))\n",
    "    plt.axis('off')\n",
    "    images_column = images.data.numpy().reshape(128*28, 28)\n",
    "    \n",
    "    t= 1\n",
    "    image_stack = images_column[28*8*(t-1):28*8*(t),:]\n",
    "    while t< 16:\n",
    "        t+=1\n",
    "        image_stack  = np.hstack((image_stack, images_column[28*8*(t-1):28*8*(t),:]))\n",
    "    plt.imshow( image_stack)\n",
    "    break"
   ]
  },
  {
   "cell_type": "markdown",
   "metadata": {},
   "source": [
    "2. Choose the loss function and optimizer."
   ]
  },
  {
   "cell_type": "code",
   "execution_count": 20,
   "metadata": {
    "scrolled": true
   },
   "outputs": [],
   "source": [
    "# Cross entropy loss\n",
    "loss_function = F.cross_entropy\n",
    "\n",
    "# SGD: we have to plug-in the parameters we want to learn\n",
    "optimizer = torch.optim.SGD(net.parameters(), lr = 10**(-3))"
   ]
  },
  {
   "cell_type": "markdown",
   "metadata": {},
   "source": [
    "3. Choose the number of epochs and train."
   ]
  },
  {
   "cell_type": "code",
   "execution_count": 21,
   "metadata": {},
   "outputs": [
    {
     "name": "stdout",
     "output_type": "stream",
     "text": [
      "Epoch:  0\n",
      "The loss before starting this epoch is  2.30511\n",
      "Epoch:  1\n",
      "The loss before starting this epoch is  2.24164\n",
      "Epoch:  2\n",
      "The loss before starting this epoch is  2.16525\n",
      "Epoch:  3\n",
      "The loss before starting this epoch is  2.05788\n",
      "Epoch:  4\n",
      "The loss before starting this epoch is  1.90122\n",
      "Epoch:  5\n",
      "The loss before starting this epoch is  1.6863\n",
      "Epoch:  6\n",
      "The loss before starting this epoch is  1.43301\n",
      "Epoch:  7\n",
      "The loss before starting this epoch is  1.19149\n",
      "Epoch:  8\n",
      "The loss before starting this epoch is  0.99821\n",
      "Epoch:  9\n",
      "The loss before starting this epoch is  0.85605\n",
      "Epoch:  10\n",
      "The loss before starting this epoch is  0.7526\n",
      "Epoch:  11\n",
      "The loss before starting this epoch is  0.67599\n",
      "Epoch:  12\n",
      "The loss before starting this epoch is  0.61746\n",
      "Epoch:  13\n",
      "The loss before starting this epoch is  0.57189\n",
      "Epoch:  14\n",
      "The loss before starting this epoch is  0.53539\n",
      "Epoch:  15\n",
      "The loss before starting this epoch is  0.50612\n",
      "Epoch:  16\n",
      "The loss before starting this epoch is  0.48155\n",
      "Epoch:  17\n",
      "The loss before starting this epoch is  0.46098\n",
      "Epoch:  18\n",
      "The loss before starting this epoch is  0.44348\n",
      "Epoch:  19\n",
      "The loss before starting this epoch is  0.42847\n",
      "###########################################\n",
      "The training took  68.79\n"
     ]
    }
   ],
   "source": [
    "epochs = 20\n",
    "loss_history = torch.tensor(np.zeros(epochs+1))\n",
    "\n",
    "images_val = torch.tensor(tr_x[50000:,:])\n",
    "labels_val = torch.tensor(tr_y[50000:], dtype = torch.long)\n",
    "\n",
    "start = time.time() \n",
    "for epoch in range(epochs):\n",
    "        print(\"Epoch: \", epoch)\n",
    "        output_val = net(images_val)\n",
    "        loss_val = loss_function(output_val, labels_val)\n",
    "        \n",
    "        loss_history[epoch] = loss_val\n",
    "        print(\"The loss before starting this epoch is \", np.round(loss_val.data.numpy(), 5))\n",
    "        \n",
    "        # Training Phase \n",
    "        for images_batch, labels_batch in train_loader:\n",
    "            optimizer.zero_grad()\n",
    "            \n",
    "            output = net(images_batch)\n",
    "            loss = loss_function(output, labels_batch)\n",
    "            loss.backward()\n",
    "            \n",
    "            optimizer.step()\n",
    "            \n",
    "output_val = net(images_val)\n",
    "loss_val = loss_function(output_val, labels_val)\n",
    "\n",
    "loss_history[epoch+1] = loss_val\n",
    "print(\"###########################################\")\n",
    "print(\"The training took \", np.round(time.time() - start, 2))"
   ]
  },
  {
   "cell_type": "markdown",
   "metadata": {},
   "source": [
    "Let us check the loss during training"
   ]
  },
  {
   "cell_type": "code",
   "execution_count": 22,
   "metadata": {},
   "outputs": [
    {
     "data": {
      "image/png": "[encoded data removed]",
      "text/plain": [
       "<Figure size 576x288 with 1 Axes>"
      ]
     },
     "metadata": {
      "needs_background": "light"
     },
     "output_type": "display_data"
    }
   ],
   "source": [
    "plt.figure(figsize=(8,4))\n",
    "plt.plot(loss_history.data.numpy())\n",
    "plt.show()"
   ]
  },
  {
   "cell_type": "markdown",
   "metadata": {},
   "source": [
    "Let us measure the accuracy"
   ]
  },
  {
   "cell_type": "code",
   "execution_count": 23,
   "metadata": {},
   "outputs": [
    {
     "name": "stdout",
     "output_type": "stream",
     "text": [
      "The accuracy of this neural network is: 0.8895\n"
     ]
    }
   ],
   "source": [
    "# Prepare the test set\n",
    "images_te = torch.tensor(te_x)\n",
    "labels_te = te_y # do not need a tensor here\n",
    "\n",
    "# Compute a distribution over the test labels\n",
    "output           = net( images_te )\n",
    "output_softmax   = F.softmax(output, dim=1)\n",
    "\n",
    "# Predict the test label with the one associated to the max probability\n",
    "labels          = np.array( range(0, 10) )\n",
    "max_label_index = np.argmax( output_softmax.data.numpy(), 1 )\n",
    "label_predicted = labels[ max_label_index ]\n",
    "\n",
    "# Mesure the accuracy as the proportion of exact classifications\n",
    "te_performance = np.sum(labels_te == label_predicted)/len(te_y)\n",
    "print(\"The accuracy of this neural network is: \"+ str(te_performance))"
   ]
  },
  {
   "cell_type": "markdown",
   "metadata": {},
   "source": [
    "#### Training on GPU"
   ]
  },
  {
   "cell_type": "code",
   "execution_count": 24,
   "metadata": {},
   "outputs": [],
   "source": [
    "def to_device(data, device):\n",
    "    \"\"\"Move tensor(s) to chosen device\"\"\"\n",
    "    if isinstance(data, (list,tuple)):\n",
    "        return [to_device(x, device) for x in data]\n",
    "    return data.to(device, non_blocking=True)"
   ]
  },
  {
   "cell_type": "code",
   "execution_count": 25,
   "metadata": {},
   "outputs": [],
   "source": [
    "class DeviceDataLoader():\n",
    "    \"\"\"Wrap a dataloader to move data to a device\"\"\"\n",
    "    def __init__(self, dl, device):\n",
    "        self.dl = dl\n",
    "        self.device = device\n",
    "        \n",
    "    def __iter__(self):\n",
    "        \"\"\"Yield a batch of data after moving it to device\"\"\"\n",
    "        for b in self.dl: \n",
    "            yield to_device(b, self.device)\n",
    "            \n",
    "def __len__(self):\n",
    "        \"\"\"Number of batches\"\"\"\n",
    "        return len(self.dl)"
   ]
  },
  {
   "cell_type": "code",
   "execution_count": 26,
   "metadata": {},
   "outputs": [],
   "source": [
    "# Choose the size of the minibatch\n",
    "batch_size=128\n",
    "\n",
    "# Data loader on GPU\n",
    "train_gpu = DeviceDataLoader(train_loader, device)"
   ]
  },
  {
   "cell_type": "code",
   "execution_count": 27,
   "metadata": {},
   "outputs": [],
   "source": [
    "# Network to GPU\n",
    "net_gpu = Net()\n",
    "net_gpu = to_device(net_gpu, device)"
   ]
  },
  {
   "cell_type": "code",
   "execution_count": 28,
   "metadata": {},
   "outputs": [],
   "source": [
    "# Cross entropy loss\n",
    "loss_function = F.cross_entropy\n",
    "\n",
    "# SGD: we have to plug-in the parameters we want to learn\n",
    "optimizer = torch.optim.SGD(net_gpu.parameters(), lr = 10**(-3))"
   ]
  },
  {
   "cell_type": "code",
   "execution_count": 29,
   "metadata": {},
   "outputs": [
    {
     "name": "stdout",
     "output_type": "stream",
     "text": [
      "Epoch:  0\n",
      "Epoch:  1\n",
      "Epoch:  2\n",
      "Epoch:  3\n",
      "Epoch:  4\n",
      "Epoch:  5\n",
      "Epoch:  6\n",
      "Epoch:  7\n",
      "Epoch:  8\n",
      "Epoch:  9\n",
      "Epoch:  10\n",
      "Epoch:  11\n",
      "Epoch:  12\n",
      "Epoch:  13\n",
      "Epoch:  14\n",
      "Epoch:  15\n",
      "Epoch:  16\n",
      "Epoch:  17\n",
      "Epoch:  18\n",
      "Epoch:  19\n",
      "###########################################\n",
      "The training took  40.48\n"
     ]
    }
   ],
   "source": [
    "epochs = 20\n",
    "loss_history = torch.tensor(np.zeros(epochs+1), device = device)\n",
    "\n",
    "images_val = torch.tensor(tr_x[50000:,:], device = device)\n",
    "labels_val = torch.tensor(tr_y[50000:], dtype = torch.long, device = device)\n",
    "\n",
    "start = time.time() \n",
    "for epoch in range(epochs):\n",
    "    # do not store any gradient when computing the validation score\n",
    "    with torch.no_grad():\n",
    "        print(\"Epoch: \", epoch)\n",
    "        output_val = net_gpu(images_val)\n",
    "        loss_val = loss_function(output_val, labels_val)\n",
    "        \n",
    "        loss_history[epoch] = loss_val\n",
    "#         print(\"The loss before starting this epoch is \", np.round(loss_val.data, 5))\n",
    "        \n",
    "    # Training Phase \n",
    "    for images_batch, labels_batch in train_gpu:\n",
    "        optimizer.zero_grad()\n",
    "\n",
    "        output = net_gpu(images_batch)\n",
    "        loss = loss_function(output, labels_batch)\n",
    "        loss.backward()\n",
    "\n",
    "        optimizer.step()\n",
    "\n",
    "with torch.no_grad():\n",
    "    output_val = net_gpu(images_val)\n",
    "    loss_val = loss_function(output_val, labels_val)\n",
    "\n",
    "    loss_history[epoch+1] = loss_val\n",
    "print(\"###########################################\")\n",
    "print(\"The training took \", np.round(time.time() - start, 2))"
   ]
  },
  {
   "cell_type": "code",
   "execution_count": 30,
   "metadata": {
    "scrolled": true
   },
   "outputs": [
    {
     "data": {
      "image/png": "[encoded data removed]",
      "text/plain": [
       "<Figure size 576x288 with 1 Axes>"
      ]
     },
     "metadata": {
      "needs_background": "light"
     },
     "output_type": "display_data"
    }
   ],
   "source": [
    "plt.figure(figsize=(8,4))\n",
    "plt.plot(loss_history.cpu().data.numpy())\n",
    "plt.show()"
   ]
  },
  {
   "cell_type": "code",
   "execution_count": 31,
   "metadata": {},
   "outputs": [
    {
     "name": "stdout",
     "output_type": "stream",
     "text": [
      "The accuracy of this neural network is: 0.8879\n"
     ]
    }
   ],
   "source": [
    "# Prepare the test set\n",
    "images_te_cuda = torch.tensor(te_x, device = device)\n",
    "labels_te = te_y # do not need a tensor here\n",
    "\n",
    "# Compute a distribution over the test labels\n",
    "output           = net_gpu( images_te_cuda )\n",
    "output_softmax   = F.softmax(output.cpu(), dim=1)\n",
    "\n",
    "# Predict the test label with the one associated to the max probability\n",
    "labels          = np.array( range(0, 10) )\n",
    "max_label_index = np.argmax( output_softmax.data.numpy(), 1 )\n",
    "label_predicted = labels[ max_label_index ]\n",
    "\n",
    "# Mesure the accuracy as the proportion of exact classifications\n",
    "te_performance = np.sum(labels_te == label_predicted)/len(te_y)\n",
    "print(\"The accuracy of this neural network is: \"+ str(te_performance))"
   ]
  },
  {
   "cell_type": "markdown",
   "metadata": {},
   "source": [
    "### A complex way..."
   ]
  },
  {
   "cell_type": "markdown",
   "metadata": {},
   "source": [
    "We can define our personal Linear function, it is going to be useful when we switch to a Bayesian framework."
   ]
  },
  {
   "cell_type": "code",
   "execution_count": 32,
   "metadata": {},
   "outputs": [],
   "source": [
    "class wParameter(nn.Module):\n",
    "\n",
    "    def __init__(self, in_features, out_features ):\n",
    "        super().__init__()\n",
    "\n",
    "        self.in_features  = in_features\n",
    "        self.out_features = out_features\n",
    "        \n",
    "        weight_numpy = np.random.uniform(-np.sqrt(1/in_features), +np.sqrt(1/in_features), (out_features, in_features))\n",
    "        bias_numpy   = np.random.uniform(-np.sqrt(1/in_features), +np.sqrt(1/in_features), (out_features             ))\n",
    "        \n",
    "        weight_tensor = torch.tensor(weight_numpy, dtype = torch.float32)\n",
    "        bias_tensor   = torch.tensor(bias_numpy,   dtype = torch.float32)  \n",
    "\n",
    "        self.weight = nn.Parameter(weight_tensor)\n",
    "        self.bias   = nn.Parameter(bias_tensor)\n",
    "\n",
    "class PersonalLinearLayer(nn.Module):\n",
    "\n",
    "    def __init__(self, in_features, out_features):\n",
    "        super().__init__()\n",
    "\n",
    "        self.in_features  = in_features\n",
    "        self.out_features = out_features\n",
    "\n",
    "        self.W  = wParameter(in_features, out_features)   \n",
    "\n",
    "\n",
    "    def forward(self, input):\n",
    "\n",
    "        W_weight = self.W.weight\n",
    "        W_bias   = self.W.bias\n",
    "\n",
    "        return F.linear(input, W_weight, W_bias)"
   ]
  },
  {
   "cell_type": "code",
   "execution_count": 33,
   "metadata": {},
   "outputs": [],
   "source": [
    "class Net(nn.Module):\n",
    "\n",
    "    def __init__(self):\n",
    "        super(Net, self).__init__() # Avoid calling nn.Module to call Net\n",
    "        \n",
    "        # this builds the first layer\n",
    "        self.W1 = PersonalLinearLayer(784, 400)  \n",
    "        # this builds the second layer\n",
    "        self.W2 = PersonalLinearLayer(400, 400)\n",
    "        # this builds the output layer\n",
    "        self.W3 = PersonalLinearLayer(400, 10)\n",
    "\n",
    "        \n",
    "    def forward(self, x):\n",
    "\n",
    "        h = F.relu(self.W1(x))\n",
    "        h = F.relu(self.W2(h))\n",
    "        h = self.W3(h)\n",
    "        \n",
    "        return h"
   ]
  },
  {
   "cell_type": "markdown",
   "metadata": {},
   "source": [
    "#### Training"
   ]
  },
  {
   "cell_type": "code",
   "execution_count": 34,
   "metadata": {},
   "outputs": [],
   "source": [
    "net = Net()"
   ]
  },
  {
   "cell_type": "code",
   "execution_count": 35,
   "metadata": {},
   "outputs": [],
   "source": [
    "# Cross entropy loss\n",
    "loss_function = F.cross_entropy\n",
    "\n",
    "# SGD: we have to plug-in the parameters we want to learn\n",
    "optimizer = torch.optim.SGD(net.parameters(), lr = 10**(-3))"
   ]
  },
  {
   "cell_type": "code",
   "execution_count": 36,
   "metadata": {
    "scrolled": false
   },
   "outputs": [
    {
     "name": "stdout",
     "output_type": "stream",
     "text": [
      "Epoch:  0\n",
      "The loss before starting this epoch is  2.29298\n",
      "Epoch:  1\n",
      "The loss before starting this epoch is  2.23156\n",
      "Epoch:  2\n",
      "The loss before starting this epoch is  2.15458\n",
      "Epoch:  3\n",
      "The loss before starting this epoch is  2.04614\n",
      "Epoch:  4\n",
      "The loss before starting this epoch is  1.89231\n",
      "Epoch:  5\n",
      "The loss before starting this epoch is  1.68742\n",
      "Epoch:  6\n",
      "The loss before starting this epoch is  1.44754\n",
      "Epoch:  7\n",
      "The loss before starting this epoch is  1.21384\n",
      "Epoch:  8\n",
      "The loss before starting this epoch is  1.02154\n",
      "Epoch:  9\n",
      "The loss before starting this epoch is  0.87717\n",
      "Epoch:  10\n",
      "The loss before starting this epoch is  0.77069\n",
      "Epoch:  11\n",
      "The loss before starting this epoch is  0.69117\n",
      "Epoch:  12\n",
      "The loss before starting this epoch is  0.63051\n",
      "Epoch:  13\n",
      "The loss before starting this epoch is  0.58328\n",
      "Epoch:  14\n",
      "The loss before starting this epoch is  0.54538\n",
      "Epoch:  15\n",
      "The loss before starting this epoch is  0.51457\n",
      "Epoch:  16\n",
      "The loss before starting this epoch is  0.48919\n",
      "Epoch:  17\n",
      "The loss before starting this epoch is  0.46738\n",
      "Epoch:  18\n",
      "The loss before starting this epoch is  0.44946\n",
      "Epoch:  19\n",
      "The loss before starting this epoch is  0.43386\n",
      "###########################################\n",
      "The training took  68.52\n"
     ]
    }
   ],
   "source": [
    "epochs = 20\n",
    "loss_history = torch.tensor(np.zeros(epochs+1))\n",
    "\n",
    "images_val = torch.tensor(tr_x[50000:,:])\n",
    "labels_val = torch.tensor(tr_y[50000:], dtype = torch.long)\n",
    "\n",
    "start = time.time() \n",
    "for epoch in range(epochs):\n",
    "        print(\"Epoch: \", epoch)\n",
    "        output_val = net(images_val)\n",
    "        loss_val = loss_function(output_val, labels_val)\n",
    "        \n",
    "        loss_history[epoch] = loss_val\n",
    "        print(\"The loss before starting this epoch is \", np.round(loss_val.data.numpy(), 5))\n",
    "        \n",
    "        # Training Phase \n",
    "        for images_batch, labels_batch in train_loader:\n",
    "            optimizer.zero_grad()\n",
    "            \n",
    "            output = net(images_batch)\n",
    "            loss = loss_function(output, labels_batch)\n",
    "            loss.backward()\n",
    "            \n",
    "            optimizer.step()\n",
    "            \n",
    "output_val = net(images_val)\n",
    "loss_val = loss_function(output_val, labels_val)\n",
    "\n",
    "loss_history[epoch+1] = loss_val\n",
    "print(\"###########################################\")\n",
    "print(\"The training took \", np.round(time.time() - start, 2))"
   ]
  },
  {
   "cell_type": "code",
   "execution_count": 37,
   "metadata": {},
   "outputs": [
    {
     "data": {
      "image/png": "[encoded data removed]",
      "text/plain": [
       "<Figure size 576x288 with 1 Axes>"
      ]
     },
     "metadata": {
      "needs_background": "light"
     },
     "output_type": "display_data"
    }
   ],
   "source": [
    "plt.figure(figsize=(8,4))\n",
    "plt.plot(loss_history.data.numpy())\n",
    "plt.show()"
   ]
  },
  {
   "cell_type": "code",
   "execution_count": 38,
   "metadata": {},
   "outputs": [
    {
     "name": "stdout",
     "output_type": "stream",
     "text": [
      "The accuracy of this neural network is: 0.8866\n"
     ]
    }
   ],
   "source": [
    "# Prepare the test set\n",
    "images_te = torch.tensor(te_x)\n",
    "labels_te = te_y # do not need a tensor here\n",
    "\n",
    "# Compute a distribution over the test labels\n",
    "output           = net( images_te )\n",
    "output_softmax   = F.softmax(output, dim=1)\n",
    "\n",
    "# Predict the test label with the one associated to the max probability\n",
    "labels          = np.array( range(0, 10) )\n",
    "max_label_index = np.argmax( output_softmax.data.numpy(), 1 )\n",
    "label_predicted = labels[ max_label_index ]\n",
    "\n",
    "# Mesure the accuracy as the proportion of exact classifications\n",
    "te_performance = np.sum(labels_te == label_predicted)/len(te_y)\n",
    "print(\"The accuracy of this neural network is: \"+ str(te_performance))"
   ]
  },
  {
   "cell_type": "markdown",
   "metadata": {},
   "source": [
    "#### Training on GPU"
   ]
  },
  {
   "cell_type": "code",
   "execution_count": 39,
   "metadata": {},
   "outputs": [],
   "source": [
    "# Choose the size of the minibatch\n",
    "batch_size=128\n",
    "\n",
    "# Data loader on GPU\n",
    "train_gpu = DeviceDataLoader(train_loader, device)"
   ]
  },
  {
   "cell_type": "code",
   "execution_count": 40,
   "metadata": {},
   "outputs": [],
   "source": [
    "# Network to GPU\n",
    "net_gpu = Net()\n",
    "net_gpu = to_device(net_gpu, device)"
   ]
  },
  {
   "cell_type": "code",
   "execution_count": 41,
   "metadata": {},
   "outputs": [],
   "source": [
    "# Cross entropy loss\n",
    "loss_function = F.cross_entropy\n",
    "\n",
    "# SGD: we have to plug-in the parameters we want to learn\n",
    "optimizer = torch.optim.SGD(net_gpu.parameters(), lr = 10**(-3))"
   ]
  },
  {
   "cell_type": "code",
   "execution_count": 42,
   "metadata": {
    "scrolled": true
   },
   "outputs": [
    {
     "name": "stdout",
     "output_type": "stream",
     "text": [
      "Epoch:  0\n",
      "Epoch:  1\n",
      "Epoch:  2\n",
      "Epoch:  3\n",
      "Epoch:  4\n",
      "Epoch:  5\n",
      "Epoch:  6\n",
      "Epoch:  7\n",
      "Epoch:  8\n",
      "Epoch:  9\n",
      "Epoch:  10\n",
      "Epoch:  11\n",
      "Epoch:  12\n",
      "Epoch:  13\n",
      "Epoch:  14\n",
      "Epoch:  15\n",
      "Epoch:  16\n",
      "Epoch:  17\n",
      "Epoch:  18\n",
      "Epoch:  19\n",
      "###########################################\n",
      "The training took  41.08\n"
     ]
    }
   ],
   "source": [
    "epochs = 20\n",
    "loss_history = torch.tensor(np.zeros(epochs+1), device = device)\n",
    "\n",
    "images_val = torch.tensor(tr_x[50000:,:], device = device)\n",
    "labels_val = torch.tensor(tr_y[50000:], dtype = torch.long, device = device)\n",
    "\n",
    "start = time.time() \n",
    "for epoch in range(epochs):\n",
    "    with torch.no_grad():\n",
    "        print(\"Epoch: \", epoch)\n",
    "        output_val = net_gpu(images_val)\n",
    "        loss_val = loss_function(output_val, labels_val)\n",
    "        \n",
    "        loss_history[epoch] = loss_val\n",
    "#         print(\"The loss before starting this epoch is \", np.round(loss_val.data, 5))\n",
    "        \n",
    "    # Training Phase \n",
    "    for images_batch, labels_batch in train_gpu:\n",
    "        optimizer.zero_grad()\n",
    "\n",
    "        output = net_gpu(images_batch)\n",
    "        loss = loss_function(output, labels_batch)\n",
    "        loss.backward()\n",
    "\n",
    "        optimizer.step()\n",
    "\n",
    "with torch.no_grad():\n",
    "    output_val = net_gpu(images_val)\n",
    "    loss_val = loss_function(output_val, labels_val)\n",
    "\n",
    "    loss_history[epoch+1] = loss_val\n",
    "print(\"###########################################\")\n",
    "print(\"The training took \", np.round(time.time() - start, 2))"
   ]
  },
  {
   "cell_type": "code",
   "execution_count": 43,
   "metadata": {},
   "outputs": [
    {
     "data": {
      "image/png": "[encoded data removed]",
      "text/plain": [
       "<Figure size 576x288 with 1 Axes>"
      ]
     },
     "metadata": {
      "needs_background": "light"
     },
     "output_type": "display_data"
    }
   ],
   "source": [
    "plt.figure(figsize=(8,4))\n",
    "plt.plot(loss_history.cpu().data.numpy())\n",
    "plt.show()"
   ]
  },
  {
   "cell_type": "code",
   "execution_count": 44,
   "metadata": {},
   "outputs": [
    {
     "name": "stdout",
     "output_type": "stream",
     "text": [
      "The accuracy of this neural network is: 0.8876\n"
     ]
    }
   ],
   "source": [
    "# Prepare the test set\n",
    "images_te_cuda = torch.tensor(te_x, device = device)\n",
    "labels_te = te_y # do not need a tensor here\n",
    "\n",
    "# Compute a distribution over the test labels\n",
    "output           = net_gpu( images_te_cuda )\n",
    "output_softmax   = F.softmax(output.cpu(), dim=1)\n",
    "\n",
    "# Predict the test label with the one associated to the max probability\n",
    "labels          = np.array( range(0, 10) )\n",
    "max_label_index = np.argmax( output_softmax.data.numpy(), 1 )\n",
    "label_predicted = labels[ max_label_index ]\n",
    "\n",
    "# Mesure the accuracy as the proportion of exact classifications\n",
    "te_performance = np.sum(labels_te == label_predicted)/len(te_y)\n",
    "print(\"The accuracy of this neural network is: \"+ str(te_performance))"
   ]
  },
  {
   "cell_type": "markdown",
   "metadata": {},
   "source": [
    "## Bayesian neural network"
   ]
  },
  {
   "cell_type": "markdown",
   "metadata": {},
   "source": [
    "A Bayesian neural network has a distribution over the weights instead of point estimates. For more details about the implemented method, we refer to the paper \"Weight Uncertainty in Neural Network\" by Blundell et al. (https://arxiv.org/pdf/1505.05424.pdf)."
   ]
  },
  {
   "cell_type": "code",
   "execution_count": 45,
   "metadata": {},
   "outputs": [
    {
     "data": {
      "text/html": [
       "\n",
       "        <iframe\n",
       "            width=\"1000\"\n",
       "            height=\"600\"\n",
       "            src=\"BayesianNN.pdf\"\n",
       "            frameborder=\"0\"\n",
       "            allowfullscreen\n",
       "        ></iframe>\n",
       "        "
      ],
      "text/plain": [
       "<IPython.lib.display.IFrame at 0x15a131f9908>"
      ]
     },
     "execution_count": 45,
     "metadata": {},
     "output_type": "execute_result"
    }
   ],
   "source": [
    "from IPython.display import IFrame\n",
    "IFrame(\"BayesianNN.pdf\", width=1000, height=600)"
   ]
  },
  {
   "cell_type": "markdown",
   "metadata": {},
   "source": [
    "We cannot compute the posterior over the weights of the neural network so we approximate it with Variational Bayes. Precisely, we approximate the posterior over the weights $p(W|\\mathcal{D})$ with independent Gaussian distributions (mean field approximation), i.e. $p(W|\\mathcal{D})$ is approximated with $q(W|\\theta)$ with $\\theta = (\\mu^{(i)}, \\rho^{(i)})_{i=1,\\dots,\\text{card}(W)}$ where:\n",
    "\n",
    "$$\n",
    "q(W|\\theta) = \\prod_{i=1}^{\\text{card}(W)} \\mathcal{N}(w^{(i)}|\\mu^{(i)}, (\\sigma^{(i)})^2)\n",
    "$$\n",
    "\n",
    "with $\\sigma^{(i)}=\\log(1+\\exp(\\rho^{(i)}))$.\n",
    "\n"
   ]
  },
  {
   "cell_type": "markdown",
   "metadata": {},
   "source": [
    "Hence having a function for computing the a Gaussian density is going to be useful..."
   ]
  },
  {
   "cell_type": "code",
   "execution_count": 46,
   "metadata": {},
   "outputs": [],
   "source": [
    "def Gaussian_density(w, mu, sigma):\n",
    "    \n",
    "    return (1/(np.sqrt(2*np.pi)*sigma))*torch.exp(-(w - mu)*(w - mu)/(2*sigma*sigma))"
   ]
  },
  {
   "cell_type": "markdown",
   "metadata": {},
   "source": [
    "#### Implement a Bayesian neural network"
   ]
  },
  {
   "cell_type": "markdown",
   "metadata": {},
   "source": [
    "As we have seen before the key point in implementi neural networks is to implement the linear layer. In Bayesian neural network with mean-field approximation we want the linear layer to have:\n",
    "1. the right dimension (input and output feautures);\n",
    "2. weights that are Gaussian random variables with some learnable parameters ($\\mu$ and $\\rho$);\n",
    "3. a forward method that apply the linear transformation after applying the weights.\n",
    "\n",
    "BONUS:\n",
    "4. A way to compute the log-likelihood over the weights.\n",
    "5. A way to compute the log-prior over the weights."
   ]
  },
  {
   "cell_type": "markdown",
   "metadata": {},
   "source": [
    "**First step** Implement some classes for $\\mu$ and $\\rho$ and a way to combine them in a Gaussian distribution."
   ]
  },
  {
   "cell_type": "code",
   "execution_count": 47,
   "metadata": {},
   "outputs": [],
   "source": [
    "class muParameter(nn.Module):\n",
    "\n",
    "    def __init__(self, in_features, out_features ):\n",
    "        super().__init__()\n",
    "\n",
    "        self.in_features  = in_features\n",
    "        self.out_features = out_features\n",
    "        \n",
    "\n",
    "        weight_numpy = np.random.uniform(-np.sqrt(1/in_features), +np.sqrt(1/in_features), (out_features, in_features))\n",
    "        bias_numpy   = np.random.uniform(-np.sqrt(1/in_features), +np.sqrt(1/in_features), (out_features             ))\n",
    "        \n",
    "        weight_tensor = torch.tensor(weight_numpy, dtype = torch.float32)\n",
    "        bias_tensor   = torch.tensor(bias_numpy,   dtype = torch.float32)  \n",
    "\n",
    "        self.weight = nn.Parameter(weight_tensor)\n",
    "        self.bias   = nn.Parameter(bias_tensor)\n",
    "        \n",
    "        \n",
    "class rhoParameter(nn.Module):\n",
    "\n",
    "    def __init__(self, in_features, out_features ):\n",
    "        super().__init__()\n",
    "\n",
    "        self.in_features  = in_features\n",
    "        self.out_features = out_features\n",
    "        \n",
    "\n",
    "        weight_numpy = np.random.uniform(-5, -4, (out_features, in_features))\n",
    "        bias_numpy   = np.random.uniform(-5, -4, (out_features             ))\n",
    "        \n",
    "        weight_tensor = torch.tensor(weight_numpy, dtype = torch.float32)\n",
    "        bias_tensor   = torch.tensor(bias_numpy,   dtype = torch.float32)  \n",
    "\n",
    "        self.weight = nn.Parameter(weight_tensor)\n",
    "        self.bias   = nn.Parameter(bias_tensor)\n",
    "        \n",
    "# a Gaussian random variable for the weights where we can automatically compute the log-likelihood    \n",
    "class Gaussian(object):\n",
    "    \n",
    "    def __init__(self, mu, rho, device = torch.device(\"cpu\")):\n",
    "        super().__init__()\n",
    "        self.mu = mu\n",
    "        self.rho = rho\n",
    "        \n",
    "        mean = torch.tensor(0, dtype = torch.float32).to(device)\n",
    "        std  = torch.tensor(1, dtype = torch.float32).to(device)\n",
    "\n",
    "        self.normal    = torch.distributions.Normal(mean, std)\n",
    "    \n",
    "    @property\n",
    "    def sigma(self):\n",
    "        return torch.log1p(torch.exp(self.rho))\n",
    "    \n",
    "    def sample(self):\n",
    "        \n",
    "        epsilon = self.normal.sample(self.rho.size())\n",
    "        \n",
    "        return self.mu + self.sigma * epsilon\n",
    "    \n",
    "    def log_likelihood(self, w):\n",
    "        \n",
    "        return torch.sum(torch.log(Gaussian_density(w, self.mu, self.sigma)))"
   ]
  },
  {
   "cell_type": "markdown",
   "metadata": {},
   "source": [
    "**Second step** Choose the prior form."
   ]
  },
  {
   "cell_type": "markdown",
   "metadata": {},
   "source": [
    "As for Blundell et al., we choose a prior that is a mixture of Gaussians per each weight:\n",
    "\n",
    "$$\n",
    "p(W) = \\prod_{i=1}^{\\text{card}(W)} \\pi\\mathcal{N}(w^{(i)}|0, \\sigma_1^2) + (1-\\pi)\\mathcal{N}(w^{(i)}|0, \\sigma_2^2).\n",
    "$$\n"
   ]
  },
  {
   "cell_type": "markdown",
   "metadata": {},
   "source": [
    "**Third step** Combine the above classes in the Bayesian equivalent of *nn.Linear*."
   ]
  },
  {
   "cell_type": "code",
   "execution_count": 48,
   "metadata": {},
   "outputs": [],
   "source": [
    "# This method model the weigths of the layer as Gaussians and it automatically compute the log-likelihood and the prior score.\n",
    "class LinearBayesianGaussian(nn.Module):\n",
    "    # the values of pi, sigma_1 and sigma_2 are extracted from a grid in Blundell et al.\n",
    "    def __init__(self, in_features, out_features, device = torch.device(\"cpu\"), pi = 0.5, sigma_1 = np.exp(-1), sigma_2 = np.exp(-6)):\n",
    "        super().__init__()\n",
    "\n",
    "        self.in_features  = in_features\n",
    "        self.out_features = out_features\n",
    "\n",
    "        self.mu  = muParameter(in_features,  out_features)\n",
    "        self.rho = rhoParameter(in_features, out_features)\n",
    "        \n",
    "        # the weights are random\n",
    "        self.weight_distribution = Gaussian(self.mu.weight, self.rho.weight, device)\n",
    "        self.bias_distribution   = Gaussian(self.mu.bias  , self.rho.bias, device)     \n",
    "        \n",
    "        # prior parameters\n",
    "        self.pi = pi\n",
    "        self.sigma_1 = sigma_1\n",
    "        self.sigma_2 = sigma_2\n",
    "\n",
    "\n",
    "    def forward(self, input):\n",
    "        \n",
    "        # sample weights\n",
    "        self.weight = self.weight_distribution.sample()\n",
    "        self.bias   = self.bias_distribution.sample()\n",
    "        \n",
    "        # apply the linear transformation\n",
    "        return F.linear(input, self.weight, self.bias)\n",
    "    \n",
    "    # these can be called only after a first call of the forward step\n",
    "    # compute the log-likelihoood\n",
    "    @property\n",
    "    def log_likelihood(self):\n",
    "\n",
    "        return self.weight_distribution.log_likelihood(self.weight) + self.bias_distribution.log_likelihood(self.bias)\n",
    "    \n",
    "    # compute the log prior\n",
    "    @property\n",
    "    def log_prior(self):\n",
    "        gaussian1_weight = Gaussian_density(self.weight, 0*self.weight, self.sigma_1)\n",
    "        gaussian2_weight = Gaussian_density(self.weight, 0*self.weight, self.sigma_2)\n",
    "        \n",
    "        gaussian1_bias = Gaussian_density(self.bias, 0*self.bias, self.sigma_1)\n",
    "        gaussian2_bias = Gaussian_density(self.bias, 0*self.bias, self.sigma_2)\n",
    "        \n",
    "        gaussian_mixture_weight = torch.sum(torch.log(self.pi*gaussian1_weight + (1-self.pi)*gaussian2_weight))\n",
    "        gaussian_mixture_bias   = torch.sum(torch.log(self.pi*gaussian1_bias   + (1-self.pi)*gaussian2_bias))\n",
    "\n",
    "        return gaussian_mixture_weight + gaussian_mixture_bias"
   ]
  },
  {
   "cell_type": "markdown",
   "metadata": {},
   "source": [
    "**Fourth step** Build a Bayesian neural network by stacking together the Bayesian Linear functions."
   ]
  },
  {
   "cell_type": "code",
   "execution_count": 49,
   "metadata": {},
   "outputs": [],
   "source": [
    "class BayesianNet(nn.Module):\n",
    "\n",
    "    def __init__(self, device = torch.device(\"cpu\"), pi = 0.5, sigma_1 = np.exp(-1), sigma_2 = np.exp(-6)):\n",
    "        super(BayesianNet, self).__init__() # Avoid calling nn.Module to call Net\n",
    "        \n",
    "        # this builds the first layer\n",
    "        self.W1 = LinearBayesianGaussian(784, 400, device, pi , sigma_1, sigma_2)  \n",
    "        # this builds the second layer\n",
    "        self.W2 = LinearBayesianGaussian(400, 400, device, pi , sigma_1, sigma_2)\n",
    "        # this builds the output layer\n",
    "        self.W3 = LinearBayesianGaussian(400, 10, device, pi, sigma_1, sigma_2)\n",
    "\n",
    "        \n",
    "    def forward(self, x):\n",
    "\n",
    "        h = F.relu(self.W1(x))\n",
    "        h = F.relu(self.W2(h))\n",
    "        h = self.W3(h)\n",
    "        \n",
    "        return h\n",
    "    \n",
    "    # these can be called only after a first call of the forward step\n",
    "    @property\n",
    "    def log_likelihood(self):\n",
    "        \n",
    "        return self.W1.log_likelihood + self.W2.log_likelihood + self.W3.log_likelihood\n",
    "    \n",
    "    @property\n",
    "    def log_prior(self):\n",
    "        \n",
    "        return self.W1.log_prior + self.W2.log_prior + self.W3.log_prior"
   ]
  },
  {
   "cell_type": "markdown",
   "metadata": {},
   "source": [
    "#### Training"
   ]
  },
  {
   "cell_type": "markdown",
   "metadata": {},
   "source": [
    "We want to minimize:\n",
    "\n",
    "$$\n",
    "\\mathbf{KL}(q(W|\\theta)||p(W|\\mathcal{D}))=\\mathbf{KL}(q(W|\\theta)||p(W)) - \\mathbb{E}_{q(W|\\theta)}[\\log(p(\\mathcal{D}|W))]\n",
    "$$\n",
    "\n",
    "with $\\mathbf{KL}(q(W|\\theta)||p(W))$ the expected difference between the log-likelihood and the prior score, and $-\\log(p(\\mathcal{D}|W))$ is the cross-entropy loss. \n",
    "\n",
    "The above is suitable to minibatches optimization. As suggested by Blundell et al. we actually minimize:\n",
    "\n",
    "$$\n",
    "\\frac{1}{M} \\mathbf{KL}(q(W|\\theta)||p(W)) - \\mathbb{E}_{q(W|\\theta)}[\\log(p(\\mathcal{D}^{(\\text{batch})}|W))]\n",
    "$$\n",
    "\n",
    "with $M$ number of minibatches. "
   ]
  },
  {
   "cell_type": "code",
   "execution_count": 50,
   "metadata": {},
   "outputs": [],
   "source": [
    "bayesnet = BayesianNet()"
   ]
  },
  {
   "cell_type": "code",
   "execution_count": 51,
   "metadata": {},
   "outputs": [],
   "source": [
    "# Cross entropy loss\n",
    "loss_function = F.cross_entropy\n",
    "\n",
    "# SGD: we have to plug-in the parameters we want to learn\n",
    "optimizer = torch.optim.SGD(bayesnet.parameters(), lr = 10**(-3))"
   ]
  },
  {
   "cell_type": "code",
   "execution_count": 53,
   "metadata": {},
   "outputs": [
    {
     "name": "stdout",
     "output_type": "stream",
     "text": [
      "Epoch:  0\n",
      "The loss before starting this epoch is  2.30755\n",
      "Epoch:  1\n",
      "The loss before starting this epoch is  0.29779\n",
      "Epoch:  2\n",
      "The loss before starting this epoch is  0.2381\n",
      "Epoch:  3\n",
      "The loss before starting this epoch is  0.19372\n",
      "Epoch:  4\n",
      "The loss before starting this epoch is  0.179\n",
      "Epoch:  5\n",
      "The loss before starting this epoch is  0.16034\n",
      "Epoch:  6\n",
      "The loss before starting this epoch is  0.15263\n",
      "Epoch:  7\n",
      "The loss before starting this epoch is  0.14699\n",
      "Epoch:  8\n",
      "The loss before starting this epoch is  0.12263\n",
      "Epoch:  9\n",
      "The loss before starting this epoch is  0.13671\n",
      "###########################################\n",
      "The training took  333.45\n"
     ]
    }
   ],
   "source": [
    "# number of minibatches\n",
    "M = int(round(50000/batch_size, 0))\n",
    "\n",
    "epochs = 5\n",
    "loss_history = torch.tensor(np.zeros(epochs+1))\n",
    "\n",
    "images_val = torch.tensor(tr_x[50000:,:])\n",
    "labels_val = torch.tensor(tr_y[50000:], dtype = torch.long)\n",
    "\n",
    "start = time.time() \n",
    "for epoch in range(epochs):\n",
    "        print(\"Epoch: \", epoch)\n",
    "        output_val = bayesnet(images_val)\n",
    "        loss_val = loss_function(output_val, labels_val, reduction=\"mean\")\n",
    "        \n",
    "        loss_history[epoch] = loss_val\n",
    "        print(\"The loss before starting this epoch is \", np.round(loss_val.data.numpy(), 5))\n",
    "        \n",
    "        # Training Phase \n",
    "        for images_batch, labels_batch in train_loader:\n",
    "            optimizer.zero_grad()\n",
    "            \n",
    "            output = bayesnet(images_batch)\n",
    "            \n",
    "            loss = loss_function(output, labels_batch, reduction=\"sum\") + (bayesnet.log_likelihood - bayesnet.log_prior)/M\n",
    "            loss.backward()\n",
    "            \n",
    "            optimizer.step()\n",
    "            \n",
    "output_val = bayesnet(images_val)\n",
    "loss_val = loss_function(output_val, labels_val, reduction=\"mean\")\n",
    "\n",
    "loss_history[epoch] = loss_val\n",
    "print(\"###########################################\")\n",
    "print(\"The training took \", np.round(time.time() - start, 2))"
   ]
  },
  {
   "cell_type": "code",
   "execution_count": 54,
   "metadata": {},
   "outputs": [
    {
     "data": {
      "image/png": "[encoded data removed]",
      "text/plain": [
       "<Figure size 576x288 with 1 Axes>"
      ]
     },
     "metadata": {
      "needs_background": "light"
     },
     "output_type": "display_data"
    }
   ],
   "source": [
    "plt.figure(figsize=(8,4))\n",
    "plt.plot(loss_history.data.numpy())\n",
    "plt.show()"
   ]
  },
  {
   "cell_type": "markdown",
   "metadata": {},
   "source": [
    "To measure the accuracy we want to sample from the posterior predictive:\n",
    "\n",
    "$$\n",
    "    p(\\tilde{\\mathcal{D}}|\\mathcal{D}) = \\int p(\\tilde{\\mathcal{D}}|W)p(W|\\mathcal{D}) dW \\approx \\mathbb{E}_{q(W|\\theta)}[p(\\tilde{\\mathcal{D}}|W)] \\approx \\frac{1}{N} \\sum_{k=1}^N p(\\tilde{\\mathcal{D}}|w_k), \\quad \\text{with } w_k \\sim q(W|\\theta)\n",
    "$$"
   ]
  },
  {
   "cell_type": "code",
   "execution_count": 55,
   "metadata": {},
   "outputs": [
    {
     "name": "stdout",
     "output_type": "stream",
     "text": [
      "The accuracy of this neural network is: 0.9635\n"
     ]
    }
   ],
   "source": [
    "# Prepare the test set\n",
    "images_te = torch.tensor(te_x)\n",
    "labels_te = te_y # do not need a tensor here\n",
    "\n",
    "posterior_pred_sample = 10\n",
    "\n",
    "output_softmax_posterior_pred = np.zeros(10)\n",
    "\n",
    "for i in range(10):\n",
    "    # Compute a distribution over the test labels\n",
    "    output           = bayesnet( images_te )\n",
    "    output_softmax_posterior_pred = output_softmax_posterior_pred + F.softmax(output, dim=1).data.numpy()\n",
    "    \n",
    "output_softmax_posterior_pred = output_softmax_posterior_pred/posterior_pred_sample\n",
    "\n",
    "# Predict the test label with the one associated to the max probability\n",
    "labels          = np.array( range(0, 10) )\n",
    "max_label_index = np.argmax( output_softmax_posterior_pred, 1 )\n",
    "label_predicted = labels[ max_label_index ]\n",
    "\n",
    "# Mesure the accuracy as the proportion of exact classifications\n",
    "te_performance = np.sum(labels_te == label_predicted)/len(te_y)\n",
    "    \n",
    "print(\"The accuracy of this neural network is: \"+ str(te_performance))"
   ]
  },
  {
   "cell_type": "markdown",
   "metadata": {},
   "source": [
    "#### Training on GPU"
   ]
  },
  {
   "cell_type": "code",
   "execution_count": 56,
   "metadata": {},
   "outputs": [],
   "source": [
    "# Choose the size of the minibatch\n",
    "batch_size=128\n",
    "\n",
    "# Data loader on GPU\n",
    "train_gpu = DeviceDataLoader(train_loader, device)"
   ]
  },
  {
   "cell_type": "code",
   "execution_count": 57,
   "metadata": {},
   "outputs": [],
   "source": [
    "# Network to GPU\n",
    "bayesnet_gpu = BayesianNet(device)\n",
    "bayesnet_gpu = to_device(bayesnet_gpu, device)"
   ]
  },
  {
   "cell_type": "code",
   "execution_count": 58,
   "metadata": {},
   "outputs": [],
   "source": [
    "# Cross entropy loss\n",
    "loss_function = F.cross_entropy\n",
    "\n",
    "# SGD: we have to plug-in the parameters we want to learn\n",
    "optimizer = torch.optim.SGD(bayesnet_gpu.parameters(), lr = 10**(-3))"
   ]
  },
  {
   "cell_type": "code",
   "execution_count": 59,
   "metadata": {
    "scrolled": true
   },
   "outputs": [
    {
     "name": "stdout",
     "output_type": "stream",
     "text": [
      "Epoch:  0\n",
      "Epoch:  1\n",
      "Epoch:  2\n",
      "Epoch:  3\n",
      "Epoch:  4\n",
      "Epoch:  5\n",
      "Epoch:  6\n",
      "Epoch:  7\n",
      "Epoch:  8\n",
      "Epoch:  9\n",
      "Epoch:  10\n",
      "Epoch:  11\n",
      "Epoch:  12\n",
      "Epoch:  13\n",
      "Epoch:  14\n",
      "Epoch:  15\n",
      "Epoch:  16\n",
      "Epoch:  17\n",
      "Epoch:  18\n",
      "Epoch:  19\n",
      "###########################################\n",
      "The training took  124.33\n"
     ]
    }
   ],
   "source": [
    "epochs = 20\n",
    "loss_history = torch.tensor(np.zeros(epochs+1), device = device)\n",
    "\n",
    "images_val = torch.tensor(tr_x[50000:,:], device = device)\n",
    "labels_val = torch.tensor(tr_y[50000:], dtype = torch.long, device = device)\n",
    "\n",
    "start = time.time() \n",
    "for epoch in range(epochs):\n",
    "    with torch.no_grad():\n",
    "        print(\"Epoch: \", epoch)\n",
    "        output_val = bayesnet_gpu(images_val)\n",
    "        loss_val = loss_function(output_val, labels_val)\n",
    "        \n",
    "        loss_history[epoch] = loss_val\n",
    "#         print(\"The loss before starting this epoch is \", np.round(loss_val.data, 5))\n",
    "        \n",
    "    # Training Phase \n",
    "    for images_batch, labels_batch in train_gpu:\n",
    "        optimizer.zero_grad()\n",
    "\n",
    "        output = bayesnet_gpu(images_batch)\n",
    "        loss = loss_function(output, labels_batch, reduction=\"sum\") + (bayesnet_gpu.log_likelihood - bayesnet_gpu.log_prior)/M\n",
    "        loss.backward()\n",
    "\n",
    "        optimizer.step()\n",
    "\n",
    "with torch.no_grad():\n",
    "    output_val = bayesnet_gpu(images_val)\n",
    "    loss_val = loss_function(output_val, labels_val)\n",
    "\n",
    "    loss_history[epoch] = loss_val\n",
    "print(\"###########################################\")\n",
    "print(\"The training took \", np.round(time.time() - start, 2))"
   ]
  },
  {
   "cell_type": "code",
   "execution_count": 60,
   "metadata": {},
   "outputs": [
    {
     "data": {
      "image/png": "[encoded data removed]",
      "text/plain": [
       "<Figure size 576x288 with 1 Axes>"
      ]
     },
     "metadata": {
      "needs_background": "light"
     },
     "output_type": "display_data"
    }
   ],
   "source": [
    "plt.figure(figsize=(8,4))\n",
    "plt.plot(loss_history.cpu().data.numpy())\n",
    "plt.show()"
   ]
  },
  {
   "cell_type": "code",
   "execution_count": 61,
   "metadata": {},
   "outputs": [
    {
     "name": "stdout",
     "output_type": "stream",
     "text": [
      "The accuracy of this neural network is: 0.968\n"
     ]
    }
   ],
   "source": [
    "# Prepare the test set\n",
    "images_te_cuda = torch.tensor(te_x, device = device)\n",
    "labels_te = te_y # do not need a tensor here\n",
    "\n",
    "posterior_pred_sample = 10\n",
    "\n",
    "output_softmax_posterior_pred = np.zeros(10)\n",
    "\n",
    "for i in range(10):\n",
    "    # Compute a distribution over the test labels\n",
    "    output           = bayesnet_gpu( images_te_cuda ).cpu()\n",
    "    output_softmax_posterior_pred = output_softmax_posterior_pred + F.softmax(output, dim=1).data.numpy()\n",
    "    \n",
    "output_softmax_posterior_pred = output_softmax_posterior_pred/posterior_pred_sample\n",
    "\n",
    "# Predict the test label with the one associated to the max probability\n",
    "labels          = np.array( range(0, 10) )\n",
    "max_label_index = np.argmax( output_softmax_posterior_pred, 1 )\n",
    "label_predicted = labels[ max_label_index ]\n",
    "\n",
    "# Mesure the accuracy as the proportion of exact classifications\n",
    "te_performance = np.sum(labels_te == label_predicted)/len(te_y)\n",
    "    \n",
    "print(\"The accuracy of this neural network is: \"+ str(te_performance))"
   ]
  },
  {
   "cell_type": "markdown",
   "metadata": {},
   "source": [
    "## Clear the GPU memory"
   ]
  },
  {
   "cell_type": "markdown",
   "metadata": {},
   "source": [
    "Check GPU memory"
   ]
  },
  {
   "cell_type": "code",
   "execution_count": 62,
   "metadata": {},
   "outputs": [
    {
     "name": "stdout",
     "output_type": "stream",
     "text": [
      "GeForce GTX 1050\n",
      "Memory Usage:\n",
      "Allocated: 0.2 GB\n",
      "Cached:    0.3 GB\n"
     ]
    }
   ],
   "source": [
    "if device.type == 'cuda':\n",
    "    print(torch.cuda.get_device_name(0))\n",
    "    print('Memory Usage:')\n",
    "    print('Allocated:', round(torch.cuda.memory_allocated(0)/1024**3,1), 'GB')\n",
    "    print('Cached:   ', round(torch.cuda.memory_reserved(0)/1024**3,1), 'GB')"
   ]
  },
  {
   "cell_type": "markdown",
   "metadata": {},
   "source": [
    "Free GPU memory"
   ]
  },
  {
   "cell_type": "code",
   "execution_count": 63,
   "metadata": {},
   "outputs": [],
   "source": [
    "torch.cuda.empty_cache()"
   ]
  },
  {
   "cell_type": "code",
   "execution_count": 64,
   "metadata": {},
   "outputs": [
    {
     "name": "stdout",
     "output_type": "stream",
     "text": [
      "GeForce GTX 1050\n",
      "Memory Usage:\n",
      "Allocated: 0.2 GB\n",
      "Cached:    0.2 GB\n"
     ]
    }
   ],
   "source": [
    "if device.type == 'cuda':\n",
    "    print(torch.cuda.get_device_name(0))\n",
    "    print('Memory Usage:')\n",
    "    print('Allocated:', round(torch.cuda.memory_allocated(0)/1024**3,1), 'GB')\n",
    "    print('Cached:   ', round(torch.cuda.memory_reserved(0)/1024**3,1), 'GB')"
   ]
  },
  {
   "cell_type": "code",
   "execution_count": 65,
   "metadata": {},
   "outputs": [],
   "source": [
    "del images_val\n",
    "del labels_val\n",
    "del bayesnet_gpu\n",
    "del loss_val\n",
    "del loss_history\n",
    "del images_batch\n",
    "del labels_batch\n",
    "del train_gpu\n",
    "del optimizer\n",
    "del output\n",
    "del loss\n",
    "del images_te_cuda\n",
    "del output_val\n",
    "\n",
    "torch.cuda.empty_cache()"
   ]
  },
  {
   "cell_type": "code",
   "execution_count": 66,
   "metadata": {},
   "outputs": [
    {
     "name": "stdout",
     "output_type": "stream",
     "text": [
      "GeForce GTX 1050\n",
      "Memory Usage:\n",
      "Allocated: 0.1 GB\n",
      "Cached:    0.1 GB\n"
     ]
    }
   ],
   "source": [
    "if device.type == 'cuda':\n",
    "    print(torch.cuda.get_device_name(0))\n",
    "    print('Memory Usage:')\n",
    "    print('Allocated:', round(torch.cuda.memory_allocated(0)/1024**3,1), 'GB')\n",
    "    print('Cached:   ', round(torch.cuda.memory_reserved(0)/1024**3,1), 'GB')"
   ]
  },
  {
   "cell_type": "code",
   "execution_count": null,
   "metadata": {},
   "outputs": [],
   "source": []
  },
  {
   "cell_type": "code",
   "execution_count": null,
   "metadata": {},
   "outputs": [],
   "source": []
  },
  {
   "cell_type": "code",
   "execution_count": null,
   "metadata": {},
   "outputs": [],
   "source": []
  }
 ],
 "metadata": {
  "kernelspec": {
   "display_name": "Python 3",
   "language": "python",
   "name": "python3"
  },
  "language_info": {
   "codemirror_mode": {
    "name": "ipython",
    "version": 3
   },
   "file_extension": ".py",
   "mimetype": "text/x-python",
   "name": "python",
   "nbconvert_exporter": "python",
   "pygments_lexer": "ipython3",
   "version": "3.7.7"
  }
 },
 "nbformat": 4,
 "nbformat_minor": 5
}
