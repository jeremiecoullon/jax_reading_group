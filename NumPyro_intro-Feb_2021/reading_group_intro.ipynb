{
 "cells": [
  {
   "cell_type": "code",
   "execution_count": 1,
   "metadata": {},
   "outputs": [],
   "source": [
    "import pprint\n",
    "import jax\n",
    "import jax.numpy as jnp\n",
    "import seaborn as sns\n",
    "import matplotlib.pyplot as plt\n",
    "import numpyro\n",
    "import numpyro.distributions as dist\n",
    "import jax.random as rnd\n",
    "\n",
    "master_key = rnd.PRNGKey(0)"
   ]
  },
  {
   "cell_type": "markdown",
   "metadata": {},
   "source": [
    "# Numpyro\n",
    "A probabilitic programming langugage in python based on `Pyro`, using a `numpy` backend and `jax` for auto-diff\n",
    "\n",
    "A probabilistic program is made up of _stochastic functions_. These are python callables (i.e. have a `__call__()` method) which combine:\n",
    "\n",
    "- deterministic Python code \n",
    "- primitive stochastic functions (which them selves call an RNG)\n",
    "\n",
    "Let's start with a simple stochastic function:"
   ]
  },
  {
   "cell_type": "code",
   "execution_count": 2,
   "metadata": {},
   "outputs": [],
   "source": [
    "fair_coin_dist = dist.Bernoulli(0.5)\n",
    "\n",
    "# A stochastic function\n",
    "def f():\n",
    "    coin = numpyro.sample('coin', fair_coin_dist)  # a sample site\n",
    "    return coin\n",
    "\n",
    "# If this were just pyro, this would draw a sample:\n",
    "# f()"
   ]
  },
  {
   "cell_type": "code",
   "execution_count": 3,
   "metadata": {},
   "outputs": [
    {
     "data": {
      "text/plain": [
       "(DeviceArray(1, dtype=int32),\n",
       " DeviceArray(1, dtype=int32),\n",
       " DeviceArray(1, dtype=int32),\n",
       " DeviceArray(1, dtype=int32))"
      ]
     },
     "execution_count": 3,
     "metadata": {},
     "output_type": "execute_result"
    }
   ],
   "source": [
    "master_key, sample_key = rnd.split(master_key)\n",
    "\n",
    "# option 0: Sample from a distribution directly (not useful for inference):\n",
    "flip0 = fair_coin_dist.sample(sample_key)\n",
    "\n",
    "# option 1: pass seed explicitly (not very flexible):\n",
    "flip1 = numpyro.sample('flip1', fair_coin_dist, rng_key=sample_key)\n",
    "\n",
    "# option 2 use a \"context manager\":\n",
    "with numpyro.handlers.seed(rng_seed=0):\n",
    "    flip2 = numpyro.sample('flip2', fair_coin_dist)\n",
    "\n",
    "# option 3 use a higher order function:\n",
    "flip3 = numpyro.handlers.seed(f, rng_seed=0)()\n",
    "\n",
    "flip0, flip1, flip2, flip3"
   ]
  },
  {
   "cell_type": "markdown",
   "metadata": {},
   "source": [
    "With any of the above options, we can run our stochastic model forwards, given a `jax.PRNGKey` to get realisations of the random variables in the model."
   ]
  },
  {
   "cell_type": "markdown",
   "metadata": {},
   "source": [
    "## Primitives\n",
    "A stochastic function in `numpyro` is made up of _primitives_ and _effect handlers_. The primitives can be thought of as parts of a DAG in a Bayesian model:"
   ]
  },
  {
   "cell_type": "code",
   "execution_count": 4,
   "metadata": {},
   "outputs": [],
   "source": [
    "# Generalise\n",
    "def flip():\n",
    "    prob = numpyro.param('prob', 0.8)                    # a fixed parameter site\n",
    "    coin = numpyro.sample('coin', dist.Bernoulli(prob))  # a sample site (i.e a random variable)\n",
    "    return coin\n",
    "\n",
    "def multi_flip():\n",
    "    prob = numpyro.param('prob', 0.8)\n",
    "    with numpyro.plate('i', 100):                    # also called a plate in DAGs - makes 100 indpendent variables\n",
    "        coin = numpyro.sample(\"coin\", dist.Bernoulli(prob))\n",
    "    return coin"
   ]
  },
  {
   "cell_type": "markdown",
   "metadata": {},
   "source": [
    "There is also a `scan` primitive to work with `jax.scan` but I haven't used that yet.\n",
    "\n",
    "Simulate some data from the `multi_flip` model:"
   ]
  },
  {
   "cell_type": "code",
   "execution_count": 5,
   "metadata": {},
   "outputs": [
    {
     "data": {
      "image/png": "[encoded data removed]",
      "text/plain": [
       "<Figure size 432x288 with 1 Axes>"
      ]
     },
     "metadata": {
      "needs_background": "light"
     },
     "output_type": "display_data"
    }
   ],
   "source": [
    "with numpyro.handlers.seed(multi_flip, sample_key):\n",
    "    flips = multi_flip()\n",
    "flips\n",
    "plt.bar([0,1], [1-jnp.mean(flips),jnp.mean(flips)])\n",
    "plt.ylim(0,1)\n",
    "plt.show()"
   ]
  },
  {
   "cell_type": "markdown",
   "metadata": {},
   "source": [
    "How does it work? `sample` is a function `sample(name, fn, ...)`. \n",
    "By default, `sample` calls its `fn` (passing in some argumnets) and returns the result (this is why it throws if you pass no `jax.RNGKey`)\n",
    "If there is an active `numpyro` effect handler, then a **message** is returned instead.\n",
    "These messages are dictionaries describing what the sample is: its name, its function, if its an observable, its value, etc.\n",
    "This is how effect handlers can change the behaviour of `sample` sites (and `param`s and `plate`s etc.)\n",
    "\n",
    "\n",
    "So when `multi_flip` is called in a usual context, the line `coin = numpyro.sample(...)` calls `dist.Bernoulli(prob)()` (which tries to sample using a `None` as a key).\n",
    "However, when the call is wrapped `with` the `handler.seed` effect handler each `sample` site is called from `seed.process_message()` instead (using some cool python tricks).\n",
    "Now, `sample` returns a dictionary including the keys `\"fn\":dist.Bernoulli(prob)` and `\"rng_key\":None` inside the `process_message` function, which then splits a new key and calls `fn` to generate an actual value.\n",
    "\n",
    "Its the moral equivalent of:"
   ]
  },
  {
   "cell_type": "code",
   "execution_count": 6,
   "metadata": {},
   "outputs": [],
   "source": [
    "def seed(model_callable, rng_key):\n",
    "    for site in sample_statements(model_callable):\n",
    "        rng_key, sample_key = split(rng_key)\n",
    "        site['value'] = site['fn'](sample_key)\n",
    "       "
   ]
  },
  {
   "cell_type": "markdown",
   "metadata": {},
   "source": [
    "We can see the `trace` of what the handlers do by wrapping them in another handler called `trace`:"
   ]
  },
  {
   "cell_type": "code",
   "execution_count": 7,
   "metadata": {},
   "outputs": [
    {
     "data": {
      "text/plain": [
       "odict_keys(['prob', 'coin'])"
      ]
     },
     "execution_count": 7,
     "metadata": {},
     "output_type": "execute_result"
    }
   ],
   "source": [
    "flip_trace = numpyro.handlers.trace(numpyro.handlers.seed(flip, sample_key)).get_trace()\n",
    "flip_trace.keys()"
   ]
  },
  {
   "cell_type": "code",
   "execution_count": 8,
   "metadata": {},
   "outputs": [
    {
     "data": {
      "text/plain": [
       "{'type': 'param',\n",
       " 'name': 'prob',\n",
       " 'fn': <function numpyro.util.identity(x, *args, **kwargs)>,\n",
       " 'args': (0.8,),\n",
       " 'kwargs': {},\n",
       " 'value': 0.8,\n",
       " 'scale': None,\n",
       " 'cond_indep_stack': []}"
      ]
     },
     "execution_count": 8,
     "metadata": {},
     "output_type": "execute_result"
    }
   ],
   "source": [
    "flip_trace['prob']"
   ]
  },
  {
   "cell_type": "code",
   "execution_count": 9,
   "metadata": {},
   "outputs": [
    {
     "data": {
      "text/plain": [
       "{'type': 'sample',\n",
       " 'name': 'coin',\n",
       " 'fn': <numpyro.distributions.discrete.BernoulliProbs at 0x7f75147daa00>,\n",
       " 'args': (),\n",
       " 'kwargs': {'rng_key': array([1190051861, 3378399878], dtype=uint32),\n",
       "  'sample_shape': ()},\n",
       " 'value': DeviceArray(0, dtype=int32),\n",
       " 'scale': None,\n",
       " 'is_observed': False,\n",
       " 'intermediates': [],\n",
       " 'cond_indep_stack': [],\n",
       " 'infer': {}}"
      ]
     },
     "execution_count": 9,
     "metadata": {},
     "output_type": "execute_result"
    }
   ],
   "source": [
    "flip_trace['coin']    "
   ]
  },
  {
   "cell_type": "markdown",
   "metadata": {},
   "source": [
    "## Effect Handlers\n",
    "We've seen how `seed` converts a `sample` statement to sub in an `rng_key`. Let's use some other handlers to make the `multi_flip` model amenable to inference.\n",
    "\n",
    "`multi_flip` is currently a simple forward model, it describes how to generate the array `flips` from a fixed `prob`ability. \n",
    "To perform inference on `prob`, first we need to **lift** it by assigning a prior:"
   ]
  },
  {
   "cell_type": "code",
   "execution_count": 10,
   "metadata": {},
   "outputs": [
    {
     "data": {
      "text/plain": [
       "{'type': 'sample',\n",
       " 'name': 'prob',\n",
       " 'fn': <numpyro.distributions.continuous.Beta at 0x7f751dda0fd0>,\n",
       " 'args': (),\n",
       " 'kwargs': {'rng_key': array([2718843009, 1272950319], dtype=uint32),\n",
       "  'sample_shape': ()},\n",
       " 'value': DeviceArray(0.9372851, dtype=float32),\n",
       " 'scale': None,\n",
       " 'cond_indep_stack': [],\n",
       " 'intermediates': [],\n",
       " 'is_observed': False}"
      ]
     },
     "execution_count": 10,
     "metadata": {},
     "output_type": "execute_result"
    }
   ],
   "source": [
    "lifted = numpyro.handlers.lift(multi_flip, prior={'prob': dist.Beta(2, 2)})\n",
    "\n",
    "lifted_trace = numpyro.handlers.trace(numpyro.handlers.seed(lifted, 0)).get_trace()\n",
    "\n",
    "lifted_trace['prob'] # Note its now a sample site!"
   ]
  },
  {
   "cell_type": "markdown",
   "metadata": {},
   "source": [
    "I will now treat the simulated `flips` variable as data for the `coin`s. This is `condition`ing:"
   ]
  },
  {
   "cell_type": "code",
   "execution_count": 11,
   "metadata": {},
   "outputs": [
    {
     "name": "stdout",
     "output_type": "stream",
     "text": [
      "{'args': (),\n",
      " 'cond_indep_stack': [CondIndepStackFrame(name='i', dim=-1, size=100)],\n",
      " 'fn': <numpyro.distributions.distribution.ExpandedDistribution object at 0x7f75682bf610>,\n",
      " 'infer': {},\n",
      " 'intermediates': [],\n",
      " 'is_observed': True,\n",
      " 'kwargs': {'rng_key': None, 'sample_shape': ()},\n",
      " 'name': 'coin',\n",
      " 'scale': None,\n",
      " 'type': 'sample',\n",
      " 'value': DeviceArray([1, 1, 1, 1, 0, 0, 1, 1, 1, 1, 0, 1, 1, 1, 1, 1, 1, 0, 1, 1,\n",
      "             1, 1, 1, 1, 0, 1, 1, 1, 1, 1, 1, 1, 0, 1, 1, 1, 0, 0, 1, 1,\n",
      "             1, 1, 0, 1, 1, 1, 1, 1, 1, 1, 0, 0, 1, 1, 1, 1, 1, 1, 1, 1,\n",
      "             1, 1, 1, 1, 0, 1, 0, 1, 1, 1, 1, 1, 1, 0, 0, 1, 1, 1, 1, 1,\n",
      "             1, 1, 1, 0, 1, 1, 1, 1, 1, 1, 1, 1, 1, 1, 1, 1, 1, 1, 1, 1],            dtype=int32)}\n"
     ]
    }
   ],
   "source": [
    "posterior = numpyro.handlers.condition(lifted, {'coin': flips})\n",
    "\n",
    "posterior_trace = numpyro.handlers.trace(\n",
    "    numpyro.handlers.seed(posterior, 0)).get_trace()\n",
    "\n",
    "pprint.pprint(posterior_trace['coin'])"
   ]
  },
  {
   "cell_type": "markdown",
   "metadata": {},
   "source": [
    "We now have a callable which has the value of `coin` set to the data `flips` and has a Beta(2, 2) prior set to `prob`. To use this for inference, we need to compute the log_density for some value of `prob`. That is, a way to `substitute` a value for `prob`:\n"
   ]
  },
  {
   "cell_type": "code",
   "execution_count": 12,
   "metadata": {},
   "outputs": [
    {
     "data": {
      "image/png": "[encoded data removed]",
      "text/plain": [
       "<Figure size 432x288 with 1 Axes>"
      ]
     },
     "metadata": {
      "needs_background": "light"
     },
     "output_type": "display_data"
    }
   ],
   "source": [
    "def log_prob(posterior, p):\n",
    "    trace = numpyro.handlers.trace(numpyro.handlers.substitute(posterior, {'prob': p})).get_trace()\n",
    "    logp = 0.0\n",
    "    for site in trace.values():\n",
    "        if site['type'] == \"sample\":\n",
    "            logp = logp + jnp.sum(site['fn'].log_prob(site['value']))\n",
    "    return logp\n",
    "    \n",
    "    \n",
    "\n",
    "probs = jnp.linspace(0.2, 1.0, 100)\n",
    "lps = [log_prob(posterior, p) for p in probs]\n",
    "\n",
    "plt.plot(probs, lps)\n",
    "plt.axvline(0.8)\n",
    "plt.show()"
   ]
  },
  {
   "cell_type": "markdown",
   "metadata": {},
   "source": [
    "# Bijectors\n",
    "TFP has the `bijectors` library to make it easy to transform variables in a model to the real-line which is vital for HMC, all while preserving measure. \n",
    "I wanted a similar feature in `numpyro` by writing an effect handler.\n",
    "\n",
    "All `numpyro.distribution`s know their support, and there is a global map of constraints/supports to bijection functions. We can use this to add a `transform` key to the sample sites during a model trace:"
   ]
  },
  {
   "cell_type": "code",
   "execution_count": 13,
   "metadata": {},
   "outputs": [],
   "source": [
    "from numpyro.primitives import Messenger\n",
    "from numpyro.distributions.transforms import biject_to\n",
    "from numpyro.distributions.util import sum_rightmost\n",
    "\n",
    "class substitute_unconstrained(Messenger):\n",
    "    def __init__(self, fn=None, data=None, substitute_fn=None):\n",
    "        self.substitute_fn = substitute_fn\n",
    "        self.data = data\n",
    "        if ((data is None) == (substitute_fn is None)):\n",
    "            raise ValueError('At least one of `data` or `substitute_fn` should be provided.')\n",
    "        super(substitute_unconstrained, self).__init__(fn)\n",
    "\n",
    "    def process_message(self, msg):\n",
    "        # if its not a sample or its observed, do nothing\n",
    "        if not msg['type'] == 'sample':\n",
    "            return\n",
    "        if msg['is_observed']:\n",
    "            return\n",
    "        # get the value for this site from the dictionary or function\n",
    "        if self.data is not None:\n",
    "            unconstrained_value = self.data.get(msg['name'])\n",
    "        else:\n",
    "            unconstrained_value = self.substitute_fn(msg)\n",
    "\n",
    "        if unconstrained_value is not None:\n",
    "            fn = msg['fn']\n",
    "            transform = biject_to(fn.support) # dist's know their support\n",
    "            value = transform(unconstrained_value)\n",
    "            # log jacobian term\n",
    "            logdet = transform.log_abs_det_jacobian(unconstrained_value, value)\n",
    "            # shape twiddling\n",
    "            logdet = sum_rightmost(logdet, jnp.ndim(logdet) - jnp.ndim(value) + len(fn.event_shape))\n",
    "            # a factor just adds an arbitary value which will get summed up in the log_probability\n",
    "            numpyro.factor(\"_{}_logdet\".format(\n",
    "                msg['name']), jnp.array((logdet,)))\n",
    "            msg['value'] = value"
   ]
  },
  {
   "cell_type": "code",
   "execution_count": 14,
   "metadata": {},
   "outputs": [
    {
     "data": {
      "text/plain": [
       "{'type': 'sample',\n",
       " 'name': 'prob',\n",
       " 'fn': <numpyro.distributions.continuous.Beta at 0x7f751dda0fd0>,\n",
       " 'args': (),\n",
       " 'kwargs': {'rng_key': None, 'sample_shape': ()},\n",
       " 'value': DeviceArray(0.26894143, dtype=float32),\n",
       " 'scale': None,\n",
       " 'cond_indep_stack': [],\n",
       " 'intermediates': [],\n",
       " 'is_observed': False}"
      ]
     },
     "execution_count": 14,
     "metadata": {},
     "output_type": "execute_result"
    }
   ],
   "source": [
    "on_reals_trace = numpyro.handlers.trace(substitute_unconstrained(posterior, {'prob':-1.0})).get_trace()\n",
    "\n",
    "on_reals_trace['prob']"
   ]
  },
  {
   "cell_type": "markdown",
   "metadata": {},
   "source": [
    "We can use this to define a generic potential energy function which takes a callable and dictionary keyed by site name to compute the potential energy:"
   ]
  },
  {
   "cell_type": "code",
   "execution_count": 15,
   "metadata": {},
   "outputs": [
    {
     "data": {
      "text/plain": [
       "(DeviceArray(-116.787445, dtype=float32),\n",
       " DeviceArray(58.030083, dtype=float32))"
      ]
     },
     "execution_count": 15,
     "metadata": {},
     "output_type": "execute_result"
    }
   ],
   "source": [
    "def potential(posterior, x):\n",
    "    \"\"\"@param x dictionary of unconstrained value with same site names as sample sites in posterior\"\"\"\n",
    "    trace = numpyro.handlers.trace(substitute_unconstrained(posterior, x)).get_trace()\n",
    "    logp = 0.0\n",
    "    for site in trace.values():\n",
    "        if site['type'] == \"sample\":\n",
    "            logp = logp + jnp.sum(site['fn'].log_prob(site['value']))\n",
    "    return logp\n",
    "\n",
    "\n",
    "# could use partial here...\n",
    "def f(x):\n",
    "    return potential(posterior, {'prob': x})\n",
    "\n",
    "\n",
    "g = jax.grad(f)\n",
    "\n",
    "\n",
    "f(-1.0), g(-1.0)"
   ]
  },
  {
   "cell_type": "code",
   "execution_count": 16,
   "metadata": {},
   "outputs": [
    {
     "data": {
      "text/plain": [
       "DeviceArray(-115.17306, dtype=float32)"
      ]
     },
     "execution_count": 16,
     "metadata": {},
     "output_type": "execute_result"
    }
   ],
   "source": [
    "# Now we could use gradient ascent or HMC to perform inference on prob...\n",
    "log_prob(posterior, 0.2689)"
   ]
  }
 ],
 "metadata": {
  "kernelspec": {
   "display_name": "Python 3",
   "language": "python",
   "name": "python3"
  },
  "language_info": {
   "codemirror_mode": {
    "name": "ipython",
    "version": 3
   },
   "file_extension": ".py",
   "mimetype": "text/x-python",
   "name": "python",
   "nbconvert_exporter": "python",
   "pygments_lexer": "ipython3",
   "version": "3.8.5"
  }
 },
 "nbformat": 4,
 "nbformat_minor": 4
}
