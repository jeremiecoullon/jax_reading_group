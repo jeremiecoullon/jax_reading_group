{
 "cells": [
  {
   "cell_type": "code",
   "execution_count": 1,
   "metadata": {},
   "outputs": [],
   "source": [
    "%matplotlib inline\n",
    "\n",
    "import matplotlib.pyplot as plt\n",
    "import numpy as onp\n",
    "import seaborn as sns\n",
    "sns.set_style(\"darkgrid\")\n",
    "\n",
    "from jax import jit, vmap, grad, value_and_grad\n",
    "from jax import numpy as np\n",
    "from jax.scipy.special import logsumexp\n",
    "from scipy.special import logsumexp as onp_logsumexp"
   ]
  },
  {
   "cell_type": "markdown",
   "metadata": {},
   "source": [
    "# GD for logistic regression: find the MAP\n",
    "\n",
    "*Thursday 15th October 2020*\n",
    "\n",
    "**Summary:**\n",
    "1. `vmap`: how it works\n",
    "2. generate data for logistic regression\n",
    "3. build posterior\n",
    "4. behaviour of `jit` & `block_until_ready()`\n",
    "5. comparison to numpy\n",
    "6. gradient descent"
   ]
  },
  {
   "cell_type": "markdown",
   "metadata": {},
   "source": [
    "## 1. vmap\n",
    "\n",
    "#### First example: square elements in an array"
   ]
  },
  {
   "cell_type": "code",
   "execution_count": 4,
   "metadata": {},
   "outputs": [
    {
     "name": "stdout",
     "output_type": "stream",
     "text": [
      "CPU times: user 801 ms, sys: 128 ms, total: 929 ms\n",
      "Wall time: 929 ms\n",
      "[0, 1, 4, 9, 16, 25, 36, 49, 64, 81]\n"
     ]
    }
   ],
   "source": [
    "big_num = int(1e7)\n",
    "\n",
    "%time a = [elem*elem for elem in range(big_num)]\n",
    "\n",
    "print(a[:10])"
   ]
  },
  {
   "cell_type": "code",
   "execution_count": 65,
   "metadata": {},
   "outputs": [],
   "source": [
    "def square(x):\n",
    "    return x*x\n",
    "\n",
    "batch_square = vmap(square, in_axes=(0,))"
   ]
  },
  {
   "cell_type": "code",
   "execution_count": 66,
   "metadata": {},
   "outputs": [
    {
     "name": "stdout",
     "output_type": "stream",
     "text": [
      "CPU times: user 38.8 ms, sys: 28.4 ms, total: 67.1 ms\n",
      "Wall time: 22.4 ms\n",
      "[ 0  1  4  9 16 25 36 49 64 81]\n"
     ]
    }
   ],
   "source": [
    "%time batch_square(np.arange(big_num))[0].block_until_ready()\n",
    "\n",
    "print(batch_square(np.arange(big_num))[:10])"
   ]
  },
  {
   "cell_type": "code",
   "execution_count": 68,
   "metadata": {},
   "outputs": [
    {
     "data": {
      "text/plain": [
       "42.27272727272727"
      ]
     },
     "execution_count": 68,
     "metadata": {},
     "output_type": "execute_result"
    }
   ],
   "source": [
    "# speedup\n",
    "930/22"
   ]
  },
  {
   "cell_type": "markdown",
   "metadata": {},
   "source": [
    "#### Remark: Jax doesn't always take any inputs:"
   ]
  },
  {
   "cell_type": "code",
   "execution_count": 74,
   "metadata": {},
   "outputs": [],
   "source": [
    "# batch_square(range(big_num))\n",
    "\n",
    "# batch_square(list(range(big_num)))\n"
   ]
  },
  {
   "cell_type": "markdown",
   "metadata": {},
   "source": [
    "#### Second example: sum of dot products\n",
    "\n",
    "\n",
    "$\\sum^N U_i^T U_i$ with $U \\in \\mathcal{R^{N \\times D}}$"
   ]
  },
  {
   "cell_type": "code",
   "execution_count": 110,
   "metadata": {},
   "outputs": [
    {
     "name": "stdout",
     "output_type": "stream",
     "text": [
      "Shape of U: (1000, 10)\n",
      "Shape of batch_dot(U): (1000,)\n"
     ]
    }
   ],
   "source": [
    "N = 1000\n",
    "D = 10\n",
    "\n",
    "U = onp.random.uniform(size=(N,D))\n",
    "print(f\"Shape of U: {U.shape}\")\n",
    "\n",
    "def norm_square(x):\n",
    "    return np.dot(x,x)\n",
    "\n",
    "batch_dot = vmap(norm_square, in_axes=(0,))\n",
    "\n",
    "\n",
    "# now simply pass in U\n",
    "print(f\"Shape of batch_dot(U): {batch_dot(U).shape}\")\n"
   ]
  },
  {
   "cell_type": "code",
   "execution_count": 76,
   "metadata": {},
   "outputs": [
    {
     "data": {
      "text/plain": [
       "DeviceArray([3.5023053, 2.524429 , 3.431289 , 4.3207164, 3.062355 ,\n",
       "             3.4152622, 2.0468721, 3.1359453, 3.581743 , 3.5813015],            dtype=float32)"
      ]
     },
     "execution_count": 76,
     "metadata": {},
     "output_type": "execute_result"
    }
   ],
   "source": [
    "batch_dot(U)[:10]"
   ]
  },
  {
   "cell_type": "code",
   "execution_count": 77,
   "metadata": {},
   "outputs": [
    {
     "name": "stdout",
     "output_type": "stream",
     "text": [
      "\n",
      "Check that it worked:\n",
      "3.5023053\n",
      "3.5023053\n"
     ]
    }
   ],
   "source": [
    "\n",
    "print(\"\\nCheck that it worked:\")\n",
    "print(batch_dot(U)[0])\n",
    "print(np.dot(U[0,:], U[0,:]))"
   ]
  },
  {
   "cell_type": "markdown",
   "metadata": {},
   "source": [
    "##### benchmark vs list comprehension\n",
    "\n",
    "- increase N: numpy grows, and Jax stays the same for a bit, then grows\n",
    "- increase D: Jax is slower than numpy in some cases"
   ]
  },
  {
   "cell_type": "code",
   "execution_count": 222,
   "metadata": {},
   "outputs": [],
   "source": [
    "N = 1000\n",
    "D = 10\n",
    "\n",
    "U = onp.random.uniform(size=(N,D))"
   ]
  },
  {
   "cell_type": "code",
   "execution_count": 225,
   "metadata": {},
   "outputs": [
    {
     "name": "stdout",
     "output_type": "stream",
     "text": [
      "CPU times: user 4.45 ms, sys: 3.63 ms, total: 8.08 ms\n",
      "Wall time: 5.3 ms\n"
     ]
    }
   ],
   "source": [
    "\n",
    "%time a = [onp.dot(x,x) for x in U]"
   ]
  },
  {
   "cell_type": "code",
   "execution_count": 226,
   "metadata": {},
   "outputs": [
    {
     "name": "stdout",
     "output_type": "stream",
     "text": [
      "CPU times: user 5.08 ms, sys: 2.41 ms, total: 7.48 ms\n",
      "Wall time: 4.91 ms\n"
     ]
    },
    {
     "data": {
      "text/plain": [
       "DeviceArray(2.6831276, dtype=float32)"
      ]
     },
     "execution_count": 226,
     "metadata": {},
     "output_type": "execute_result"
    }
   ],
   "source": [
    "%time batch_dot(U)[0].block_until_ready()"
   ]
  },
  {
   "cell_type": "markdown",
   "metadata": {},
   "source": [
    "### other applications of vmap:\n",
    "\n",
    "- Calculating the loss/log-likelihood/etc.. at each data point in optimisation/MCMC\n",
    "- computing the entries of a gram matrix \n",
    "- Running MCMC chains in parallel"
   ]
  },
  {
   "cell_type": "markdown",
   "metadata": {},
   "source": [
    "## 2. Generate data\n",
    "\n",
    "Setup from [SG-MCMC paper](https://arxiv.org/abs/1907.06986) (Nemeth and Fearnhead)\n",
    "\n",
    "- Matrix of covariates $\\textbf{X} \\in \\mathcal{R}^{N\\times d}$, and vector responses: $\\textbf{y} = \\{ y_i \\}_1^N$\n",
    "- Parameters: $\\theta \\in \\mathcal{R^d}$\n",
    "\n",
    "\n",
    "**Model:** \n",
    "\n",
    "- $y_i = \\text{Bernoulli}(p_i)$ with $p_i = \\frac{1}{ 1+\\exp(-\\theta^T x_i)}$\n",
    "- Prior: $\\theta \\sim \\mathcal{N}(0, \\Sigma_{\\theta})$ with $\\Sigma_{\\theta} = 10\\textbf{I}_d$\n",
    "- Likelihood: $p(X,y | \\theta) = \\Pi^N p_i^{y_i}(1-p_i)^{y_i}$\n",
    "\n",
    "**Generate data:** \n",
    "- $x_i \\sim \\mathcal{N}(0, \\Sigma_x)$ with $\\Sigma_x^{(i,j)} = \\text{Unif}(-\\rho, \\rho)^{|i-j|}$ and $\\rho =0.4$\n",
    "- Sample true parameter from the prior: $\\theta_{0} \\sim \\mathcal{N}(0, \\Sigma_{\\theta})$"
   ]
  },
  {
   "cell_type": "code",
   "execution_count": 227,
   "metadata": {},
   "outputs": [
    {
     "name": "stdout",
     "output_type": "stream",
     "text": [
      "generating data\n",
      "done\n",
      "(10000, 10)\n"
     ]
    }
   ],
   "source": [
    "dim = 10\n",
    "N = 10000\n",
    "rho = 0.4\n",
    "onp.random.seed(0)\n",
    "\n",
    "def genCovMat(d, rho):\n",
    "    \"Generate a correlated Covariance matrix with 1s on diagonal\"\n",
    "    Sigma0 = onp.diag(onp.ones(d))\n",
    "    for i in range(1,d):\n",
    "        for j in range(0, i):\n",
    "            Sigma0[i,j] = onp.random.uniform(-rho, rho)**(i-j)\n",
    "            Sigma0[j,i] = Sigma0[i,j]\n",
    "    \n",
    "    return Sigma0\n",
    "\n",
    "print(\"generating data\")\n",
    "theta_true = onp.random.normal(size=dim)*onp.sqrt(10)\n",
    "\n",
    "covX = genCovMat(dim, rho)\n",
    "X = onp.random.multivariate_normal(mean=onp.zeros(dim), cov=covX, size=N)\n",
    "\n",
    "def logistic(theta, x):\n",
    "    return 1/(1+onp.exp(-onp.dot(theta, x)))\n",
    "\n",
    "p_array = onp.array([logistic(theta_true, elem) for elem in X])\n",
    "y_data = onp.array([onp.random.binomial(n=1,p=elem) for elem in p_array])\n",
    "print(\"done\")\n",
    "\n",
    "print(X.shape)"
   ]
  },
  {
   "cell_type": "markdown",
   "metadata": {},
   "source": [
    "## 3. build posterior\n",
    "\n",
    "\n",
    "Likelihood: $p(X,y | \\theta) = \\Pi^N p_i^{y_i}(1-p_i)^{y_i}$\n",
    "\n",
    "\n",
    "So the log-likelihood for each data point is: \n",
    "\n",
    "\\begin{align}\n",
    "l_i(\\theta) &= y_i \\log(p_i) + (1-y_i)\\log(1-p_i) \\\\\n",
    " &= -\\log \\left[ 1 + \\exp\\left((1-2y_i) \\theta^T x_i \\right) \\right]\n",
    "\\end{align}\n",
    "\n",
    "\n",
    "\n",
    "\n",
    "**Comments:**\n",
    "\n",
    "- everything is composable. Example: `jit(vmap(jit(grad(myfun))))` is valid (though have two `jit`'s are not useful)\n",
    "- test the code below: having jit on `loglikelihood`, `log_prior`, `log_post`, and `grad_log_post` is the same as having just once on `grad_log_post`"
   ]
  },
  {
   "cell_type": "code",
   "execution_count": 348,
   "metadata": {},
   "outputs": [],
   "source": [
    "def loglikelihood(theta, x_val, y_val):\n",
    "    return -logsumexp(np.array([0., (1.-2.*y_val)*np.dot(theta, x_val)]))\n",
    "\n",
    "\n",
    "batch_loglik = vmap(loglikelihood, in_axes=(None, 0,0))\n",
    "\n",
    "\n",
    "def log_prior(theta):\n",
    "    return -(0.5/10)*np.dot(theta,theta)\n",
    "\n",
    "\n",
    "def log_post(theta):\n",
    "    return log_prior(theta) + np.sum(batch_loglik(theta, X, y_data), axis=0)\n",
    "\n",
    "\n",
    "grad_log_post = jit(grad(log_post))\n",
    "\n",
    "val_and_grad_log_post = jit(value_and_grad(log_post))\n"
   ]
  },
  {
   "cell_type": "code",
   "execution_count": 278,
   "metadata": {},
   "outputs": [
    {
     "data": {
      "text/plain": [
       "DeviceArray(-0.00280452, dtype=float32)"
      ]
     },
     "execution_count": 278,
     "metadata": {},
     "output_type": "execute_result"
    }
   ],
   "source": [
    "loglikelihood(theta_true, X[0,:], y_data[0])"
   ]
  },
  {
   "cell_type": "code",
   "execution_count": 279,
   "metadata": {},
   "outputs": [
    {
     "data": {
      "text/plain": [
       "DeviceArray([-2.8045154e-03, -5.5907592e-05, -3.3350980e-01, ...,\n",
       "             -5.3260446e-04, -1.9376041e-01, -9.3832105e-02],            dtype=float32)"
      ]
     },
     "execution_count": 279,
     "metadata": {},
     "output_type": "execute_result"
    }
   ],
   "source": [
    "batch_loglik(theta_true, X, y_data)"
   ]
  },
  {
   "cell_type": "code",
   "execution_count": null,
   "metadata": {},
   "outputs": [],
   "source": []
  },
  {
   "cell_type": "code",
   "execution_count": 354,
   "metadata": {},
   "outputs": [
    {
     "data": {
      "text/plain": [
       "numpy.float64"
      ]
     },
     "execution_count": 354,
     "metadata": {},
     "output_type": "execute_result"
    }
   ],
   "source": [
    "type(theta_true[0])"
   ]
  },
  {
   "cell_type": "code",
   "execution_count": 350,
   "metadata": {},
   "outputs": [
    {
     "name": "stdout",
     "output_type": "stream",
     "text": [
      "CPU times: user 3.38 ms, sys: 1.59 ms, total: 4.96 ms\n",
      "Wall time: 2.92 ms\n"
     ]
    },
    {
     "data": {
      "text/plain": [
       "DeviceArray(20.801914, dtype=float32)"
      ]
     },
     "execution_count": 350,
     "metadata": {},
     "output_type": "execute_result"
    }
   ],
   "source": [
    "%time grad_log_post(theta_true)[0].block_until_ready()"
   ]
  },
  {
   "cell_type": "code",
   "execution_count": null,
   "metadata": {},
   "outputs": [],
   "source": []
  },
  {
   "cell_type": "markdown",
   "metadata": {},
   "source": [
    "## 4. `block_until_ready()` and jit\n",
    "\n",
    "- first time slow: compiles. After that it's fast\n",
    "\n",
    "### why need `block_until_ready()`?\n",
    "- [Asynchronous dispatch](https://jax.readthedocs.io/en/latest/async_dispatch.html): Jax will return control to the Python program before finishing its operation\n",
    "- call val_and_grad, but block only the value: faster than blocking the gradient. I'm guessing this is because the gradient is not yet evaluated\n",
    "\n",
    "\n",
    "**Question:** `myarray.block_until_ready()` gives a different timing than `myarray[0].block_until_ready()`. I don't know why!"
   ]
  },
  {
   "cell_type": "code",
   "execution_count": 425,
   "metadata": {},
   "outputs": [
    {
     "name": "stdout",
     "output_type": "stream",
     "text": [
      "CPU times: user 4.37 ms, sys: 2.09 ms, total: 6.45 ms\n",
      "Wall time: 3.67 ms\n"
     ]
    },
    {
     "data": {
      "text/plain": [
       "DeviceArray(20.801914, dtype=float32)"
      ]
     },
     "execution_count": 425,
     "metadata": {},
     "output_type": "execute_result"
    }
   ],
   "source": [
    "%time grad_log_post(theta_true)[0].block_until_ready()"
   ]
  },
  {
   "cell_type": "code",
   "execution_count": 426,
   "metadata": {},
   "outputs": [
    {
     "name": "stdout",
     "output_type": "stream",
     "text": [
      "CPU times: user 15.4 ms, sys: 3.46 ms, total: 18.9 ms\n",
      "Wall time: 14.6 ms\n"
     ]
    },
    {
     "data": {
      "text/plain": [
       "DeviceArray(-950.9842, dtype=float32)"
      ]
     },
     "execution_count": 426,
     "metadata": {},
     "output_type": "execute_result"
    }
   ],
   "source": [
    "# just call the log_post\n",
    "%time log_post(theta_true).block_until_ready()"
   ]
  },
  {
   "cell_type": "code",
   "execution_count": 427,
   "metadata": {},
   "outputs": [
    {
     "data": {
      "text/plain": [
       "(DeviceArray(-950.9842, dtype=float32),\n",
       " DeviceArray([ 20.801914 ,  14.804819 , -18.99264  ,   8.012843 ,\n",
       "               -4.8643513,  21.087633 ,  -2.0005052,   6.074416 ,\n",
       "                4.3361273,  -6.395213 ], dtype=float32))"
      ]
     },
     "execution_count": 427,
     "metadata": {},
     "output_type": "execute_result"
    }
   ],
   "source": [
    "val_and_grad_log_post(theta_true)"
   ]
  },
  {
   "cell_type": "code",
   "execution_count": 428,
   "metadata": {},
   "outputs": [
    {
     "name": "stdout",
     "output_type": "stream",
     "text": [
      "CPU times: user 576 µs, sys: 104 µs, total: 680 µs\n",
      "Wall time: 454 µs\n"
     ]
    }
   ],
   "source": [
    "# block the value of the log_post\n",
    "%time a = val_and_grad_log_post(theta_true)[0].block_until_ready()"
   ]
  },
  {
   "cell_type": "code",
   "execution_count": 429,
   "metadata": {},
   "outputs": [
    {
     "name": "stdout",
     "output_type": "stream",
     "text": [
      "CPU times: user 3.26 ms, sys: 1.35 ms, total: 4.61 ms\n",
      "Wall time: 2.74 ms\n"
     ]
    },
    {
     "data": {
      "text/plain": [
       "DeviceArray(20.801914, dtype=float32)"
      ]
     },
     "execution_count": 429,
     "metadata": {},
     "output_type": "execute_result"
    }
   ],
   "source": [
    "# block the 0th element of the gradient array\n",
    "%time val_and_grad_log_post(theta_true)[1][0].block_until_ready()"
   ]
  },
  {
   "cell_type": "code",
   "execution_count": 430,
   "metadata": {},
   "outputs": [
    {
     "name": "stdout",
     "output_type": "stream",
     "text": [
      "CPU times: user 23 µs, sys: 6 µs, total: 29 µs\n",
      "Wall time: 34.8 µs\n"
     ]
    },
    {
     "data": {
      "text/plain": [
       "DeviceArray(-950.9842, dtype=float32)"
      ]
     },
     "execution_count": 430,
     "metadata": {},
     "output_type": "execute_result"
    }
   ],
   "source": [
    "%time a.block_until_ready()"
   ]
  },
  {
   "cell_type": "markdown",
   "metadata": {},
   "source": [
    "\n",
    "\n",
    "### when does jit compile the function?\n",
    "\n",
    "- The compiler looks at the *shapes* of the inputs, not the values, so if you pass in an array of different shape/type, it'll recompile. \n",
    "- See [this talk](https://slideslive.com/38923687/jax-accelerated-machinelearning-research-via-composable-function-transformations-in-python) at 24:35\n"
   ]
  },
  {
   "cell_type": "code",
   "execution_count": null,
   "metadata": {},
   "outputs": [],
   "source": []
  },
  {
   "cell_type": "code",
   "execution_count": null,
   "metadata": {},
   "outputs": [],
   "source": []
  },
  {
   "cell_type": "markdown",
   "metadata": {},
   "source": [
    "## 5. compare to numpy"
   ]
  },
  {
   "cell_type": "code",
   "execution_count": 431,
   "metadata": {},
   "outputs": [],
   "source": [
    "\n",
    "def onp_loglikelihood(theta, x_val, y_val):\n",
    "    return -onp_logsumexp(onp.array([0., (1.-2.*y_val)*onp.dot(theta, x_val)]))\n",
    "\n",
    "def onp_grad_loglikelihood(theta, x_val, y_val):\n",
    "    denominator = 1 + onp.exp((1-2*y_val)*onp.dot(theta, x_val))\n",
    "    return -(1-2*y_val)*x_val*onp.exp((1-2*y_val)*onp.dot(theta, x_val))/denominator\n",
    "\n",
    "def onp_log_prior(theta):\n",
    "    return -(0.5/10)*onp.dot(theta,theta)\n",
    "\n",
    "\n",
    "def onp_log_post(theta):\n",
    "    return onp_log_prior(theta) + onp.sum([onp_loglikelihood(theta, X[idx,:], y_data[idx]) for idx in range(len(y_data))])\n",
    "\n",
    "def onp_grad_log_post(theta):\n",
    "    return -(0.5/5)*theta + onp.sum([onp_grad_loglikelihood(theta, X[idx,:], y_data[idx]) for idx in range(len(y_data))], axis=0)\n",
    "\n"
   ]
  },
  {
   "cell_type": "markdown",
   "metadata": {},
   "source": [
    "##### check that they're the same as the Jax functions"
   ]
  },
  {
   "cell_type": "code",
   "execution_count": 432,
   "metadata": {
    "scrolled": true
   },
   "outputs": [
    {
     "name": "stdout",
     "output_type": "stream",
     "text": [
      "-950.9841866205513\n",
      "-950.9842\n"
     ]
    }
   ],
   "source": [
    "print(onp_log_post(theta_true))\n",
    "      \n",
    "print(log_post(theta_true))"
   ]
  },
  {
   "cell_type": "code",
   "execution_count": 433,
   "metadata": {},
   "outputs": [
    {
     "name": "stdout",
     "output_type": "stream",
     "text": [
      "[ 20.80200821  14.80479718 -18.99266289   8.01293391  -4.86431491\n",
      "  21.08752174  -2.00050171   6.07437987   4.33613178  -6.39520779]\n",
      "\n",
      " [ 20.801914   14.804819  -18.99264     8.012843   -4.8643513  21.087633\n",
      "  -2.0005052   6.074416    4.3361273  -6.395213 ]\n"
     ]
    }
   ],
   "source": [
    "print(onp_grad_log_post(theta_true))\n",
    "\n",
    "print(\"\\n\", grad_log_post(theta_true))"
   ]
  },
  {
   "cell_type": "markdown",
   "metadata": {},
   "source": [
    "### benchmarks\n",
    "\n",
    "Jax is 2 orders of magnitude faster than numpy in this case"
   ]
  },
  {
   "cell_type": "code",
   "execution_count": 434,
   "metadata": {},
   "outputs": [
    {
     "name": "stdout",
     "output_type": "stream",
     "text": [
      "CPU times: user 483 ms, sys: 62.2 ms, total: 545 ms\n",
      "Wall time: 493 ms\n"
     ]
    },
    {
     "data": {
      "text/plain": [
       "-950.9841866205513"
      ]
     },
     "execution_count": 434,
     "metadata": {},
     "output_type": "execute_result"
    }
   ],
   "source": [
    "%time onp_log_post(theta_true)"
   ]
  },
  {
   "cell_type": "code",
   "execution_count": 436,
   "metadata": {},
   "outputs": [
    {
     "name": "stdout",
     "output_type": "stream",
     "text": [
      "CPU times: user 14.9 ms, sys: 3.35 ms, total: 18.3 ms\n",
      "Wall time: 13.9 ms\n"
     ]
    },
    {
     "data": {
      "text/plain": [
       "DeviceArray(-950.9842, dtype=float32)"
      ]
     },
     "execution_count": 436,
     "metadata": {},
     "output_type": "execute_result"
    }
   ],
   "source": [
    "%time log_post(theta_true).block_until_ready()"
   ]
  },
  {
   "cell_type": "code",
   "execution_count": 437,
   "metadata": {},
   "outputs": [
    {
     "name": "stdout",
     "output_type": "stream",
     "text": [
      "CPU times: user 231 ms, sys: 59.1 ms, total: 291 ms\n",
      "Wall time: 239 ms\n"
     ]
    },
    {
     "data": {
      "text/plain": [
       "array([ 20.80200821,  14.80479718, -18.99266289,   8.01293391,\n",
       "        -4.86431491,  21.08752174,  -2.00050171,   6.07437987,\n",
       "         4.33613178,  -6.39520779])"
      ]
     },
     "execution_count": 437,
     "metadata": {},
     "output_type": "execute_result"
    }
   ],
   "source": [
    "%time onp_grad_log_post(theta_true)"
   ]
  },
  {
   "cell_type": "code",
   "execution_count": 439,
   "metadata": {},
   "outputs": [
    {
     "name": "stdout",
     "output_type": "stream",
     "text": [
      "CPU times: user 4.53 ms, sys: 2.32 ms, total: 6.84 ms\n",
      "Wall time: 3.98 ms\n"
     ]
    },
    {
     "data": {
      "text/plain": [
       "DeviceArray(20.801914, dtype=float32)"
      ]
     },
     "execution_count": 439,
     "metadata": {},
     "output_type": "execute_result"
    }
   ],
   "source": [
    "%time grad_log_post(theta_true)[0].block_until_ready()"
   ]
  },
  {
   "cell_type": "code",
   "execution_count": null,
   "metadata": {},
   "outputs": [],
   "source": []
  },
  {
   "cell_type": "markdown",
   "metadata": {},
   "source": [
    "## 6. Gradient descent\n",
    "\n",
    "- see this [blog post](https://ruder.io/optimizing-gradient-descent/) for an overview of gradient descent methods"
   ]
  },
  {
   "cell_type": "code",
   "execution_count": 440,
   "metadata": {},
   "outputs": [
    {
     "name": "stdout",
     "output_type": "stream",
     "text": [
      "Optimised param: [ 5.690995    1.3139335   3.0528789   7.1384883   5.97641    -3.0390542\n",
      "  3.0444841  -0.4649384  -0.32056868  1.2873008 ]\n",
      "\n",
      "\n",
      "True value of theta: [ 5.57842333  1.2654082   3.09504126  7.0863265   5.90573691 -3.09042401\n",
      "  3.00444338 -0.47863352 -0.32640667  1.29842647]\n"
     ]
    }
   ],
   "source": [
    "num_iters = 500\n",
    "learning_rate = 1e-3\n",
    "log_post_list = []\n",
    "\n",
    "\n",
    "param = onp.zeros(theta_true.shape)\n",
    "\n",
    "for i in range(num_iters):\n",
    "    param_log_post, param_grad =  val_and_grad_log_post(param)\n",
    "    log_post_list.append(param_log_post)\n",
    "    \n",
    "    # There's no minus sign as we're optimising the log_posterior, not the loss\n",
    "    param = param + learning_rate*param_grad \n",
    "    \n",
    "    \n",
    "print(f\"Optimised param: {param}\")\n",
    "print(\"\\n\")\n",
    "print(f\"True value of theta: {theta_true}\")"
   ]
  },
  {
   "cell_type": "code",
   "execution_count": 441,
   "metadata": {},
   "outputs": [
    {
     "data": {
      "text/plain": [
       "[<matplotlib.lines.Line2D at 0x213d43c70>]"
      ]
     },
     "execution_count": 441,
     "metadata": {},
     "output_type": "execute_result"
    },
    {
     "data": {
      "image/png": "[encoded data removed]",
      "text/plain": [
       "<Figure size 432x288 with 1 Axes>"
      ]
     },
     "metadata": {},
     "output_type": "display_data"
    }
   ],
   "source": [
    "plt.plot(log_post_list)"
   ]
  },
  {
   "cell_type": "code",
   "execution_count": null,
   "metadata": {},
   "outputs": [],
   "source": []
  }
 ],
 "metadata": {
  "kernelspec": {
   "display_name": "Python 3",
   "language": "python",
   "name": "python3"
  },
  "language_info": {
   "codemirror_mode": {
    "name": "ipython",
    "version": 3
   },
   "file_extension": ".py",
   "mimetype": "text/x-python",
   "name": "python",
   "nbconvert_exporter": "python",
   "pygments_lexer": "ipython3",
   "version": "3.8.5"
  }
 },
 "nbformat": 4,
 "nbformat_minor": 4
}
